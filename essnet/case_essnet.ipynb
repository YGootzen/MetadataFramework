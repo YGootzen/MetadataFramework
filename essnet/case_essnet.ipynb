{
 "cells": [
  {
   "cell_type": "markdown",
   "metadata": {},
   "source": [
    "# Test case: ESSnet MNO-MINDS\n",
    "Contains all graphs, data sets and models for the ESSnet MNO-MINDS test case."
   ]
  },
  {
   "cell_type": "code",
   "execution_count": 1,
   "metadata": {},
   "outputs": [],
   "source": [
    "import copy\n",
    "import metadata_analysis as md\n",
    "import itertools\n",
    "import pandas as pd\n",
    "from IPython.display import display, Markdown\n",
    "import ipywidgets as widgets"
   ]
  },
  {
   "cell_type": "markdown",
   "metadata": {},
   "source": [
    "# Variables and granularities\n",
    "Declare all variables and granularities that exist in the case study in `legend_variables`.  "
   ]
  },
  {
   "cell_type": "code",
   "execution_count": 2,
   "metadata": {},
   "outputs": [],
   "source": [
    "geo_region = {\n",
    "    \"granularities\": {\n",
    "        0: \"Neighbourhood\",\n",
    "        1: \"Municipality\",\n",
    "        2: \"Cell tower\"\n",
    "    },\n",
    "    \"conversion_edges\": [(0, 0)],\n",
    "    \"aggregation_edges\": [(0, 1)]\n",
    "}\n",
    "\n",
    "legend_variables = {\n",
    "    \"a\": {\n",
    "        \"name\": \"MNOOperator\",\n",
    "        \"granularities\": {\n",
    "            0: \"\"\n",
    "        },\n",
    "        \"conversion_edges\": [(0, 0)],\n",
    "        \"aggregation_edges\": [(0, 0)]\n",
    "    },\n",
    "    \"b\": {\n",
    "        \"name\": \"BackgroundCharacteristics\",\n",
    "        \"granularities\": {\n",
    "            0: \"\"\n",
    "        },\n",
    "        \"conversion_edges\": [(0, 0)],\n",
    "        \"aggregation_edges\": [(0, 0)]\n",
    "    },\n",
    "    \"c\": {\n",
    "        \"name\": \"VehicleCount\",\n",
    "        \"granularities\": {\n",
    "            0: \"\"\n",
    "        },\n",
    "        \"conversion_edges\": [(0, 0)],\n",
    "        \"aggregation_edges\": [(0, 0)]\n",
    "    },\n",
    "    \"d\": {\n",
    "        \"name\": \"Destination\",\n",
    "        \"granularities\": geo_region[\"granularities\"],\n",
    "        \"conversion_edges\": geo_region[\"conversion_edges\"],\n",
    "        \"aggregation_edges\": geo_region[\"aggregation_edges\"]\n",
    "    },\n",
    "    \"e\": {\n",
    "        \"name\": \"SampleInclusion\",\n",
    "        \"granularities\": {\n",
    "            0: \"NTS sampling design\"\n",
    "        },\n",
    "        \"conversion_edges\": [(0, 0)],\n",
    "        \"aggregation_edges\": [(0, 0)]\n",
    "    },\n",
    "    \"f\": {\n",
    "        \"name\": \"HasSensor\",\n",
    "        \"granularities\": {\n",
    "            0: \"Has traffic loop sensor\"\n",
    "        },\n",
    "        \"conversion_edges\": [(0, 0)],\n",
    "        \"aggregation_edges\": [(0, 0)]\n",
    "    },\n",
    "    \"l\": {\n",
    "        \"name\": \"Location\",\n",
    "        \"granularities\": geo_region[\"granularities\"],\n",
    "        \"conversion_edges\": geo_region[\"conversion_edges\"],\n",
    "        \"aggregation_edges\": geo_region[\"aggregation_edges\"]\n",
    "    },\n",
    "    \"m\": {\n",
    "        \"name\": \"Modality\",\n",
    "        \"granularities\": {\n",
    "            0: \"\"\n",
    "        },\n",
    "        \"conversion_edges\": [(0, 0)],\n",
    "        \"aggregation_edges\": [(0, 0)]\n",
    "    },\n",
    "    \"n\": {\n",
    "        \"name\": \"SimCount\",\n",
    "        \"granularities\": {\n",
    "            0: \"\"\n",
    "        },\n",
    "        \"conversion_edges\": [(0, 0)],\n",
    "        \"aggregation_edges\": [(0, 0)]\n",
    "    },\n",
    "    \"o\": {\n",
    "        \"name\": \"Origin\",\n",
    "        \"granularities\": geo_region[\"granularities\"],\n",
    "        \"conversion_edges\": geo_region[\"conversion_edges\"],\n",
    "        \"aggregation_edges\": geo_region[\"aggregation_edges\"]\n",
    "    },\n",
    "    \"p\": {\n",
    "        \"name\": \"Persons\",\n",
    "        \"granularities\": {\n",
    "            0: \"\"\n",
    "        },\n",
    "        \"conversion_edges\": [(0, 0)],\n",
    "        \"aggregation_edges\": [(0, 0)]\n",
    "    },\n",
    "    \"q\": {\n",
    "        \"name\": \"TripPurpose\",\n",
    "        \"granularities\": {\n",
    "            0: \"\"\n",
    "        },\n",
    "        \"conversion_edges\": [(0, 0)],\n",
    "        \"aggregation_edges\": [(0, 0)]\n",
    "    },\n",
    "    \"r\": {\n",
    "        \"name\": \"Route\",\n",
    "        \"granularities\": {\n",
    "            0: \"\"\n",
    "        },\n",
    "        \"conversion_edges\": [(0, 0)],\n",
    "        \"aggregation_edges\": [(0, 0)]\n",
    "    },\n",
    "    \"s\": {\n",
    "        \"name\": \"RoadSegment\",\n",
    "        \"granularities\": {\n",
    "            0: \"\"\n",
    "        },\n",
    "        \"conversion_edges\": [(0, 0)],\n",
    "        \"aggregation_edges\": [(0, 0)]\n",
    "    },\n",
    "    \"t\": {\n",
    "        \"name\": \"Time\",\n",
    "        \"granularities\": {\n",
    "            0: \"Minute\",\n",
    "            1: \"5 minute interval\",\n",
    "            2: \"Day part\",\n",
    "            3: \"Hour\",\n",
    "            4: \"Day\",\n",
    "            5: \"Year\"\n",
    "        },\n",
    "        \"conversion_edges\": [(0, 0)],\n",
    "        \"aggregation_edges\": [(0, 1), (0, 2), (0, 3), (3, 2), (3, 4), (4, 5)]\n",
    "    }\n",
    "}"
   ]
  },
  {
   "cell_type": "code",
   "execution_count": 3,
   "metadata": {},
   "outputs": [],
   "source": [
    "# Loop over all declared variables and create conversion and aggregation graphs \n",
    "# based on the edges specified above.\n",
    "\n",
    "for var_name, var_details in legend_variables.items():\n",
    "    # Creating the ConversionGraph and AggregationGraph objects here\n",
    "    # will add them to the list of instances kept globally in the memory\n",
    "    # So there is no need to save the graphs here separately.\n",
    "    cg_tmp = md.ConversionGraph(variable_name=var_name,  # MNO Operator\n",
    "                                granularities=var_details[\"granularities\"],\n",
    "                                conversion_edges=var_details[\"conversion_edges\"])\n",
    "    ag_tmp = md.AggregationGraph(variable_name=var_name,  # MNO Operator\n",
    "                                 granularities=var_details[\"granularities\"],\n",
    "                                 aggregation_edges=var_details[\"aggregation_edges\"])"
   ]
  },
  {
   "cell_type": "markdown",
   "metadata": {},
   "source": [
    "# Sets of included units\n",
    "These are required to define the data sets. The sets of included units are defined as follows:\n",
    "- I: all people in the population\n",
    "- II: people included in the sample used for the survey\n",
    "- III: people that have a single provider\n",
    "- XI: all road segments in a country\n",
    "- XII: all road segments where a raffic loop sensor is located\n",
    "\n",
    "For the scenario, we assume that all data sets are available for the same country and the same year."
   ]
  },
  {
   "cell_type": "code",
   "execution_count": 4,
   "metadata": {},
   "outputs": [],
   "source": [
    "# Define the sets of included units:\n",
    "soiu1 = md.SetOfIncludedUnits(name = \"I\", unit_type_var = md.Variable(\"p\", 0))  # unit type: people\n",
    "\n",
    "soiu2 = md.SetOfIncludedUnits(name = \"II\", unit_type_var = md.Variable(\"p\", 0),   # unit type: people\n",
    "                              specifying_variables = [md.VariableSpec(\"e\", 0, {1})])  # only people that responded to the survey\n",
    "\n",
    "soiu3 = md.SetOfIncludedUnits(name = \"III\", unit_type_var = md.Variable(\"p\", 0),   # unit type: people\n",
    "                              specifying_variables = [md.VariableSpec(\"a\", 0, {0})])  # a single provider\n",
    "\n",
    "soiu11 = md.SetOfIncludedUnits(name=\"XI\", unit_type_var=md.Variable(\"s\", 0))  # all road segments\n",
    "\n",
    "soiu12 = md.SetOfIncludedUnits(name=\"XII\", unit_type_var=md.Variable(\"s\", 0),\n",
    "                               specifying_variables=[md.VariableSpec(\"f\", 0, {1}),  # must have traffic loop sensor\n",
    "                                                     # only tranport modes that can be observed on road segments\n",
    "                                                     md.VariableSpec(\"m\", 0, {\"car\", \"motorbike\"})])"
   ]
  },
  {
   "cell_type": "code",
   "execution_count": 5,
   "metadata": {},
   "outputs": [],
   "source": [
    "all_soius = [soiu1, soiu2, soiu3, soiu11, soiu12]"
   ]
  },
  {
   "cell_type": "markdown",
   "metadata": {},
   "source": [
    "# Input data sets\n",
    "\n",
    "The following data sets are pre-defined and can be selected by the user:\n",
    "- Travel survey: Background information and transportation mode choice for a sample of the population. (M0|P0, T1)II \n",
    "- Administrative: Administrative data on individuals containing origin, destination, age and income. (B0, OD0|P0, T2)III \n",
    "- OSM and OTP: Open street map and OpenTripPlanner route information. (I0|OD0, M0)I \n",
    "- Route information: Segments used in routes between origin-destination pairs. (I0|I1, OD0)I \n",
    "- Traffic loop counts: Counts of travellers on road segment per minute. (C0|I0, T0)IV\n",
    "- MNO data: Counts of observed sim cards per cell tower region. The user may choose optional variables and the included units.\n"
   ]
  },
  {
   "cell_type": "code",
   "execution_count": 6,
   "metadata": {},
   "outputs": [],
   "source": [
    "# Define the data sets:\n",
    "# Note: it is not necesarry to name the md.Datasets, but it helps in understanding the use case (because these named data are used in the datasets as well as \n",
    "# in the model definitions)\n",
    "\n",
    "# Transportation Survey\n",
    "data_transport_survey = md.Data(name=\"NTS survey\",\n",
    "                    left_variables =[md.Variable(\"b\", 0),\n",
    "                                     md.Variable(\"m\", 0),\n",
    "                                     md.Variable(\"q\", 0)],\n",
    "                    right_variables =[md.Variable(\"p\", 0),\n",
    "                                      md.Variable(\"r\", 0),\n",
    "                                      md.Variable(\"t\", 1)],\n",
    "                                      set_of_units=soiu2)   # set of included units II\n",
    "# Administrative: Population Register\n",
    "data_pop_register = md.Data(name=\"Population Register\",  # abbreviation: TPR \n",
    "                     left_variables =[md.Variable(\"b\", 0),\n",
    "                                      md.Variable(\"d\", 0),\n",
    "                                      md.Variable(\"o\", 0)],\n",
    "                     right_variables =[md.Variable(\"p\", 0),\n",
    "                                       md.Variable(\"t\", 2)],\n",
    "                     set_of_units=soiu1)  # all people\n",
    "# Census (aggregated to OD)\n",
    "data_census = md.Data(name=\"Census\",  \n",
    "                     left_variables =[md.Variable(\"b\", 0),\n",
    "                                      md.Variable(\"p\", 0)],\n",
    "                     right_variables =[md.Variable(\"o\", 0),\n",
    "                                       md.Variable(\"d\", 0)],\n",
    "                     set_of_units=soiu1)  # all people\n",
    "\n",
    "# Traffic loop counts\n",
    "data_traffic_loops = md.Data(name = \"Traffic Loops\",\n",
    "                             left_variables =[md.Variable(\"c\", 0)],\n",
    "                             right_variables =[md.Variable(\"s\", 0), \n",
    "                                               md.Variable(\"t\", 0), \n",
    "                                               md.Variable(\"m\", 0)],\n",
    "                             set_of_units=soiu12)  # road segments with traffic loops for cars\n",
    "                              \n",
    "# Route information\n",
    "data_routes = md.Data(left_variables=[md.Variable(\"s\", 0)],\n",
    "                      right_variables=[md.Variable(\"o\", 0),\n",
    "                                       md.Variable(\"d\", 0),\n",
    "                                       md.Variable(\"r\", 0)],\n",
    "                      set_of_units=soiu1,  # set_of_units I\n",
    "                      name=\"route data\")"
   ]
  },
  {
   "cell_type": "code",
   "execution_count": 7,
   "metadata": {},
   "outputs": [],
   "source": [
    "# data sets for user choice of start data set\n",
    "start_set_potential = [data_transport_survey, data_pop_register, data_census, data_traffic_loops, data_routes]"
   ]
  },
  {
   "cell_type": "markdown",
   "metadata": {},
   "source": [
    "### MNO data\n",
    "Many variants of MNO data can exist. Aspects such as coverage and included variables influence the output. Below, we prepare for user input."
   ]
  },
  {
   "cell_type": "code",
   "execution_count": 8,
   "metadata": {},
   "outputs": [],
   "source": [
    "# Dictionary to store dropdowns (key: name, value: widget)\n",
    "dropdowns = {}\n",
    "\n",
    "# Define dropdown options\n",
    "dropdowns[\"mno_variant_provider\"] = md.create_dropdown(\"Select available provider:\",\n",
    "                                                    [\"Single provider\", \"All providers\"])\n",
    "\n",
    "dropdowns[\"mno_variant_home_location\"] = md.create_dropdown(\"Is home location available?\",\n",
    "                                                         [\"Home location available\", \"No home location\"])"
   ]
  },
  {
   "cell_type": "code",
   "execution_count": 9,
   "metadata": {},
   "outputs": [],
   "source": [
    "def create_mno_data(dropdowns):\n",
    "    # compose MNO data based on user input from dropdowns\n",
    "    mno_left_variables = [md.Variable(\"n\", 0)]\n",
    "    mno_right_variables = [md.Variable(\"l\", 2),\n",
    "                        md.Variable(\"t\", 3)]\n",
    "\n",
    "    # Based on user input in the dropdowns, adjust \n",
    "    match dropdowns[\"mno_variant_provider\"].value:\n",
    "        case \"Single provider\":\n",
    "            mno_set_of_units = soiu3\n",
    "        case \"All providers\":\n",
    "            mno_set_of_units = soiu1\n",
    "            mno_right_variables.append(md.Variable(\"a\", 0))  # The providers are known in the combined MNO data set\n",
    "            # TODO: in this case, we may want to have one MNO source for each provider, since the location granularity on cell tower level is unique for each provider\n",
    "            # location estimation methods may have a varying degree of accuracy per provider. So it could be that one provider can be translated to a more detailed\n",
    "            # spatial resolution than another provider.\n",
    "\n",
    "    match dropdowns[\"mno_variant_home_location\"].value:\n",
    "        case \"Home location available\":\n",
    "            mno_right_variables.append(md.Variable(\"o\", 2))  # Home location (origin) is available\n",
    "        case \"No home location\":\n",
    "            pass  # no need to add a variable\n",
    "\n",
    "    return md.Data(left_variables=mno_left_variables,\n",
    "                   right_variables=mno_right_variables,\n",
    "                   set_of_units=mno_set_of_units,\n",
    "                   name=\"MNO data\")"
   ]
  },
  {
   "cell_type": "markdown",
   "metadata": {},
   "source": [
    "# Goal definition\n",
    "This is the target output, defined in terms of a dataset."
   ]
  },
  {
   "cell_type": "code",
   "execution_count": 10,
   "metadata": {},
   "outputs": [],
   "source": [
    "goal_mno_1 = md.Data(left_variables =[md.Variable(\"p\", 0)],\n",
    "                   right_variables =[md.Variable(\"l\", 1),\n",
    "                                  md.Variable(\"t\", 2)],\n",
    "                                  set_of_units=soiu1,  # set_of_units I\n",
    "                                  name = \"Commuters location all providers per day-part\")\n",
    "\n",
    "goal_mno_2 = md.Data(left_variables =[md.Variable(\"p\", 0)],\n",
    "                     right_variables =[md.Variable(\"o\", 1),\n",
    "                                  md.Variable(\"l\", 1),\n",
    "                                  md.Variable(\"t\", 2)],\n",
    "                                  set_of_units=soiu3,  # set_of_units III\n",
    "                                  name = \"Commuters origin-location single provider per day-part\")\n",
    "\n",
    "goal_mno_3 = md.Data(left_variables=[md.Variable(\"p\", 0)],\n",
    "                     right_variables=[md.Variable(\"o\", 1),\n",
    "                                      md.Variable(\"l\", 1),\n",
    "                                      md.Variable(\"t\", 3)],\n",
    "                     set_of_units=soiu3,  # set_of_units III\n",
    "                     name=\"Commuters origin-location single provider per hour\")"
   ]
  },
  {
   "cell_type": "code",
   "execution_count": 11,
   "metadata": {},
   "outputs": [],
   "source": [
    "goal_options = [goal_mno_1, goal_mno_2, goal_mno_3]"
   ]
  },
  {
   "cell_type": "markdown",
   "metadata": {},
   "source": [
    "# Models\n",
    "The following models are available:\n",
    "- Modality choice model\n",
    "- Shortest path model\n",
    "- Calibration model (of people to observed cars)\n",
    "- Sim card to person calibration model"
   ]
  },
  {
   "cell_type": "code",
   "execution_count": 12,
   "metadata": {},
   "outputs": [],
   "source": [
    "# Modality choice model\n",
    "\n",
    "class ModelModalityChoice(md.Model):\n",
    "    def __init__(self):\n",
    "        self.name = \"Modality Choice model\"\n",
    "        self.input_data = [md.Data(left_variables=[md.Variable(\"b\", 0),  # source 0\n",
    "                                                   md.Variable(\"o\", 0),\n",
    "                                                   md.Variable(\"d\", 0)],\n",
    "                                   right_variables=[md.Variable(\"p\", 0),\n",
    "                                                    md.Variable(\"t\", 2)],\n",
    "                                   set_of_units=md.SetOfIncludedUnits(name=\"Y\")),\n",
    "                           md.Data(left_variables=[md.Variable(\"m\", 0)],  # source 1\n",
    "                                   right_variables=[md.Variable(\"p\", 0),\n",
    "                                                    md.Variable(\"t\", 2)],\n",
    "                                   set_of_units=md.SetOfIncludedUnits(name=\"X\"))]\n",
    "        self.output_data = md.Data(left_variables=[md.Variable(\"p\", 0)],\n",
    "                                   right_variables=[md.Variable(\"o\", 0),\n",
    "                                                    md.Variable(\"d\", 0),\n",
    "                                                    md.Variable(\"m\", 0),\n",
    "                                                    md.Variable(\"t\", 2)],\n",
    "                                   set_of_units=md.SetOfIncludedUnits(name=\"Y\"))\n",
    "        self.units_rule = \"custom\"  # X is a subset of Y\n",
    "        \n",
    "            \n",
    "    def apply(self, potential_input):\n",
    "        # If each source in the required input (self.input_data) is present in the potential_input, then the model is applicable\n",
    "        # We \"accept\" a data set without regarding the set_of_units, only the left and right variables must match exactly, because the models were defined with dummy set_of_units\n",
    "        \n",
    "        # Check if both sources are availble (variables only)\n",
    "        source_match_0 = any([ds.shrink_variables_only(self.input_data[0]) for ds in potential_input])\n",
    "        source_match_1 = any([ds.shrink_variables_only(self.input_data[1]) for ds in potential_input])\n",
    "        \n",
    "        if source_match_0 and source_match_1:\n",
    "            # Now the variables match, we'll inspect the population (set_of_units)\n",
    "            # For all sources that match based on variables, we take the set_of_units so we can apply the set_of_units check(s)\n",
    "            units_matches_0 = [ds.set_of_units for ds in potential_input if ds.shrink_variables_only(self.input_data[0])]\n",
    "            units_matches_1 = [ds.set_of_units for ds in potential_input if ds.shrink_variables_only(self.input_data[1])]\n",
    "            \n",
    "            # Output list: here we will add any valid outcomes based on the inputs\n",
    "            output_list = []\n",
    "\n",
    "            # We have one or more matches for both data sources. Now let's check if there is a combination that satisfies the set_of_units condition \n",
    "            # For this model: C1 is a subset of C0, then the set_of_units is C0\n",
    "\n",
    "            for soiu0, soiu1 in itertools.product(units_matches_0, units_matches_1):\n",
    "                # Check all combinations of potential C0's and C1's\n",
    "                if soiu1.is_subset(soiu0): # is C1(X) a subset of C0(Y)?\n",
    "                    # Yes, there is a combination that satisfies the condition\n",
    "                    # set_of_units X is a subset of set_of_units Y\n",
    "                    output_data_temp = copy.deepcopy(self.output_data)  # copy the output_data\n",
    "                    output_data_temp.set_of_units = soiu0  # overwrite the set_of_units (output is Y)\n",
    "                    output_data_temp.reset_score()\n",
    "                    output_list.append(output_data_temp)\n",
    "            if len(output_list)>0:\n",
    "                return output_list\n",
    "        \n",
    "        return False\n",
    "            "
   ]
  },
  {
   "cell_type": "code",
   "execution_count": 13,
   "metadata": {},
   "outputs": [],
   "source": [
    "# Shortest path model\n",
    "class ModelShortestPath(md.Model):\n",
    "    def __init__(self):\n",
    "        self.name = \"Shortest Path model\"\n",
    "        self.input_data = [md.Data(left_variables =[md.Variable(\"p\", 0)], # source 0\n",
    "                                   right_variables=[md.Variable(\"o\", 0),\n",
    "                                                    md.Variable(\"d\", 0),\n",
    "                                                     md.Variable(\"t\", 2)],  \n",
    "                                   set_of_units=md.SetOfIncludedUnits(name=\"X\"),\n",
    "                                   name = \"data_in_1\"),\n",
    "                           md.Data(left_variables =[md.Variable(\"s\", 0)],  # source 1\n",
    "                                   right_variables=[md.Variable(\"o\", 0),\n",
    "                                                    md.Variable(\"d\", 0),\n",
    "                                                     md.Variable(\"r\", 0)],\n",
    "                                    set_of_units=md.SetOfIncludedUnits(name=\"Y\"))]  \n",
    "        self.output_data = md.Data(left_variables =[md.Variable(\"p\", 0)],\n",
    "                                    right_variables =[md.Variable(\"s\", 0),\n",
    "                                                      md.Variable(\"t\", 2)],\n",
    "                                    set_of_units=md.SetOfIncludedUnits(name=\"Y\"))\n",
    "        self.units_rule = \"custom\"\n",
    "        \n",
    "            \n",
    "    def apply(self, potential_input):\n",
    "        # If each source in the required input (self.input_data) is present in the potential_input, then the model is applicable\n",
    "        # We \"accept a data set\" without regarding the set_of_units, only the left and right variables must match exactly\n",
    "        \n",
    "        # For this model, the output set_of_units is equal to the set_of_units of source 1 (so the second model in the list: (R0|R1, OD0))\n",
    "        \n",
    "        # Check if source 0 is availble (variables only)\n",
    "        source_match_0 = any([ds.shrink_variables_only(self.input_data[0]) for ds in potential_input])\n",
    "        source_match_1 = any([ds.shrink_variables_only(self.input_data[1]) for ds in potential_input])\n",
    "        \n",
    "        if source_match_0 and source_match_1:\n",
    "            # Check if source 1 is available \n",
    "            # For all sources that match based on variables, we take the set_of_units so we can apply the set_of_units check(s)\n",
    "            units_matches_1 = [ds.set_of_units for ds in potential_input if ds.shrink_variables_only(self.input_data[1])]\n",
    "\n",
    "            # Output list: here we will add any valid outcomes based on the inputs\n",
    "            output_list = []\n",
    "\n",
    "            # We have one or more matches for data source. Now let's check if there is a combination that satisfies the set_of_units condition \n",
    "            # For this model: C1 is a subset of C0, then the set_of_units is C0\n",
    "\n",
    "            for c1 in units_matches_1:\n",
    "                # This set_of_units will be the set_of_units of the output source\n",
    "                output_data_temp = copy.deepcopy(self.output_data)  # copy the output_data\n",
    "                output_data_temp.set_of_units = c1  # overwrite the set_of_units \n",
    "                output_data_temp.reset_score()\n",
    "                output_list.append(output_data_temp)\n",
    "                \n",
    "            if len(output_list)>0:\n",
    "                \n",
    "                return output_list\n",
    "        else:\n",
    "            return False\n",
    "            "
   ]
  },
  {
   "cell_type": "code",
   "execution_count": 14,
   "metadata": {},
   "outputs": [],
   "source": [
    "# Calibration model\n",
    "class ModelCalibration(md.Model):\n",
    "    def __init__(self):\n",
    "        self.name = \"Calibration Vehicle to Person\"\n",
    "        self.input_data = [md.Data(left_variables =[md.Variable(\"c\", 0),\n",
    "                                                md.Variable(\"p\", 0)], # source 0\n",
    "                                    right_variables =[md.Variable(\"s\", 0),\n",
    "                                                     md.Variable(\"t\", 2)],\n",
    "                                set_of_units=md.SetOfIncludedUnits(name=\"X\")),\n",
    "                               md.Data(left_variables =[md.Variable(\"p\", 0)],  # source 1\n",
    "                                    right_variables =[md.Variable(\"s\", 0),\n",
    "                                                     md.Variable(\"t\", 2)],\n",
    "                                    set_of_units=md.SetOfIncludedUnits(name=\"Y\"))]  \n",
    "        self.output_data = md.Data(left_variables =[md.Variable(\"c\", 0)],\n",
    "                                    right_variables =[md.Variable(\"s\", 0),\n",
    "                                                      md.Variable(\"t\", 2)],\n",
    "                                    set_of_units=md.SetOfIncludedUnits(name=\"Y\"))\n",
    "        self.units_rule = \"custom\"\n",
    "\n",
    "        # In general, X is expected to be a smaller set than Y. X is used for training. \n",
    "        # X does not necesarilly need to be a subset of Y, though that would probably be \n",
    "        # better for model performance.\n",
    "        \n",
    "        # The variable t_2 can be selected as t_2 == \"morning rush hour\" and be constant. It is then \n",
    "        # put in the set_of_units.\n",
    "            \n",
    "    def apply(self, potential_input):\n",
    "        # If each source in the required input (self.input_data) is present in the potential_input, then the model is applicable\n",
    "        # We \"accept a data set\" without regarding the set_of_units, only the left and right variables must match exactly\n",
    "        \n",
    "        # For this model, the output set_of_units is equal to the set_of_units of source 1 (so the second model in the list: (R0|R1, OD0))\n",
    "        \n",
    "        # Check if source 0 is availble (variables only)\n",
    "        source_match_0 = any([ds.shrink_variables_only(self.input_data[0]) for ds in potential_input])\n",
    "        source_match_1 = any([ds.shrink_variables_only(self.input_data[1]) for ds in potential_input])\n",
    "        \n",
    "        if source_match_0 and source_match_1:\n",
    "            # For all sources that match based on variables, we take the set_of_units so we can apply the set_of_units check(s)\n",
    "            units_matches_1 = [ds.set_of_units for ds in potential_input if ds.shrink_variables_only(self.input_data[1])]\n",
    "\n",
    "            # Output list: here we will add any legal outcomes based on the inputs\n",
    "            output_list = []\n",
    "\n",
    "            # We have one or more matches for data source. Now let's check if there is a combination that satisfies the set_of_units condition \n",
    "            # For this model: C1 is a subset of C0, then the set_of_units is C0\n",
    "\n",
    "            for c1 in units_matches_1:\n",
    "                # This set_of_units will be the set_of_units of the output source\n",
    "                output_data_temp = copy.deepcopy(self.output_data)  # copy the output_data\n",
    "                output_data_temp.reset_score()\n",
    "                output_data_temp.set_of_units = c1  # overwrite the set_of_units \n",
    "                output_list.append(output_data_temp)\n",
    "            if len(output_list)>0:\n",
    "                return output_list\n",
    "        else:\n",
    "            return False\n",
    "            \n"
   ]
  },
  {
   "cell_type": "code",
   "execution_count": 15,
   "metadata": {},
   "outputs": [],
   "source": [
    "# Sim to person\n",
    "\n",
    "class ModelCalibrateSimtoPerson1(md.Model):\n",
    "    def __init__(self):\n",
    "        self.name = \"Calibration Sim to Person model (1)\"\n",
    "        self.input_data = [md.Data(left_variables =[md.Variable(\"n\", 0)], # source 0 (MNO)\n",
    "                                   right_variables =[md.Variable(\"o\", 1),\n",
    "                                                     md.Variable(\"l\", 1),\n",
    "                                                     md.Variable(\"t\", 2)],\n",
    "                                   set_of_units=md.SetOfIncludedUnits(name=\"Y\"), # C0: Y\n",
    "                                   name=\"MNO data (sim)\"),\n",
    "                                   md.Data(left_variables =[md.Variable(\"p\", 0)],  # source 1 (admin)\n",
    "                                           right_variables =[md.Variable(\"o\", 1),\n",
    "                                                             md.Variable(\"t\", 2)],\n",
    "                                           set_of_units=md.SetOfIncludedUnits(name=\"X\"),  # C1: X\n",
    "                                           name=\"expected persons\")]  \n",
    "        self.output_data = md.Data(left_variables =[md.Variable(\"p\", 0)],\n",
    "                                   right_variables =[md.Variable(\"o\", 1),\n",
    "                                                     md.Variable(\"l\", 1),\n",
    "                                                     md.Variable(\"t\", 2)],\n",
    "                                   set_of_units=md.SetOfIncludedUnits(name=\"X\"),\n",
    "                                   name=\"MNO data (persons)\")\n",
    "        self.units_rule = \"custom\" \n",
    "\n",
    "    def apply(self, potential_input):\n",
    "        # If each source in the required input (self.input_data) is present in the potential_input, then the model is applicable\n",
    "        # We \"accept\" a data set without regarding the set_of_units, only the left and right variables must match exactly, because the models were defined with dummy set_of_units\n",
    "\n",
    "        # For this model, the output set_of_units is equal to the set_of_units of input data 1 (admin (P0|D1, O1, T2): X\n",
    "        # If Y is a subset of X\n",
    "\n",
    "        # Check if both sources are availble (variables only)\n",
    "        source_match_0 = any([ds.shrink_variables_only(\n",
    "            self.input_data[0]) for ds in potential_input])\n",
    "        source_match_1 = any([ds.shrink_variables_only(\n",
    "            self.input_data[1]) for ds in potential_input])\n",
    "\n",
    "        if source_match_0 and source_match_1:\n",
    "            # Now the variables match, we'll inspect the population (set_of_units)\n",
    "            # For all sources that match based on variables, we take the set_of_units so we can apply the set_of_units check(s)\n",
    "            units_matches_0 = [\n",
    "                ds.set_of_units for ds in potential_input if ds.shrink_variables_only(self.input_data[0])]  # Y\n",
    "            units_matches_1 = [\n",
    "                ds.set_of_units for ds in potential_input if ds.shrink_variables_only(self.input_data[1])]  # X\n",
    "\n",
    "            # Output list: here we will add any valid outcomes based on the inputs\n",
    "            output_list = []\n",
    "\n",
    "            # We have one or more matches for both data sources. Now let's check if there is a combination that satisfies the set_of_units condition\n",
    "            # For this model: C1 is a subset of C0, then the set_of_units is C0\n",
    "\n",
    "            for soiu0, soiu1 in itertools.product(units_matches_0, units_matches_1):\n",
    "                # Check all combinations of potential C0's and C1's\n",
    "                if soiu0.is_subset(soiu1):  # is C1(X) a subset of C0(Y)?\n",
    "                    # Yes, there is a combination that satisfies the condition\n",
    "                    # set_of_units Y is a subset of set_of_units X\n",
    "                    output_data_temp = copy.deepcopy(\n",
    "                        self.output_data)  # copy the output_data\n",
    "                    # overwrite the set_of_units (output is X)\n",
    "                    output_data_temp.set_of_units = soiu1\n",
    "                    output_data_temp.reset_score()\n",
    "                    output_list.append(output_data_temp)\n",
    "            if len(output_list) > 0:\n",
    "                return output_list\n",
    "\n",
    "        return False\n",
    "\n",
    "             \n",
    "        "
   ]
  },
  {
   "cell_type": "code",
   "execution_count": 16,
   "metadata": {},
   "outputs": [],
   "source": [
    "# Sim to person\n",
    "\n",
    "class ModelCalibrateSimtoPerson2(md.Model):\n",
    "    \"\"\"\n",
    "    Same as ModelCalibrateSimtoPerson1, but with variable a0 as right variable for the first dataset. It will work with both version.\n",
    "    TODO: once shrink rhs is implemented, this should be superfluous.\n",
    "    \"\"\"\n",
    "    def __init__(self):\n",
    "        self.name = \"Calibration Sim to Person model (2)\"\n",
    "        self.input_data = [md.Data(left_variables=[md.Variable(\"n\", 0)],  # source 0 (MNO)\n",
    "                                   right_variables=[md.Variable(\"o\", 1),\n",
    "                                                    md.Variable(\"l\", 1),\n",
    "                                                    md.Variable(\"t\", 2),\n",
    "                                                    md.Variable(\"a\", 0)],\n",
    "                                   set_of_units=md.SetOfIncludedUnits(\n",
    "                                       name=\"X\"),\n",
    "                                   name=\"MNO data (sim)\"),\n",
    "                           md.Data(left_variables=[md.Variable(\"p\", 0)],  # source 1 (admin)\n",
    "                                   right_variables=[md.Variable(\"o\", 1),\n",
    "                                                    md.Variable(\"t\", 2)],\n",
    "                                   set_of_units=md.SetOfIncludedUnits(\n",
    "                               name=\"X\"),\n",
    "            name=\"expected persons\")]\n",
    "        self.output_data = md.Data(left_variables=[md.Variable(\"p\", 0)],\n",
    "                                   right_variables=[md.Variable(\"o\", 1),\n",
    "                                                    md.Variable(\"l\", 1),\n",
    "                                                    md.Variable(\"t\", 2)],\n",
    "                                   set_of_units=md.SetOfIncludedUnits(\n",
    "                                       name=\"X\"),\n",
    "                                   name=\"MNO data (persons)\")\n",
    "        self.units_rule = \"custom\"\n",
    "\n",
    "    def apply(self, potential_input):\n",
    "        # If each source in the required input (self.input_data) is present in the potential_input, then the model is applicable\n",
    "        # We \"accept\" a data set without regarding the set_of_units, only the left and right variables must match exactly, because the models were defined with dummy set_of_units\n",
    "\n",
    "        # For this model, the output set_of_units is equal to the set_of_units of input data 1 (admin (P0|D1, O1, T2): X\n",
    "        # If Y is a subset of X\n",
    "\n",
    "        # Check if both sources are availble (variables only)\n",
    "        source_match_0 = any([ds.shrink_variables_only(\n",
    "            self.input_data[0]) for ds in potential_input])\n",
    "        source_match_1 = any([ds.shrink_variables_only(\n",
    "            self.input_data[1]) for ds in potential_input])\n",
    "\n",
    "        if source_match_0 and source_match_1:\n",
    "            # Now the variables match, we'll inspect the population (set_of_units)\n",
    "            # For all sources that match based on variables, we take the set_of_units so we can apply the set_of_units check(s)\n",
    "            units_matches_0 = [\n",
    "                ds.set_of_units for ds in potential_input if ds.shrink_variables_only(self.input_data[0])]  # Y\n",
    "            units_matches_1 = [\n",
    "                ds.set_of_units for ds in potential_input if ds.shrink_variables_only(self.input_data[1])]  # X\n",
    "\n",
    "            # Output list: here we will add any valid outcomes based on the inputs\n",
    "            output_list = []\n",
    "\n",
    "            # We have one or more matches for both data sources. Now let's check if there is a combination that satisfies the set_of_units condition\n",
    "            # For this model: C1 is a subset of C0, then the set_of_units is C0\n",
    "\n",
    "            for soiu0, soiu1 in itertools.product(units_matches_0, units_matches_1):\n",
    "                # Check all combinations of potential C0's and C1's\n",
    "                if soiu0.is_subset(soiu1):  # is C1(X) a subset of C0(Y)?\n",
    "                    # Yes, there is a combination that satisfies the condition\n",
    "                    # set_of_units Y is a subset of set_of_units X\n",
    "                    output_data_temp = copy.deepcopy(\n",
    "                        self.output_data)  # copy the output_data\n",
    "                    # overwrite the set_of_units (output is X)\n",
    "                    output_data_temp.set_of_units = soiu1\n",
    "                    output_data_temp.reset_score()\n",
    "                    output_list.append(output_data_temp)\n",
    "            if len(output_list) > 0:\n",
    "                return output_list\n",
    "\n",
    "        return False"
   ]
  },
  {
   "cell_type": "code",
   "execution_count": 17,
   "metadata": {},
   "outputs": [],
   "source": [
    "class ModelCreateOD(md.Model):\n",
    "    def __init__(self):\n",
    "        self.name = \"Create OD matrix\"\n",
    "        self.input_data = [md.Data(left_variables =[md.Variable(\"b\", 0),\n",
    "                                                    md.Variable(\"o\", 0),\n",
    "                                                    md.Variable(\"d\", 0)], # source 0 (MNO)\n",
    "                                   right_variables =[md.Variable(\"p\", 0),\n",
    "                                                     md.Variable(\"t\", 2)],\n",
    "                                   set_of_units=md.SetOfIncludedUnits(name=\"X\"),\n",
    "                                   name=\"admin data\")]  \n",
    "        self.output_data = md.Data(left_variables =[md.Variable(\"p\", 0)],\n",
    "                                   right_variables =[md.Variable(\"o\", 0),\n",
    "                                                     md.Variable(\"d\", 0),\n",
    "                                                     md.Variable(\"t\", 2)],\n",
    "                                   set_of_units=md.SetOfIncludedUnits(name=\"X\"),\n",
    "                                   name=\"admin-based OD\")\n",
    "        self.units_rule = \"equal\"  "
   ]
  },
  {
   "cell_type": "markdown",
   "metadata": {},
   "source": [
    "Model: Location estimation data for MNO\n",
    "\n",
    "The location estimation model for MNO dta allows for variables that are based on geographic region to be transformed from G_2 to G_1. Given enough accuracy of the model and available data on cell towers, the model may potentially allow for a transformation from G_2 to G_0. For now, we assume the model is available for G_2 to G_1. Given this assumption, the most logical implementation is to update the aggregation graph of all variables based on geographic region. We want this model to be optional however, so it has been implemented as a single use model, which is applied once before the path search starts (if it is available).\n"
   ]
  },
  {
   "cell_type": "code",
   "execution_count": 18,
   "metadata": {},
   "outputs": [],
   "source": [
    "class ModelLocationEstimation(md.ModelSingleUse):\n",
    "    def __init__(self, name, variables_to_alter, node_from, node_to):\n",
    "        self.name = name\n",
    "        self.variables_to_alter = variables_to_alter\n",
    "        self.node_from = node_from\n",
    "        self.node_to = node_to\n",
    "\n",
    "    def apply(self):\n",
    "        \"\"\"\n",
    "        The location estimation model is applicable to all variables based on geographic region. \n",
    "        Introducing some uncertainty, it provides a way to translate cell tower coverage areas\n",
    "        (self.node_to = 2) to municipalities (self.node_to = 1) or neighbourhoods (self.node_to = 0). \n",
    "        \n",
    "        Assumption: this model is trained for all providers of the MNO data.\n",
    "        \"\"\"\n",
    "\n",
    "        for varname in self.variables_to_alter:\n",
    "            agg_graph_tmp = md.AggregationGraph.get(varname)\n",
    "            agg_graph_tmp.add_aggregation_edge((self.node_from, self.node_to))  # add the node\n",
    "        "
   ]
  },
  {
   "cell_type": "code",
   "execution_count": 19,
   "metadata": {},
   "outputs": [],
   "source": [
    "m1 = ModelModalityChoice()\n",
    "m2 = ModelShortestPath()\n",
    "m3 = ModelCalibration()\n",
    "m4_1 = ModelCalibrateSimtoPerson1()\n",
    "m4_2 = ModelCalibrateSimtoPerson2()\n",
    "m5 = ModelCreateOD()\n",
    "m6_1 = ModelLocationEstimation(name = \"Location estimation (crude)\",\n",
    "    variables_to_alter=[\"d\", \"l\", \"o\"], node_from=2, node_to=1)\n",
    "m6_2 = ModelLocationEstimation(name = \"Location estimation (detailed)\",\n",
    "    variables_to_alter=[\"d\", \"l\", \"o\"], node_from=2, node_to=0)\n",
    "\n",
    "potential_models_mno = [m1, m2, m3, m4_1, m4_2, m5, m6_1, m6_2]\n",
    "\n",
    "#models_mno = [m4, m5]"
   ]
  },
  {
   "cell_type": "markdown",
   "metadata": {},
   "source": [
    "# Show legends"
   ]
  },
  {
   "cell_type": "code",
   "execution_count": 20,
   "metadata": {},
   "outputs": [
    {
     "name": "stdout",
     "output_type": "stream",
     "text": [
      "\u001b[1m----------Variables and granularities (legend)----------\u001b[0m\n",
      "a: MNOOperator\n",
      "b: BackgroundCharacteristics\n",
      "c: VehicleCount\n",
      "d: Destination\n",
      "   d0: Neighbourhood\n",
      "   d1: Municipality\n",
      "   d2: Cell tower\n",
      "e: SampleInclusion\n",
      "   e0: NTS sampling design\n",
      "f: HasSensor\n",
      "   f0: Has traffic loop sensor\n",
      "l: Location\n",
      "   l0: Neighbourhood\n",
      "   l1: Municipality\n",
      "   l2: Cell tower\n",
      "m: Modality\n",
      "n: SimCount\n",
      "o: Origin\n",
      "   o0: Neighbourhood\n",
      "   o1: Municipality\n",
      "   o2: Cell tower\n",
      "p: Persons\n",
      "q: TripPurpose\n",
      "r: Route\n",
      "s: RoadSegment\n",
      "t: Time\n",
      "   t0: Minute\n",
      "   t1: 5 minute interval\n",
      "   t2: Day part\n",
      "   t3: Hour\n",
      "   t4: Day\n",
      "   t5: Year\n"
     ]
    }
   ],
   "source": [
    "# Show the legend of variables and granularities\n",
    "md.legend_print(legend_variables)"
   ]
  },
  {
   "cell_type": "code",
   "execution_count": 21,
   "metadata": {},
   "outputs": [
    {
     "name": "stdout",
     "output_type": "stream",
     "text": [
      "\u001b[1m----------Sets of included units (legend)----------\u001b[0m\n",
      "I: {p_0 -- }\n",
      "II: {p_0 -- e_0: {1}}\n",
      "III: {p_0 -- a_0: {0}}\n",
      "XI: {s_0 -- }\n",
      "XII: {s_0 -- f_0: {1}, m_0: {car, motorbike}}\n"
     ]
    }
   ],
   "source": [
    "# Sets of included units\n",
    "print(\"\\033[1m----------Sets of included units (legend)----------\\033[0m\")\n",
    "\n",
    "for soiu in all_soius:\n",
    "    print(soiu)\n"
   ]
  },
  {
   "cell_type": "code",
   "execution_count": 22,
   "metadata": {},
   "outputs": [
    {
     "name": "stdout",
     "output_type": "stream",
     "text": [
      "\u001b[1m----------Data sets (legend)----------\u001b[0m\n",
      "NTS survey (b_0, m_0, q_0 | p_0, r_0, t_1)_II: \n",
      "   BackgroundCharacteristics[], Modality[], TripPurpose[] \n",
      "   per \n",
      "   Persons[], Route[], Time[5 minute interval] \n",
      "   for set of included units II.\n",
      "Population Register (b_0, d_0, o_0 | p_0, t_2)_I: \n",
      "   BackgroundCharacteristics[], Destination[Neighbourhood], Origin[Neighbourhood] \n",
      "   per \n",
      "   Persons[], Time[Day part] \n",
      "   for set of included units I.\n",
      "Census (b_0, p_0 | d_0, o_0)_I: \n",
      "   BackgroundCharacteristics[], Persons[] \n",
      "   per \n",
      "   Destination[Neighbourhood], Origin[Neighbourhood] \n",
      "   for set of included units I.\n",
      "Traffic Loops (c_0 | m_0, s_0, t_0)_XII: \n",
      "   VehicleCount[] \n",
      "   per \n",
      "   Modality[], RoadSegment[], Time[Minute] \n",
      "   for set of included units XII.\n",
      "route data (s_0 | d_0, o_0, r_0)_I: \n",
      "   RoadSegment[] \n",
      "   per \n",
      "   Destination[Neighbourhood], Origin[Neighbourhood], Route[] \n",
      "   for set of included units I.\n"
     ]
    }
   ],
   "source": [
    "# Data sets\n",
    "print(\"\\033[1m----------Data sets (legend)----------\\033[0m\")\n",
    "\n",
    "for ds in start_set_potential:\n",
    "    print(ds.str_descriptive(legend_variables=legend_variables))"
   ]
  },
  {
   "cell_type": "markdown",
   "metadata": {},
   "source": [
    "# User choices"
   ]
  },
  {
   "cell_type": "code",
   "execution_count": 23,
   "metadata": {},
   "outputs": [
    {
     "data": {
      "application/vnd.jupyter.widget-view+json": {
       "model_id": "208b489349354d4daf220d42e2d0a8fc",
       "version_major": 2,
       "version_minor": 0
      },
      "text/plain": [
       "Dropdown(description='Select available provider:', layout=Layout(width='max-content'), options=('Single provid…"
      ]
     },
     "metadata": {},
     "output_type": "display_data"
    },
    {
     "data": {
      "application/vnd.jupyter.widget-view+json": {
       "model_id": "ff18091272dd4351a31fd94824196ee1",
       "version_major": 2,
       "version_minor": 0
      },
      "text/plain": [
       "Dropdown(description='Is home location available?', layout=Layout(width='max-content'), options=('Home locatio…"
      ]
     },
     "metadata": {},
     "output_type": "display_data"
    }
   ],
   "source": [
    "# Display all\n",
    "for name, dropdown in dropdowns.items():\n",
    "    display(dropdown)\n"
   ]
  },
  {
   "cell_type": "code",
   "execution_count": 24,
   "metadata": {},
   "outputs": [],
   "source": [
    "# automatically generate the mno data based on the user options\n",
    "data_mno = create_mno_data(dropdowns)\n",
    "start_set_potential = [data_transport_survey, data_pop_register, data_census, data_traffic_loops,\n",
    "                       data_routes, data_mno]  # ensure mno data is in potential set of starting data sources"
   ]
  },
  {
   "cell_type": "code",
   "execution_count": 25,
   "metadata": {},
   "outputs": [
    {
     "data": {
      "application/vnd.jupyter.widget-view+json": {
       "model_id": "45999e2646f84bff9e83836c06b3628e",
       "version_major": 2,
       "version_minor": 0
      },
      "text/plain": [
       "VBox(children=(Label(value='Select input data sets:'), VBox(children=(Checkbox(value=True, description='NTS su…"
      ]
     },
     "metadata": {},
     "output_type": "display_data"
    }
   ],
   "source": [
    "# Create two separate CheckboxGroup instances\n",
    "input_data_checkbox = md.CheckboxData(\n",
    "    start_set_potential, \"Select input data sets:\", print_full_name=False, single_option=False)\n",
    "\n",
    "# Display both groups\n",
    "input_data_checkbox.display()"
   ]
  },
  {
   "cell_type": "code",
   "execution_count": 26,
   "metadata": {},
   "outputs": [
    {
     "data": {
      "application/vnd.jupyter.widget-view+json": {
       "model_id": "fc8b469dcad54b3ea97dd7c07249047e",
       "version_major": 2,
       "version_minor": 0
      },
      "text/plain": [
       "VBox(children=(Label(value='Select input models:'), VBox(children=(Checkbox(value=True, description='Modality …"
      ]
     },
     "metadata": {},
     "output_type": "display_data"
    }
   ],
   "source": [
    "# Create two separate CheckboxGroup instances\n",
    "input_model_checkbox = md.CheckboxModel(\n",
    "    potential_models_mno, \"Select input models:\", print_full_name=False, single_option=False)\n",
    "\n",
    "# Display both groups\n",
    "input_model_checkbox.display()"
   ]
  },
  {
   "cell_type": "code",
   "execution_count": 27,
   "metadata": {},
   "outputs": [
    {
     "data": {
      "application/vnd.jupyter.widget-view+json": {
       "model_id": "95a8e41d85a94247b7492b4490087c05",
       "version_major": 2,
       "version_minor": 0
      },
      "text/plain": [
       "VBox(children=(Label(value='Select target output:'), VBox(children=(Checkbox(value=True, description='Commuter…"
      ]
     },
     "metadata": {},
     "output_type": "display_data"
    }
   ],
   "source": [
    "# Create two separate CheckboxGroup instances\n",
    "goal_data_checkbox = md.CheckboxData(goal_options,\n",
    "                                       \"Select target output:\", \n",
    "                                       print_full_name=False, \n",
    "                                       single_option=True)\n",
    "\n",
    "# Display both groups\n",
    "goal_data_checkbox.display()"
   ]
  },
  {
   "cell_type": "markdown",
   "metadata": {},
   "source": [
    "# Confirm and inspect test case\n",
    "Create the test object and display it when the button is clicked."
   ]
  },
  {
   "cell_type": "code",
   "execution_count": 28,
   "metadata": {},
   "outputs": [
    {
     "data": {
      "application/vnd.jupyter.widget-view+json": {
       "model_id": "df0dfa8c91e7438888eb4ad7d1d75a07",
       "version_major": 2,
       "version_minor": 0
      },
      "text/plain": [
       "Button(description='Proceed to next step', layout=Layout(width='max-content'), style=ButtonStyle())"
      ]
     },
     "metadata": {},
     "output_type": "display_data"
    },
    {
     "data": {
      "application/vnd.jupyter.widget-view+json": {
       "model_id": "4bc41f91a710486d8e0082c0b2d12553",
       "version_major": 2,
       "version_minor": 0
      },
      "text/plain": [
       "Output()"
      ]
     },
     "metadata": {},
     "output_type": "display_data"
    }
   ],
   "source": [
    "button_settings = widgets.Button(\n",
    "    description=\"Proceed to next step\", layout={'width': 'max-content'})\n",
    "button_settings_output = widgets.Output()\n",
    "\n",
    "test_mno_1 = None  # Initialize outside of button widget\n",
    "\n",
    "def button_settings_clicked(b):\n",
    "    button_settings_output.clear_output()\n",
    "    with button_settings_output:\n",
    "        global test_mno_1\n",
    "        # Reload test case\n",
    "        test_mno_1 = md.TestCase(goal=goal_data_checkbox.get_selected(),\n",
    "                                start_set=md.SetOfSources(\n",
    "            start_set=input_data_checkbox.get_selected()),\n",
    "            models=input_model_checkbox.get_selected())\n",
    "\n",
    "        # Inspect test case\n",
    "        print(\"Available data: \\n\"+ test_mno_1.start_set.str_nameonly())\n",
    "        print(\"Available Models: \\n \" + \"\\n \".join([str(x.name) for x in test_mno_1.models]))\n",
    "        print(\"Target output: \" + str(test_mno_1.goal))\n",
    "        display(Markdown(\"Would you like to analyse the above scenario?\"))\n",
    "\n",
    "display(button_settings, button_settings_output)\n",
    "button_settings.on_click(button_settings_clicked)"
   ]
  },
  {
   "cell_type": "markdown",
   "metadata": {},
   "source": [
    "# Solve MNO test case"
   ]
  },
  {
   "cell_type": "code",
   "execution_count": null,
   "metadata": {},
   "outputs": [
    {
     "data": {
      "application/vnd.jupyter.widget-view+json": {
       "model_id": "09ca056d7b37464bb8d1826a8e04f8b8",
       "version_major": 2,
       "version_minor": 0
      },
      "text/plain": [
       "Button(description='Yes, analyse scenario', layout=Layout(width='max-content'), style=ButtonStyle())"
      ]
     },
     "metadata": {},
     "output_type": "display_data"
    },
    {
     "data": {
      "application/vnd.jupyter.widget-view+json": {
       "model_id": "f7e7773317954622ad06cc36f1b3ed4e",
       "version_major": 2,
       "version_minor": 0
      },
      "text/plain": [
       "Output()"
      ]
     },
     "metadata": {},
     "output_type": "display_data"
    }
   ],
   "source": [
    "button_solve = widgets.Button(\n",
    "    description=\"Yes, analyse scenario\", layout={'width': 'max-content'})\n",
    "button_solve_output = widgets.Output()\n",
    "\n",
    "# Clear the notebook output before displaying new widgets\n",
    "button_solve_output.clear_output()\n",
    "\n",
    "def button_solve_clicked(b):\n",
    "    button_solve_output.clear_output()\n",
    "    with button_solve_output:\n",
    "        result = md.a_star(start_set=test_mno_1.start_set,\n",
    "                           goal=test_mno_1.goal,\n",
    "                           models=test_mno_1.models,\n",
    "                           max_iteration=15,\n",
    "                           similarity_choice=\"topsum\",  # sum\n",
    "                           score_function_parameter=3,  # for topsum: multiplier\n",
    "                           prints=False,\n",
    "                           preprocess_rhs=True,\n",
    "                           find_multiple_paths=False,\n",
    "                           shedding=True,\n",
    "                           shedding_n=50,\n",
    "                           variant=\"individual\")  # base, normalized_basic, normalized_coupled, individual\n",
    "\n",
    "\n",
    "        # display results\n",
    "        if isinstance(result, md.SetOfSources):\n",
    "            # one path was found\n",
    "            to_print = md.path_print(result.path)\n",
    "            display(\"Target output can be created by the following path:\")\n",
    "            \n",
    "            to_print = to_print.style.format()\n",
    "            to_print.hide()\n",
    "            display(to_print)\n",
    "        elif isinstance(result, list):\n",
    "            # multiple paths were found\n",
    "            display(str(len(result))+\" paths were found\")\n",
    "        else:\n",
    "            # no path was found\n",
    "            display(result)\n",
    "\n",
    "display(button_solve, button_solve_output)\n",
    "button_solve.on_click(button_solve_clicked)"
   ]
  }
 ],
 "metadata": {
  "kernelspec": {
   "display_name": "phdenv",
   "language": "python",
   "name": "python3"
  },
  "language_info": {
   "codemirror_mode": {
    "name": "ipython",
    "version": 3
   },
   "file_extension": ".py",
   "mimetype": "text/x-python",
   "name": "python",
   "nbconvert_exporter": "python",
   "pygments_lexer": "ipython3",
   "version": "3.12.2"
  }
 },
 "nbformat": 4,
 "nbformat_minor": 2
}
