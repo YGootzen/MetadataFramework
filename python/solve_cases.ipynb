{
 "cells": [
  {
   "cell_type": "markdown",
   "id": "distributed-limitation",
   "metadata": {},
   "source": [
    "# Solve cases\n",
    "In this notebook, a case study is selected and solved with the A* implementation. "
   ]
  },
  {
   "cell_type": "markdown",
   "id": "08bc7d6f",
   "metadata": {},
   "source": [
    "## Import classes"
   ]
  },
  {
   "cell_type": "code",
   "execution_count": 1,
   "id": "6b708a30",
   "metadata": {},
   "outputs": [],
   "source": [
    "from ipynb.fs.full.classes import *\n",
    "from ipynb.fs.full.a_star import *\n",
    "import numpy as np"
   ]
  },
  {
   "cell_type": "code",
   "execution_count": 2,
   "id": "verified-responsibility",
   "metadata": {},
   "outputs": [],
   "source": [
    "# import sys\n",
    "# !{sys.executable} -m pip install networkx"
   ]
  },
  {
   "cell_type": "markdown",
   "id": "toxic-playback",
   "metadata": {},
   "source": [
    "# Choose case setting\n",
    "Choose only one of the files in the below code cell! They have different graphs, which shouldn't exist in memory at the same time, as that could lead to warnings (graphs for variables that have the same names will overwrite). Restart the kernel before selecting a different file."
   ]
  },
  {
   "cell_type": "code",
   "execution_count": 3,
   "id": "suburban-comparison",
   "metadata": {},
   "outputs": [],
   "source": [
    "#from ipynb.fs.full.case_abstract_small import *\n",
    "#from ipynb.fs.full.case_abstract_medium import *\n",
    "#from ipynb.fs.full.case_abstract_large import *\n",
    "from ipynb.fs.full.case_mobility import *"
   ]
  },
  {
   "cell_type": "markdown",
   "id": "engaging-track",
   "metadata": {},
   "source": [
    "## Overview of test cases\n",
    "Tests in `case_mobility`:\n",
    "- `test_mobility`: as discussed in the paper\n",
    "\n",
    "Tests in `case_abstract_small`:\n",
    "- `test_1`: easy case, possible in 4 steps\n",
    "- `test_2`: not possible\n",
    "\n",
    "Tests in `case_abstract_medium`: \n",
    "- `test_1`: possible in 11 steps or quicker, depending on order\n",
    "- `test_2`: possible in 3 steps, focus on combination\n",
    "- `test_3`: possible in 3 steps, focus on conversion\n",
    "- `test_4`: possible in 3 steps, focus on aggregation\n",
    "- `test_5`: conversion and aggregation, \n",
    "- `test_6`: slightly more complex, possible in 15-23 steps\n",
    "- `test_7`: possible in 11 steps\n",
    "- `test_8`: simple context example\n",
    "\n",
    "Tests in `case_abstract_large`: \n",
    "- `test_1`: a large test case, similar to `test_6` from the medium cases, but for larger graphs\n",
    "- `test_2`: the largest test case"
   ]
  },
  {
   "cell_type": "markdown",
   "id": "danish-health",
   "metadata": {},
   "source": [
    "## Choose test case\n",
    "Adjust code cell below to select one of the test cases mentioned above."
   ]
  },
  {
   "cell_type": "code",
   "execution_count": 4,
   "id": "sitting-bridge",
   "metadata": {},
   "outputs": [],
   "source": [
    "test = test_mobility"
   ]
  },
  {
   "cell_type": "markdown",
   "id": "03b4b523",
   "metadata": {},
   "source": [
    "# Inspect test case \n",
    "Inspect the goal"
   ]
  },
  {
   "cell_type": "code",
   "execution_count": 26,
   "id": "ac38fe80",
   "metadata": {},
   "outputs": [
    {
     "name": "stdout",
     "output_type": "stream",
     "text": [
      "Start set: \n",
      "{(s0 | od0, r0)_['roads_excl_sample', 'roads_in_sample'],\n",
      " (s0 | m0, od0)_['roads_excl_sample', 'roads_in_sample'],\n",
      " (b0, od0 | p0, t2)_['people_excl_sample', 'people_in_sample'],\n",
      " (m0 | p0, t1)_['people_in_sample'],\n",
      " (c0 | s0, t0)_['roads_in_sample']\n",
      "}\n",
      "Goal: (c0 | s0, t2)_['roads_excl_sample', 'roads_in_sample']\n",
      "Models: \n",
      " Modality Choice model: (b0, od0 | p0, t2)_['dummyX'] + (m0 | p0, t2)_['dummyY'] -> (p0 | od0, t2)_['dummyY']\n",
      " Shortest Path model: (p0 | od0, t2)_['dummyX'] + (s0 | od0, r0)_['dummyY'] -> (p0 | s0, t2)_['dummyY']\n",
      " Calibration model: (c0, p0 | s0, t2)_['dummyX'] + (p0 | s0, t2)_['dummyY'] -> (c0 | s0, t2)_['dummyY']\n"
     ]
    }
   ],
   "source": [
    "print(\"Start set: \\n\"+ str(test.start_set))\n",
    "#print(\"models: \"+ str(test.models))\n",
    "print(\"Goal: \"+ str(test.goal))\n",
    "print(\"Models: \\n \" + \"\\n \".join([str(x) for x in test.models]))\n"
   ]
  },
  {
   "cell_type": "markdown",
   "id": "6b4ead64",
   "metadata": {},
   "source": [
    "Inspect a specific graph from the test case."
   ]
  },
  {
   "cell_type": "code",
   "execution_count": 7,
   "id": "544bd0d7",
   "metadata": {},
   "outputs": [],
   "source": [
    "#agg_x = AggregationGraph.get(\"n\")\n",
    "#print(agg_x.granularities)\n",
    "#agg_x.plot_graph()"
   ]
  },
  {
   "cell_type": "markdown",
   "id": "16f30680",
   "metadata": {},
   "source": [
    "# Run test case (once)"
   ]
  },
  {
   "cell_type": "code",
   "execution_count": 25,
   "id": "317d8f05",
   "metadata": {},
   "outputs": [
    {
     "name": "stdout",
     "output_type": "stream",
     "text": [
      "Path: \n",
      "   start_set\n",
      "   prep_rhs: (m0 | p0, t1)_['people_in_sample'] -> (m0 | p0, t2)_['people_in_sample']\n",
      "   prep_rhs: (c0 | s0, t0)_['roads_in_sample'] -> (c0 | s0, t2)_['roads_in_sample']\n",
      "   model (Modality Choice model):(p0 | od0, t2)_['people_excl_sample', 'people_in_sample']\n",
      "   model (Shortest Path model):(p0 | s0, t2)_['roads_excl_sample', 'roads_in_sample']\n",
      "   combine (columnwise): (c0, p0 | s0, t2)_['roads_in_sample']\n",
      "   model (Calibration model):(c0 | s0, t2)_['roads_excl_sample', 'roads_in_sample']\n"
     ]
    }
   ],
   "source": [
    "result = a_star(start_set=test.start_set, \n",
    "                goal=test.goal,\n",
    "                models=test.models,\n",
    "                max_iteration=200, \n",
    "                similarity_choice=\"topsum\", # sum\n",
    "                score_function_parameter=3,  # for topsum: multiplier\n",
    "                prints=False, \n",
    "                preprocess_rhs=True,\n",
    "                find_multiple_paths=False,\n",
    "                shedding=True,\n",
    "                shedding_n=50,\n",
    "                variant=\"individual\")  # base, normalized_basic, normalized_coupled, individual\n",
    "\n",
    "# display results\n",
    "if isinstance(result, SetOfSources):    \n",
    "    # one path was found\n",
    "    print(\"Path: \\n   \" + \"\\n   \".join(result.path))\n",
    "elif isinstance(result, list):\n",
    "    # multiple paths were found\n",
    "    print(str(len(result))+\" paths were found\")\n",
    "else:\n",
    "    # no path was found\n",
    "    print(result)"
   ]
  },
  {
   "cell_type": "markdown",
   "id": "95ccddc0",
   "metadata": {},
   "source": [
    "### Find shortest path\n",
    "If the option find_multiple_paths=True was used, there may now be multiple paths in the result of the A* algorithm. Later, quality assignments will help with choosing a specific path. For now, we are interested in the shortest path."
   ]
  },
  {
   "cell_type": "code",
   "execution_count": 9,
   "id": "08bc0606",
   "metadata": {},
   "outputs": [],
   "source": [
    "# Number of paths found\n",
    "#len(result)"
   ]
  },
  {
   "cell_type": "code",
   "execution_count": 10,
   "id": "c0622766",
   "metadata": {
    "scrolled": true
   },
   "outputs": [],
   "source": [
    "# Determine shortest path \n",
    "#path_lengths = [len(x.path) for x in result]\n",
    "#shortest_path_index = path_lengths.index(min(path_lengths))  # find shortest path index\n",
    "#shortest_path = result[shortest_path_index]  # take the path with the shortest path\n",
    "#print(\"Path: \" + \"\\n      \".join(shortest_path.path))\n",
    "            "
   ]
  },
  {
   "cell_type": "markdown",
   "id": "lesbian-paint",
   "metadata": {},
   "source": [
    "### Run test case (multiple times)"
   ]
  },
  {
   "cell_type": "code",
   "execution_count": 11,
   "id": "statutory-regression",
   "metadata": {
    "scrolled": true
   },
   "outputs": [],
   "source": [
    "#simulate(n_simulations=10, \n",
    "#         start_set=test.start_set,\n",
    "#         goal=test.goal,\n",
    "#         models=test.models,\n",
    "#         max_iteration=50, \n",
    "#         similarity_choice=\"topsum\", # sum\n",
    "#         score_function_parameter=3,  # for topsum: multiplier\n",
    "#         preprocess_rhs=True,\n",
    "#         shedding=True,\n",
    "#         shedding_n=50,\n",
    "#         variant=\"individual\")\n",
    "\n",
    "# TODO: add number of iterations and number of times a result was found succesfully"
   ]
  },
  {
   "cell_type": "code",
   "execution_count": null,
   "id": "5f4f017e",
   "metadata": {},
   "outputs": [],
   "source": []
  }
 ],
 "metadata": {
  "kernelspec": {
   "display_name": "phdenv",
   "language": "python",
   "name": "python3"
  },
  "language_info": {
   "codemirror_mode": {
    "name": "ipython",
    "version": 3
   },
   "file_extension": ".py",
   "mimetype": "text/x-python",
   "name": "python",
   "nbconvert_exporter": "python",
   "pygments_lexer": "ipython3",
   "version": "3.12.2"
  }
 },
 "nbformat": 4,
 "nbformat_minor": 5
}
