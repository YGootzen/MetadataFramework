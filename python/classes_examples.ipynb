{
 "cells": [
  {
   "cell_type": "markdown",
   "id": "reliable-parish",
   "metadata": {},
   "source": [
    "# Examples of class usage\n",
    "The purpose of this notebook is to provide examples of the different concepts of the framework and its implementation. The code in this notebook is not part of the implementation of the problem. The mobility test case will be used as an example."
   ]
  },
  {
   "cell_type": "code",
   "execution_count": 1,
   "id": "graduate-citizenship",
   "metadata": {},
   "outputs": [],
   "source": [
    "from ipynb.fs.full.classes import *  # import classes\n",
    "from ipynb.fs.full.case_mobility import *  # import test case mobility"
   ]
  },
  {
   "cell_type": "markdown",
   "id": "welsh-chemical",
   "metadata": {
    "tags": []
   },
   "source": [
    "# Variables"
   ]
  },
  {
   "cell_type": "markdown",
   "id": "massive-liabilities",
   "metadata": {},
   "source": [
    "Example usage:"
   ]
  },
  {
   "cell_type": "code",
   "execution_count": 2,
   "id": "ancient-minutes",
   "metadata": {},
   "outputs": [
    {
     "name": "stdout",
     "output_type": "stream",
     "text": [
      "a0\n",
      "b2\n",
      "a0\n"
     ]
    }
   ],
   "source": [
    "v1 = Variable(\"a\", 0)\n",
    "print(v1)\n",
    "\n",
    "v2 = Variable(\"b\", 2)\n",
    "print(v2)\n",
    "\n",
    "v3 = Variable(\"a\", 0)\n",
    "print(v3)"
   ]
  },
  {
   "cell_type": "markdown",
   "id": "identified-romantic",
   "metadata": {},
   "source": [
    "For equality, only the self.name and granularity must be equal. A different object name (in this example \"v1\" and \"v3\") does not affect equality."
   ]
  },
  {
   "cell_type": "code",
   "execution_count": 3,
   "id": "supported-abortion",
   "metadata": {},
   "outputs": [
    {
     "name": "stdout",
     "output_type": "stream",
     "text": [
      "False\n",
      "True\n"
     ]
    }
   ],
   "source": [
    "print(v1 == v2)\n",
    "print(v1 == v3)"
   ]
  },
  {
   "cell_type": "markdown",
   "id": "rough-hungary",
   "metadata": {},
   "source": [
    "The hashes of v1 and v3 are equal, and distinct to v2."
   ]
  },
  {
   "cell_type": "code",
   "execution_count": 4,
   "id": "bright-scott",
   "metadata": {},
   "outputs": [
    {
     "name": "stdout",
     "output_type": "stream",
     "text": [
      "-241430502920531625\n",
      "-844040199034083856\n",
      "-241430502920531625\n"
     ]
    }
   ],
   "source": [
    "print(hash(v1))\n",
    "print(hash(v2))\n",
    "print(hash(v3))"
   ]
  },
  {
   "cell_type": "markdown",
   "id": "forward-showcase",
   "metadata": {},
   "source": [
    "# Conversion\n",
    "Conversion is only dependent on the variable itself, not on the data set it is in. It functions as an undirected graph. A conversion graph must exist for all variables."
   ]
  },
  {
   "cell_type": "code",
   "execution_count": 5,
   "id": "biblical-blanket",
   "metadata": {},
   "outputs": [
    {
     "name": "stderr",
     "output_type": "stream",
     "text": [
      "/home/ygzn@cbsp.nl/phd/MetadataFrameworkInternal/classes.ipynb:335: UserWarning: Overwriting the ConversionGraph for variable b!\n",
      "  \"                connected_granularities = aggregation_graph.all_aggregations(v.get_granularity())\\n\",\n",
      "/home/ygzn@cbsp.nl/phd/MetadataFrameworkInternal/classes.ipynb:335: UserWarning: Overwriting the ConversionGraph for variable c!\n",
      "  \"                connected_granularities = aggregation_graph.all_aggregations(v.get_granularity())\\n\",\n"
     ]
    }
   ],
   "source": [
    "# create conversion graphs\n",
    "con1 = ConversionGraph(variable_name = \"a\",\n",
    "                         granularities = [0,1,2,3],\n",
    "                         conversion_edges = [(0,1), (1,2), (0,3), (0, 4), (5, 6)])\n",
    "con2 = ConversionGraph(variable_name = \"b\",\n",
    "                         granularities = [0,1,2,3, 5, 6],\n",
    "                         conversion_edges = [(0,1), (1,2), (0,3), (0, 4), (4, 5)])\n",
    "con3 = ConversionGraph(variable_name = \"c\",\n",
    "                         granularities = [0,1,2,3, 5, 6],\n",
    "                         conversion_edges = [(0,1), (0,2), (0,3), (0, 4), (3, 5), (1, 6), (6,7), (3,6)])\n",
    "con4 = ConversionGraph(variable_name = \"d\",\n",
    "                         granularities = [0,1,2,3],\n",
    "                         conversion_edges = [(0,1), (1,2), (0,3), (0, 4), (5, 6)])\n",
    "con5 = ConversionGraph(variable_name = \"e\",\n",
    "                         granularities = [0,1,2,3, 5, 6],\n",
    "                         conversion_edges = [(0,1), (1,2), (0,3), (0, 4), (4, 5)])\n",
    "con6 = ConversionGraph(variable_name = \"f\",\n",
    "                         granularities = [0,1,2,3, 5, 6],\n",
    "                         conversion_edges = [(0,1), (0,2), (0,3), (0, 4), (3, 5), (1, 6), (6,7), (3,6)])"
   ]
  },
  {
   "cell_type": "code",
   "execution_count": 6,
   "id": "initial-yield",
   "metadata": {},
   "outputs": [
    {
     "data": {
      "image/png": "[encoded data removed]",
      "text/plain": [
       "<Figure size 640x480 with 1 Axes>"
      ]
     },
     "metadata": {},
     "output_type": "display_data"
    }
   ],
   "source": [
    "# plot conversion graph\n",
    "con2.plot_graph()"
   ]
  },
  {
   "cell_type": "markdown",
   "id": "allied-arthur",
   "metadata": {},
   "source": [
    "Is there a convsersion (path) between granularities (nodes) possible?"
   ]
  },
  {
   "cell_type": "code",
   "execution_count": 7,
   "id": "surrounded-northwest",
   "metadata": {
    "tags": []
   },
   "outputs": [
    {
     "name": "stdout",
     "output_type": "stream",
     "text": [
      "True\n",
      "False\n"
     ]
    }
   ],
   "source": [
    "print(con1.check_conversion(2, 4))\n",
    "print(con1.check_conversion(0, 5))"
   ]
  },
  {
   "cell_type": "markdown",
   "id": "sealed-polyester",
   "metadata": {},
   "source": [
    "Which granularities can be converted from a specific granularity?"
   ]
  },
  {
   "cell_type": "code",
   "execution_count": 8,
   "id": "amateur-vision",
   "metadata": {},
   "outputs": [
    {
     "name": "stdout",
     "output_type": "stream",
     "text": [
      "{1, 2, 3, 4}\n",
      "{6}\n"
     ]
    }
   ],
   "source": [
    "print(con1.all_conversions(0))\n",
    "print(con1.all_conversions(5))"
   ]
  },
  {
   "cell_type": "markdown",
   "id": "liable-registration",
   "metadata": {},
   "source": [
    "The classmethod get() allows us to find an instance of the class for a desired variable name. In the following code, switch between var_name \"a\" and \"b\" and execute the plot to see that the correct instance is found in this way. This will be usefull later, when a dataset with variables is known and we want to find a conversiongraph for one of the variables, without having to hard code the variable name."
   ]
  },
  {
   "cell_type": "code",
   "execution_count": 9,
   "id": "disturbed-output",
   "metadata": {},
   "outputs": [
    {
     "data": {
      "image/png": "[encoded data removed]",
      "text/plain": [
       "<Figure size 640x480 with 1 Axes>"
      ]
     },
     "metadata": {},
     "output_type": "display_data"
    }
   ],
   "source": [
    "con_x = ConversionGraph.get(var_name = \"b\")\n",
    "con_x.plot_graph()"
   ]
  },
  {
   "cell_type": "markdown",
   "id": "physical-affair",
   "metadata": {},
   "source": [
    "If the ConversionGraph was not initialised, it will raise an error. Due to the `%%script true` line, the error that would be raised by this cell does not stop a `Run all`. To execute this cell, remove or comment out the `%%script true` line. "
   ]
  },
  {
   "cell_type": "code",
   "execution_count": 10,
   "id": "registered-lighter",
   "metadata": {},
   "outputs": [],
   "source": [
    "%%script true\n",
    "con_x = ConversionGraph.get(var_name = \"z\")\n",
    "con_x.plot_graph()"
   ]
  },
  {
   "cell_type": "markdown",
   "id": "fatal-baker",
   "metadata": {},
   "source": [
    "# Aggregation\n",
    "Aggregation is only dependent on the variable itself, not on the data set it is in. It functions as a directed graph."
   ]
  },
  {
   "cell_type": "code",
   "execution_count": 11,
   "id": "dangerous-requirement",
   "metadata": {},
   "outputs": [
    {
     "name": "stderr",
     "output_type": "stream",
     "text": [
      "/home/ygzn@cbsp.nl/phd/MetadataFrameworkInternal/classes.ipynb:402: UserWarning: Overwriting the AggregationGraph for variable b!\n",
      "  \"        self.Graph = nx.Graph()\\n\",\n",
      "/home/ygzn@cbsp.nl/phd/MetadataFrameworkInternal/classes.ipynb:402: UserWarning: Overwriting the AggregationGraph for variable c!\n",
      "  \"        self.Graph = nx.Graph()\\n\",\n"
     ]
    }
   ],
   "source": [
    "# create aggregation graphs\n",
    "agg1 = AggregationGraph(variable_name = \"a\",\n",
    "                        granularities = [0,1,2,3, 5, 6],\n",
    "                        aggregation_edges = [(0,1), (1,2), (2,5), (0,6), (0, 4), (5, 6)])\n",
    "\n",
    "agg2 = AggregationGraph(variable_name = \"b\",\n",
    "                        granularities = [0,1,2,3],\n",
    "                        aggregation_edges = [(0,1), (1,2), (2,1), (0,3), (0, 4), (5, 6)])\n",
    "\n",
    "agg3 = AggregationGraph(variable_name = \"c\",\n",
    "                        granularities = [0,1,2,3],\n",
    "                        aggregation_edges = [(0,1), (1,2), (2,1), (0,3), (0, 4), (5, 6), (1,7)])\n",
    "\n",
    "agg4 = AggregationGraph(variable_name = \"d\",\n",
    "                        granularities = [0,1,2,3, 5, 6],\n",
    "                        aggregation_edges = [(0,1), (1,2), (2,5), (0,6), (0, 4), (5, 6)])\n",
    "\n",
    "agg5 = AggregationGraph(variable_name = \"e\",\n",
    "                        granularities = [0,1,2,3],\n",
    "                        aggregation_edges = [(0,1), (1,2), (2,1), (0,3), (0, 4), (5, 6)])\n",
    "\n",
    "agg6 = AggregationGraph(variable_name = \"f\",\n",
    "                        granularities = [0,1,2,3],\n",
    "                        aggregation_edges = [(0,1), (1,2), (2,1), (0,3), (0, 4), (5, 6), (1,7)])"
   ]
  },
  {
   "cell_type": "code",
   "execution_count": 12,
   "id": "equipped-leather",
   "metadata": {},
   "outputs": [
    {
     "data": {
      "image/png": "[encoded data removed]",
      "text/plain": [
       "<Figure size 640x480 with 1 Axes>"
      ]
     },
     "metadata": {},
     "output_type": "display_data"
    }
   ],
   "source": [
    "# plot aggregation graph\n",
    "agg2.plot_graph()"
   ]
  },
  {
   "cell_type": "code",
   "execution_count": 13,
   "id": "ranking-delaware",
   "metadata": {
    "tags": []
   },
   "outputs": [
    {
     "name": "stdout",
     "output_type": "stream",
     "text": [
      "False\n",
      "True\n",
      "True\n"
     ]
    }
   ],
   "source": [
    "print(agg1.check_aggregation(2, 4))\n",
    "print(agg1.check_aggregation(0, 2))\n",
    "print(agg1.check_aggregation(0, 5))"
   ]
  },
  {
   "cell_type": "markdown",
   "id": "baking-breeding",
   "metadata": {},
   "source": [
    "Which granularities can be converted from a specific granularity?"
   ]
  },
  {
   "cell_type": "code",
   "execution_count": 14,
   "id": "active-silly",
   "metadata": {},
   "outputs": [
    {
     "name": "stdout",
     "output_type": "stream",
     "text": [
      "{1, 2, 4, 5, 6}\n",
      "{2}\n"
     ]
    }
   ],
   "source": [
    "print(agg1.all_aggregations(0))\n",
    "print(agg2.all_aggregations(1))"
   ]
  },
  {
   "cell_type": "code",
   "execution_count": 15,
   "id": "saving-nightlife",
   "metadata": {},
   "outputs": [
    {
     "name": "stdout",
     "output_type": "stream",
     "text": [
      "[0, 1, 2, 3]\n"
     ]
    },
    {
     "data": {
      "image/png": "[encoded data removed]",
      "text/plain": [
       "<Figure size 640x480 with 1 Axes>"
      ]
     },
     "metadata": {},
     "output_type": "display_data"
    }
   ],
   "source": [
    "agg_x = AggregationGraph.get(\"b\")\n",
    "print(agg_x.granularities)\n",
    "agg_x.plot_graph()"
   ]
  },
  {
   "cell_type": "markdown",
   "id": "palestinian-studio",
   "metadata": {},
   "source": [
    "# Data set\n",
    "Contains a list of left-hand variables and a list of right-hand variables."
   ]
  },
  {
   "cell_type": "code",
   "execution_count": 16,
   "id": "editorial-humor",
   "metadata": {},
   "outputs": [
    {
     "name": "stdout",
     "output_type": "stream",
     "text": [
      "(a1, b3 | a2, b1)_['I']\n"
     ]
    }
   ],
   "source": [
    "data1 = Data(left_variables =[Variable(\"a\", 1), Variable(\"b\", 3)],\n",
    "          right_variables =[Variable(\"b\", 1), Variable(\"a\", 2)],\n",
    "         context=\"I\")\n",
    "data2 = Data(left_variables =[Variable(\"e\", 1), Variable(\"b\", 3)],\n",
    "          right_variables =[Variable(\"c\", 1), Variable(\"a\", 3)],\n",
    "         context=\"I\")\n",
    "data3 = Data(left_variables =[Variable(\"a\", 1), Variable(\"b\", 3)],\n",
    "          right_variables =[Variable(\"c\", 1), Variable(\"a\", 3)],\n",
    "         context=\"II\")\n",
    "data4 = Data(left_variables =[Variable(\"a\", 1), Variable(\"b\", 3)],\n",
    "          right_variables =[Variable(\"c\", 1), Variable(\"a\", 3)],\n",
    "         context=\"I\")\n",
    "print(data1)"
   ]
  },
  {
   "cell_type": "markdown",
   "id": "treated-craft",
   "metadata": {},
   "source": [
    "Euquality depends on the equality of left_variables, right_variables and context. A different name for the same data sources does not affect euqality:"
   ]
  },
  {
   "cell_type": "code",
   "execution_count": 17,
   "id": "altered-intervention",
   "metadata": {},
   "outputs": [
    {
     "name": "stdout",
     "output_type": "stream",
     "text": [
      "False\n",
      "False\n",
      "False\n"
     ]
    }
   ],
   "source": [
    "print(data1 == data2)\n",
    "print(data1 == data3)  \n",
    "print(data1 == data4)"
   ]
  },
  {
   "cell_type": "markdown",
   "id": "dutch-organic",
   "metadata": {},
   "source": [
    "Similarity between two data sources is based on the variables and context they have in common. If two data sets are equal, then the similarity score will be huge."
   ]
  },
  {
   "cell_type": "code",
   "execution_count": 18,
   "id": "dedicated-scientist",
   "metadata": {},
   "outputs": [
    {
     "name": "stdout",
     "output_type": "stream",
     "text": [
      "11\n",
      "11\n",
      "20\n",
      "11\n"
     ]
    }
   ],
   "source": [
    "print(data1.similarity(data2))\n",
    "print(data1.similarity(data3))\n",
    "print(data2.similarity(data3))\n",
    "print(data1.similarity(data1))"
   ]
  },
  {
   "cell_type": "markdown",
   "id": "varying-arbitration",
   "metadata": {},
   "source": [
    "Neighbours of a data source are defined as all other data sources that can be created by a single conversion or aggregation. Note that combination is not included here, because it requires two input data sources."
   ]
  },
  {
   "cell_type": "code",
   "execution_count": 19,
   "id": "noble-combat",
   "metadata": {},
   "outputs": [
    {
     "name": "stdout",
     "output_type": "stream",
     "text": [
      "(a1, b3 | a2, b1)_['I'] has neighbours: \n",
      "(a0, b3 | a2, b1)_['I']\n",
      "(a1, b5 | a2, b1)_['I']\n",
      "(a1, b3 | a6, b1)_['I']\n",
      "(a2, b3 | a2, b1)_['I']\n",
      "(a1, b4 | a2, b1)_['I']\n",
      "(a1, b2 | a2, b1)_['I']\n",
      "(a4, b3 | a2, b1)_['I']\n",
      "(a1, b0 | a2, b1)_['I']\n",
      "(a3, b3 | a2, b1)_['I']\n",
      "(a1, b3 | a2, b2)_['I']\n",
      "(a1, b3 | a5, b1)_['I']\n",
      "(a1, b1 | a2, b1)_['I']\n"
     ]
    }
   ],
   "source": [
    "print(str(data1) + \" has neighbours: \")\n",
    "\n",
    "neighbours = data1.get_neighbours()\n",
    "for n in neighbours:\n",
    "    print(n)"
   ]
  },
  {
   "cell_type": "markdown",
   "id": "living-mainland",
   "metadata": {},
   "source": [
    "# Combining\n",
    "Combining depends on two data sources. It is allowed when their right variables are equal. Column wise combining: when the contexts of both input sources have some overlap (non-empty intersection), the union of all left variables is available in the new data source, for the intersection of the context. Row wise combining: when the contexts of both sources have no overlap (empty intersection), the intersection of the left variables is available in the new data source, but the new context is the union of the context of the two input sources. Sometimes, both row-wise and column-wise combination are possible, resulting into two different outcomes. The combines() function checks both options and will return a tuple with te row- and column-wise combination results respectively. If a combination is not possible, the result will be False."
   ]
  },
  {
   "cell_type": "code",
   "execution_count": 20,
   "id": "forbidden-generation",
   "metadata": {},
   "outputs": [],
   "source": [
    "# define data sources:\n",
    "data1 = Data(left_variables =[Variable(\"a\", 1), Variable(\"b\", 3)],\n",
    "          right_variables =[Variable(\"c\", 1), Variable(\"a\", 3)],\n",
    "         context=[\"I\", \"II\"])\n",
    "data2 = Data(left_variables =[Variable(\"e\", 1), Variable(\"b\", 3)],\n",
    "          right_variables =[Variable(\"c\", 1), Variable(\"a\", 3)],\n",
    "         context=[\"I\", \"III\"])\n",
    "data3 = Data(left_variables =[Variable(\"e\", 1), Variable(\"b\", 3)],\n",
    "          right_variables =[Variable(\"c\", 1), Variable(\"a\", 3)],\n",
    "         context=[\"II\"])"
   ]
  },
  {
   "cell_type": "code",
   "execution_count": 21,
   "id": "antique-attraction",
   "metadata": {},
   "outputs": [
    {
     "name": "stdout",
     "output_type": "stream",
     "text": [
      "(a1, b3 | a3, c1)_['I', 'II']  +  (b3, e1 | a3, c1)_['I', 'III']  -- row-wise -->  (b3 | a3, c1)_['I', 'II', 'III']\n",
      "(a1, b3 | a3, c1)_['I', 'II']  +  (b3, e1 | a3, c1)_['I', 'III']  -- column-wise -->  (a1, b3, e1 | a3, c1)_['I']\n"
     ]
    }
   ],
   "source": [
    "data1_2_row, data1_2_col = combines(data1, data2)\n",
    "\n",
    "print(data1, \" + \", data2, \" -- row-wise --> \", data1_2_row)\n",
    "print(data1, \" + \", data2, \" -- column-wise --> \", data1_2_col)"
   ]
  },
  {
   "cell_type": "code",
   "execution_count": 22,
   "id": "level-eleven",
   "metadata": {},
   "outputs": [
    {
     "name": "stdout",
     "output_type": "stream",
     "text": [
      "(a1, b3 | a3, c1)_['I', 'II']  +  (b3, e1 | a3, c1)_['II']  -- row-wise -->  (b3 | a3, c1)_['I', 'II']\n",
      "(a1, b3 | a3, c1)_['I', 'II']  +  (b3, e1 | a3, c1)_['II']  -- column-wise -->  (a1, b3, e1 | a3, c1)_['II']\n"
     ]
    }
   ],
   "source": [
    "data1_3_row, data1_3_col = combines(data1, data3)\n",
    "\n",
    "print(data1, \" + \", data3, \" -- row-wise --> \", data1_3_row)\n",
    "print(data1, \" + \", data3, \" -- column-wise --> \", data1_3_col)"
   ]
  },
  {
   "cell_type": "code",
   "execution_count": 23,
   "id": "concerned-sleeping",
   "metadata": {},
   "outputs": [
    {
     "name": "stdout",
     "output_type": "stream",
     "text": [
      "(b3, e1 | a3, c1)_['I', 'III']  +  (b3, e1 | a3, c1)_['II']  -- row-wise -->  (b3, e1 | a3, c1)_['I', 'II', 'III']\n",
      "(b3, e1 | a3, c1)_['I', 'III']  +  (b3, e1 | a3, c1)_['II']  -- column-wise -->  False\n"
     ]
    }
   ],
   "source": [
    "data2_3_row, data2_3_col = combines(data2, data3)\n",
    "\n",
    "print(data2, \" + \", data3, \" -- row-wise --> \", data2_3_row)\n",
    "print(data2, \" + \", data3, \" -- column-wise --> \", data2_3_col)"
   ]
  },
  {
   "cell_type": "markdown",
   "id": "directed-upgrade",
   "metadata": {},
   "source": [
    "# Set of currently available sources\n",
    "We start with a set of available sources. In the search towards the goal, the set of available sources will be updated based on manipulation steps applied to each source. "
   ]
  },
  {
   "cell_type": "markdown",
   "id": "timely-edwards",
   "metadata": {},
   "source": [
    "Define start set with two data sources. Checking if the third source is in the set, should return False."
   ]
  },
  {
   "cell_type": "code",
   "execution_count": 24,
   "id": "military-instrumentation",
   "metadata": {},
   "outputs": [
    {
     "name": "stdout",
     "output_type": "stream",
     "text": [
      "{(a1, b3 | a3, c1)_['I', 'II'],\n",
      " (b3, e1 | a3, c1)_['I', 'III']\n",
      "}\n",
      "False\n"
     ]
    }
   ],
   "source": [
    "# define start set\n",
    "start_set = {data1, data2}\n",
    "available_set = SetOfSources(start_set)\n",
    "print(available_set)\n",
    "print(available_set.contains(data3))"
   ]
  },
  {
   "cell_type": "markdown",
   "id": "described-tribune",
   "metadata": {},
   "source": [
    "Add a third source. Checking that it is in the set, should now return True."
   ]
  },
  {
   "cell_type": "code",
   "execution_count": 25,
   "id": "deadly-botswana",
   "metadata": {},
   "outputs": [
    {
     "name": "stdout",
     "output_type": "stream",
     "text": [
      "{(a1, b3 | a3, c1)_['I', 'II'],\n",
      " (b3, e1 | a3, c1)_['I', 'III'],\n",
      " (b3, e1 | a3, c1)_['II']\n",
      "}\n",
      "{(a1, b3 | a3, c1)_['I', 'II'],\n",
      " (b3, e1 | a3, c1)_['I', 'III'],\n",
      " (b3, e1 | a3, c1)_['II']\n",
      "}\n",
      "True\n"
     ]
    }
   ],
   "source": [
    "available_set.add_data_source(data3, part_of_path=\"test\")\n",
    "print(available_set)\n",
    "\n",
    "# adding the same source again, does not get added to the list\n",
    "available_set.add_data_source(data3)\n",
    "print(available_set)\n",
    "print(available_set.contains(data3))"
   ]
  },
  {
   "cell_type": "markdown",
   "id": "artificial-column",
   "metadata": {},
   "source": [
    "Even more so, checking if a different object (data4) is in the set, when it has the exact same properties as one of the objects in the set (data1) should also return True."
   ]
  },
  {
   "cell_type": "code",
   "execution_count": 26,
   "id": "regular-potato",
   "metadata": {},
   "outputs": [
    {
     "name": "stdout",
     "output_type": "stream",
     "text": [
      "True\n"
     ]
    }
   ],
   "source": [
    "data4 = Data(left_variables =[Variable(\"a\", 1), Variable(\"b\", 3)],\n",
    "             right_variables =[Variable(\"c\", 1), Variable(\"a\", 3)],\n",
    "             context=\"I\")\n",
    "print(available_set.contains(data4))"
   ]
  },
  {
   "cell_type": "markdown",
   "id": "innocent-space",
   "metadata": {},
   "source": [
    "The similarity of a data source can be compared to the available set. Note: several variants of the similarity score are implemented. "
   ]
  },
  {
   "cell_type": "code",
   "execution_count": 27,
   "id": "abstract-granny",
   "metadata": {},
   "outputs": [
    {
     "data": {
      "text/plain": [
       "16"
      ]
     },
     "execution_count": 27,
     "metadata": {},
     "output_type": "execute_result"
    }
   ],
   "source": [
    "data5 = Data(left_variables =[Variable(\"a\", 1), Variable(\"b\", 3)],\n",
    "             right_variables =[Variable(\"c\", 1), Variable(\"a\", 4)],\n",
    "             context=\"II\")\n",
    "available_set.similarity_max(data5)"
   ]
  },
  {
   "cell_type": "markdown",
   "id": "certain-watershed",
   "metadata": {},
   "source": [
    "All data sources that can be created from the available sources can be found using get_neighbours(). This includes all neighbours from a single conversion, aggregation or combination."
   ]
  },
  {
   "cell_type": "code",
   "execution_count": 28,
   "id": "monthly-occurrence",
   "metadata": {},
   "outputs": [
    {
     "name": "stdout",
     "output_type": "stream",
     "text": [
      "[\"(b3, e0 | a3, c1)_['I', 'III']\", \"(a4, b3 | a3, c1)_['I', 'II']\", \"(b5, e1 | a3, c1)_['II']\", \"(a3, b3 | a3, c1)_['I', 'II']\", \"(b1, e1 | a3, c1)_['I', 'III']\", \"(b3, e0 | a3, c1)_['II']\", \"(b3, e1 | a3, c2)_['I', 'III']\", \"(b3 | a3, c1)_['I', 'II']\", \"(b3, e1 | a3, c7)_['I', 'III']\", \"(a0, b3 | a3, c1)_['I', 'II']\", \"(b3, e5 | a3, c1)_['I', 'III']\", \"(b3, e4 | a3, c1)_['II']\", \"(b1, e1 | a3, c1)_['II']\", \"(a1, b2 | a3, c1)_['I', 'II']\", \"(b3, e5 | a3, c1)_['II']\", \"(a1, b5 | a3, c1)_['I', 'II']\", \"(b4, e1 | a3, c1)_['I', 'III']\", \"(b2, e1 | a3, c1)_['I', 'III']\", \"(a1, b0 | a3, c1)_['I', 'II']\", \"(b3, e2 | a3, c1)_['II']\", \"(a1, b1 | a3, c1)_['I', 'II']\", \"(a1, b3, e1 | a3, c1)_['II']\", \"(b3, e3 | a3, c1)_['II']\", \"(b4, e1 | a3, c1)_['II']\", \"(b3, e1 | a3, c2)_['II']\", \"(b3, e2 | a3, c1)_['I', 'III']\", \"(a1, b4 | a3, c1)_['I', 'II']\", \"(b2, e1 | a3, c1)_['II']\", \"(a1, b3, e1 | a3, c1)_['I']\", \"(b3, e1 | a3, c1)_['I', 'II', 'III']\", \"(b3, e4 | a3, c1)_['I', 'III']\", \"(a1, b3 | a3, c7)_['I', 'II']\", \"(a1, b3 | a3, c2)_['I', 'II']\", \"(b0, e1 | a3, c1)_['I', 'III']\", \"(b3, e3 | a3, c1)_['I', 'III']\", \"(b3, e1 | a3, c7)_['II']\", \"(b0, e1 | a3, c1)_['II']\", \"(a2, b3 | a3, c1)_['I', 'II']\", \"(b5, e1 | a3, c1)_['I', 'III']\", \"(b3 | a3, c1)_['I', 'II', 'III']\"]\n"
     ]
    }
   ],
   "source": [
    "print([str(x) for x in available_set.get_neighbours(agg=True)])"
   ]
  },
  {
   "cell_type": "markdown",
   "id": "partial-manufacturer",
   "metadata": {},
   "source": [
    "During the search, it is important to identify of two sets of sources are equal. This is possible because of the __eq__() method."
   ]
  },
  {
   "cell_type": "code",
   "execution_count": 29,
   "id": "variable-journal",
   "metadata": {},
   "outputs": [
    {
     "name": "stdout",
     "output_type": "stream",
     "text": [
      "True\n",
      "False\n"
     ]
    }
   ],
   "source": [
    "set1 = SetOfSources(start_set=[data1, data2])\n",
    "set2 = SetOfSources(start_set=[data2, data1])\n",
    "set3 = SetOfSources(start_set=[data2, data3])\n",
    "print(set1 == set2)\n",
    "print(set1 == set3)"
   ]
  },
  {
   "cell_type": "markdown",
   "id": "educational-batman",
   "metadata": {},
   "source": [
    "# Modelling\n",
    "Modelling is currently implemented as exceptions to the rules of the other manipulations. Each available model, however trivial, must be specified."
   ]
  },
  {
   "cell_type": "code",
   "execution_count": 30,
   "id": "piano-procurement",
   "metadata": {},
   "outputs": [],
   "source": [
    "# define data sources:\n",
    "data1 = Data(left_variables =[Variable(\"a\", 1), Variable(\"b\", 3)],\n",
    "          right_variables =[Variable(\"c\", 1), Variable(\"a\", 3)],\n",
    "         context=[\"I\", \"II\"])\n",
    "data2 = Data(left_variables =[Variable(\"e\", 1), Variable(\"b\", 3)],\n",
    "          right_variables =[Variable(\"c\", 1), Variable(\"a\", 3)],\n",
    "         context=[\"III\"])\n",
    "data3 = Data(left_variables =[Variable(\"e\", 1), Variable(\"b\", 3)],\n",
    "          right_variables =[Variable(\"c\", 1), Variable(\"a\", 3)],\n",
    "         context=[\"II\"])\n",
    "\n",
    "model1 = Model(input_data=[data1, data2], output_data=data3, context_rule=\"exact\")\n",
    "model2 = Model(input_data=[data1, data2], output_data=data3, context_rule=\"union\")"
   ]
  },
  {
   "cell_type": "markdown",
   "id": "interpreted-train",
   "metadata": {},
   "source": [
    "Apply the model for different combinations of available data sets:"
   ]
  },
  {
   "cell_type": "code",
   "execution_count": 31,
   "id": "early-favor",
   "metadata": {},
   "outputs": [
    {
     "name": "stdout",
     "output_type": "stream",
     "text": [
      "{(a1, b3 | a3, c1)_['I', 'II'],\n",
      " (b3, e1 | a3, c1)_['III']\n",
      "}  -- model 1 -->  (b3, e1 | a3, c1)_['II']\n",
      "{(a1, b3 | a3, c1)_['I', 'II'],\n",
      " (b3, e1 | a3, c1)_['III']\n",
      "}  -- model 2 -->  (b3, e1 | a3, c1)_['I', 'II', 'III']\n"
     ]
    }
   ],
   "source": [
    "available_data = SetOfSources(start_set=[data1, data2])\n",
    "\n",
    "print(available_data, \" -- model 1 --> \", model1.apply(available_data.get_sources())[0])\n",
    "\n",
    "print(available_data, \" -- model 2 --> \", model2.apply(available_data.get_sources())[0])"
   ]
  },
  {
   "cell_type": "markdown",
   "id": "c964bac9",
   "metadata": {},
   "source": [
    "# Test mobility example models"
   ]
  },
  {
   "cell_type": "code",
   "execution_count": 40,
   "id": "8de766e2",
   "metadata": {},
   "outputs": [],
   "source": [
    "# define data sources:\n",
    "data1 = Data(left_variables =[Variable(\"b\", 0), # source 0\n",
    "                              Variable(\"od\", 0)],\n",
    "             right_variables =[Variable(\"p\", 0),\n",
    "                               Variable(\"t\", 2)],\n",
    "             context=[\"A\", \"B\"])\n",
    "                               \n",
    "data2 = Data(left_variables =[Variable(\"m\", 0)],  # source 1\n",
    "             right_variables =[Variable(\"p\", 0),\n",
    "                               Variable(\"t\", 2)],\n",
    "             context=[\"A\"])\n",
    "\n",
    "data3 = Data(left_variables =[Variable(\"b\", 0), # source 0\n",
    "                              Variable(\"od\", 0)],\n",
    "             right_variables =[Variable(\"p\", 0),\n",
    "                               Variable(\"t\", 2)],\n",
    "             context=[\"B\"])\n",
    "\n",
    "\n",
    "model_mm = ModelModalityChoice()"
   ]
  },
  {
   "cell_type": "code",
   "execution_count": 39,
   "id": "e38e57d3",
   "metadata": {},
   "outputs": [
    {
     "name": "stdout",
     "output_type": "stream",
     "text": [
      "{(b0, od0 | p0, t2)_['B'],\n",
      " (m0 | p0, t2)_['A'],\n",
      " (b0, od0 | p0, t2)_['A', 'B']\n",
      "}  -- model 1 -->  (p0 | od0, t2)_['A', 'B']\n",
      "***\n",
      "(p0 | od0, t2)_['A', 'B']\n"
     ]
    }
   ],
   "source": [
    "available_data = SetOfSources(start_set=[data1, data2, data3])\n",
    "print(available_data, \" -- model 1 --> \", model_mm.apply(available_data.get_sources())[0])\n",
    "\n",
    "for m in model_mm.apply(available_data.get_sources()):\n",
    "    print(\"***\")\n",
    "    print(m)\n"
   ]
  },
  {
   "cell_type": "markdown",
   "id": "f396a0be",
   "metadata": {},
   "source": [
    "Test if adding models to the get_neighbours function helps to find more neighbours than without the models."
   ]
  },
  {
   "cell_type": "code",
   "execution_count": 46,
   "id": "cbe40b58",
   "metadata": {},
   "outputs": [
    {
     "name": "stdout",
     "output_type": "stream",
     "text": [
      "[\"(b5, od0 | p0, t2)_['A', 'B']\", \"(b4, od0 | p0, t2)_['A', 'B']\", \"(b1, od0 | p0, t2)_['A', 'B']\", \"(b3, od0 | p0, t2)_['A', 'B']\", \"(b0, m0, od0 | p0, t2)_['A']\", \"(b2, od0 | p0, t2)_['A', 'B']\"]\n"
     ]
    }
   ],
   "source": [
    "# without modelling\n",
    "available_data = SetOfSources(start_set=[data1, data2])\n",
    "print([str(x) for x in available_data.get_neighbours()])"
   ]
  },
  {
   "cell_type": "code",
   "execution_count": 47,
   "id": "aa6d7cd3",
   "metadata": {},
   "outputs": [
    {
     "name": "stdout",
     "output_type": "stream",
     "text": [
      "[\"(p0 | od0, t2)_['A', 'B']\"]\n"
     ]
    }
   ],
   "source": [
    "# with modelling (only)\n",
    "available_data = SetOfSources(start_set=[data1, data2])\n",
    "print([str(x) for x in available_data.get_neighbours_models(models=[model_mm])])"
   ]
  },
  {
   "cell_type": "markdown",
   "id": "d0f32592",
   "metadata": {},
   "source": [
    "### For the entire test "
   ]
  },
  {
   "cell_type": "code",
   "execution_count": 34,
   "id": "2365ce61",
   "metadata": {},
   "outputs": [],
   "source": [
    "test = test_mobility"
   ]
  },
  {
   "cell_type": "code",
   "execution_count": null,
   "id": "c9d9337d",
   "metadata": {},
   "outputs": [],
   "source": [
    "print(type(test.start_set))\n",
    "print(type(test.models))\n",
    "print(type(test.models[0]))"
   ]
  },
  {
   "cell_type": "code",
   "execution_count": 37,
   "id": "e32cf307",
   "metadata": {},
   "outputs": [],
   "source": [
    "all_neighbours = test.start_set.get_neighbours(agg=False)"
   ]
  },
  {
   "cell_type": "code",
   "execution_count": null,
   "id": "bb02f3e5",
   "metadata": {},
   "outputs": [],
   "source": []
  },
  {
   "cell_type": "code",
   "execution_count": null,
   "id": "990f9f16",
   "metadata": {},
   "outputs": [],
   "source": []
  }
 ],
 "metadata": {
  "kernelspec": {
   "display_name": "phdenv",
   "language": "python",
   "name": "python3"
  },
  "language_info": {
   "codemirror_mode": {
    "name": "ipython",
    "version": 3
   },
   "file_extension": ".py",
   "mimetype": "text/x-python",
   "name": "python",
   "nbconvert_exporter": "python",
   "pygments_lexer": "ipython3",
   "version": "3.12.2"
  }
 },
 "nbformat": 4,
 "nbformat_minor": 5
}
