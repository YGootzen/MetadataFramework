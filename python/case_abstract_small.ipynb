{
 "cells": [
  {
   "cell_type": "markdown",
   "id": "b6bd28de",
   "metadata": {},
   "source": [
    "# Small test cases\n",
    "This notebook contains test cases for the metadata framework. To load and solve these cases, go to the `check_test_cases` notebook. The test cases are not based on real data sources. They are constructed such that various puzzles arise, each focusing on a different solution. The small test cases contain five conversion graphs and five aggregation graphs."
   ]
  },
  {
   "cell_type": "code",
   "execution_count": 1,
   "id": "7c186eb4",
   "metadata": {},
   "outputs": [],
   "source": [
    "from ipynb.fs.full.classes import *"
   ]
  },
  {
   "cell_type": "code",
   "execution_count": 2,
   "id": "cb04ffe8",
   "metadata": {},
   "outputs": [],
   "source": [
    "# create conversion graphs\n",
    "cg1 = ConversionGraph(variable_name = \"a\",\n",
    "                         granularities = [1,2,3,4],\n",
    "                         conversion_edges = [(1,2), (1,3), (4, 4)])\n",
    "cg2 = ConversionGraph(variable_name = \"b\",\n",
    "                         granularities = [1,2,3,4],\n",
    "                         conversion_edges = [(1,2), (2,3), (3, 4)])\n",
    "cg3 = ConversionGraph(variable_name = \"c\",\n",
    "                         granularities = [1,2,3,4],\n",
    "                         conversion_edges = [(1,2), (2,3), (1, 4), (3, 4)])\n",
    "cg4 = ConversionGraph(variable_name = \"d\",\n",
    "                         granularities = [1,2,3,4],\n",
    "                         conversion_edges = [(1,2), (1,3), (1, 4)])\n",
    "cg5 = ConversionGraph(variable_name = \"e\",\n",
    "                         granularities = [1,2,3,4],\n",
    "                         conversion_edges = [(1,2), (3, 4)])\n",
    "\n",
    "# create aggregation graphs\n",
    "ag1 = AggregationGraph(variable_name = \"a\",\n",
    "                         granularities = [1,2,3,4],\n",
    "                         aggregation_edges = [(1,2), (1,3), (4, 4)])\n",
    "ag2 = AggregationGraph(variable_name = \"b\",\n",
    "                         granularities = [1,2,3,4],\n",
    "                         aggregation_edges = [(1,2), (2,3), (3, 4)])\n",
    "ag3 = AggregationGraph(variable_name = \"c\",\n",
    "                         granularities = [1,2,3,4],\n",
    "                         aggregation_edges = [(1,2), (2,3), (1, 4), (3, 4)])\n",
    "ag4 = AggregationGraph(variable_name = \"d\",\n",
    "                         granularities = [1,2,3,4],\n",
    "                         aggregation_edges = [(1,2), (1,3), (1, 4)])\n",
    "ag5 = AggregationGraph(variable_name = \"e\",\n",
    "                         granularities = [1,2,3,4],\n",
    "                         aggregation_edges = [(1,2), (3, 4)])\n",
    "\n",
    "graphs_small = [cg1, cg2, cg3, cg4, cg5, ag1, ag2, ag3, ag4, ag5]\n",
    "\n",
    "# start data sets\n",
    "start_set = SetOfSources(start_set=[Data(left_variables =[Variable(\"a\", 1), Variable(\"b\", 1)],\n",
    "             right_variables =[Variable(\"c\", 1), Variable(\"d\", 1)],\n",
    "             context=\"I\"),\n",
    "                Data(left_variables =[Variable(\"e\", 1)],\n",
    "             right_variables =[Variable(\"c\", 2), Variable(\"d\", 1)],\n",
    "             context=\"I\")])\n",
    "\n",
    "# define goal\n",
    "#easy goal\n",
    "goal_1 = Data(left_variables =[Variable(\"a\", 2), Variable(\"b\", 1), Variable(\"e\", 2)],\n",
    "            right_variables =[Variable(\"c\", 2), Variable(\"d\", 1)],\n",
    "            context=\"I\")\n",
    "\n",
    "test_1 = TestCase(goal=goal_1, start_set=start_set, graphs=graphs_small)\n",
    "\n",
    "# harder goal (this is impossible to reach)\n",
    "goal_2 = Data(left_variables =[Variable(\"a\", 4), Variable(\"b\", 4), Variable(\"e\", 2)],\n",
    "             right_variables =[Variable(\"c\", 2), Variable(\"d\", 2)],\n",
    "             context=\"I\")\n",
    "\n",
    "test_2 = TestCase(goal=goal_2, start_set=start_set, graphs=graphs_small)"
   ]
  }
 ],
 "metadata": {
  "kernelspec": {
   "display_name": "phdenv",
   "language": "python",
   "name": "python3"
  },
  "language_info": {
   "codemirror_mode": {
    "name": "ipython",
    "version": 3
   },
   "file_extension": ".py",
   "mimetype": "text/x-python",
   "name": "python",
   "nbconvert_exporter": "python",
   "pygments_lexer": "ipython3",
   "version": "3.12.2"
  }
 },
 "nbformat": 4,
 "nbformat_minor": 5
}
