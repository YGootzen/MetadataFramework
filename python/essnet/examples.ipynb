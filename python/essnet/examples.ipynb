{
 "cells": [
  {
   "cell_type": "markdown",
   "id": "reliable-parish",
   "metadata": {},
   "source": [
    "# Examples of class usage\n",
    "The purpose of this notebook is to provide examples of the different concepts of the framework and its implementation. The code in this notebook is not part of the implementation of the problem. "
   ]
  },
  {
   "cell_type": "code",
   "execution_count": 1,
   "id": "graduate-citizenship",
   "metadata": {},
   "outputs": [],
   "source": [
    "import metadata_analysis as md\n",
    "#from ipynb.fs.full.case_mobility import *  # import test case mobility"
   ]
  },
  {
   "cell_type": "markdown",
   "id": "welsh-chemical",
   "metadata": {
    "tags": []
   },
   "source": [
    "# Variables"
   ]
  },
  {
   "cell_type": "markdown",
   "id": "massive-liabilities",
   "metadata": {},
   "source": [
    "Example usage:"
   ]
  },
  {
   "cell_type": "code",
   "execution_count": 2,
   "id": "ancient-minutes",
   "metadata": {},
   "outputs": [
    {
     "name": "stdout",
     "output_type": "stream",
     "text": [
      "a_0\n",
      "b_2\n",
      "a_0\n"
     ]
    }
   ],
   "source": [
    "v1 = md.Variable(\"a\", 0)\n",
    "print(v1)\n",
    "\n",
    "v2 = md.Variable(\"b\", 2)\n",
    "print(v2)\n",
    "\n",
    "v3 = md.Variable(\"a\", 0)\n",
    "print(v3)"
   ]
  },
  {
   "cell_type": "markdown",
   "id": "identified-romantic",
   "metadata": {},
   "source": [
    "For equality, only the self.name and granularity must be equal. A different object name (in this example \"v1\" and \"v3\") does not affect equality."
   ]
  },
  {
   "cell_type": "code",
   "execution_count": 3,
   "id": "supported-abortion",
   "metadata": {},
   "outputs": [
    {
     "name": "stdout",
     "output_type": "stream",
     "text": [
      "False\n",
      "True\n"
     ]
    }
   ],
   "source": [
    "print(v1 == v2)\n",
    "print(v1 == v3)"
   ]
  },
  {
   "cell_type": "markdown",
   "id": "rough-hungary",
   "metadata": {},
   "source": [
    "The hashes of v1 and v3 are equal, and distinct to v2."
   ]
  },
  {
   "cell_type": "code",
   "execution_count": 4,
   "id": "bright-scott",
   "metadata": {},
   "outputs": [
    {
     "name": "stdout",
     "output_type": "stream",
     "text": [
      "-3733291097083509486\n",
      "-3842073964301029683\n",
      "-3733291097083509486\n"
     ]
    }
   ],
   "source": [
    "print(hash(v1))\n",
    "print(hash(v2))\n",
    "print(hash(v3))"
   ]
  },
  {
   "cell_type": "markdown",
   "id": "7b501ae5",
   "metadata": {},
   "source": [
    "# Conversion"
   ]
  },
  {
   "cell_type": "code",
   "execution_count": 5,
   "id": "biblical-blanket",
   "metadata": {},
   "outputs": [],
   "source": [
    "# create conversion graphs\n",
    "con1 = md.ConversionGraph(variable_name=\"a\",\n",
    "                          granularities=[0, 1, 2, 3],\n",
    "                          conversion_edges=[(0, 1), (1, 2), (0, 3), (0, 4), (5, 6)])\n",
    "con2 = md.ConversionGraph(variable_name=\"b\",\n",
    "                          granularities=[0, 1, 2, 3, 5, 6],\n",
    "                          conversion_edges=[(0, 1), (1, 2), (0, 3), (0, 4), (4, 5)])\n",
    "con3 = md.ConversionGraph(variable_name=\"c\",\n",
    "                          granularities=[0, 1, 2, 3, 5, 6],\n",
    "                          conversion_edges=[(0, 1), (0, 2), (0, 3), (0, 4), (3, 5), (1, 6), (6, 7), (3, 6)])\n",
    "con4 = md.ConversionGraph(variable_name=\"d\",\n",
    "                          granularities=[0, 1, 2, 3],\n",
    "                          conversion_edges=[(0, 1), (1, 2), (0, 3), (0, 4), (5, 6)])\n",
    "con5 = md.ConversionGraph(variable_name=\"e\",\n",
    "                          granularities=[0, 1, 2, 3, 5, 6],\n",
    "                          conversion_edges=[(0, 1), (1, 2), (0, 3), (0, 4), (4, 5)])\n",
    "con6 = md.ConversionGraph(variable_name=\"f\",\n",
    "                          granularities=[0, 1, 2, 3, 5, 6],\n",
    "                         conversion_edges = [(0, 1), (0,2), (0,3), (0, 4), (3, 5), (1, 6), (6,7), (3,6)])"
   ]
  },
  {
   "cell_type": "code",
   "execution_count": 6,
   "id": "initial-yield",
   "metadata": {},
   "outputs": [
    {
     "data": {
      "image/png": "[encoded data removed]",
      "text/plain": [
       "<Figure size 640x480 with 1 Axes>"
      ]
     },
     "metadata": {},
     "output_type": "display_data"
    }
   ],
   "source": [
    "# plot conversion graph\n",
    "con2.plot_graph()"
   ]
  },
  {
   "cell_type": "markdown",
   "id": "allied-arthur",
   "metadata": {},
   "source": [
    "Is there a convsersion (path) between granularities (nodes) possible?"
   ]
  },
  {
   "cell_type": "code",
   "execution_count": 7,
   "id": "surrounded-northwest",
   "metadata": {
    "tags": []
   },
   "outputs": [
    {
     "name": "stdout",
     "output_type": "stream",
     "text": [
      "True\n",
      "False\n"
     ]
    }
   ],
   "source": [
    "print(con1.check_conversion(2, 4))\n",
    "print(con1.check_conversion(0, 5))"
   ]
  },
  {
   "cell_type": "markdown",
   "id": "sealed-polyester",
   "metadata": {},
   "source": [
    "Which granularities can be converted from a specific granularity?"
   ]
  },
  {
   "cell_type": "code",
   "execution_count": 8,
   "id": "amateur-vision",
   "metadata": {},
   "outputs": [
    {
     "name": "stdout",
     "output_type": "stream",
     "text": [
      "{1, 2, 3, 4}\n",
      "{6}\n"
     ]
    }
   ],
   "source": [
    "print(con1.all_conversions(0))\n",
    "print(con1.all_conversions(5))"
   ]
  },
  {
   "cell_type": "markdown",
   "id": "liable-registration",
   "metadata": {},
   "source": [
    "The classmethod get() allows us to find an instance of the class for a desired variable name. In the following code, switch between var_name \"a\" and \"b\" and execute the plot to see that the correct instance is found in this way. This will be usefull later, when a dataset with variables is known and we want to find a conversiongraph for one of the variables, without having to hard code the variable name."
   ]
  },
  {
   "cell_type": "code",
   "execution_count": 9,
   "id": "disturbed-output",
   "metadata": {},
   "outputs": [
    {
     "data": {
      "image/png": "[encoded data removed]",
      "text/plain": [
       "<Figure size 640x480 with 1 Axes>"
      ]
     },
     "metadata": {},
     "output_type": "display_data"
    }
   ],
   "source": [
    "con_x = md.ConversionGraph.get(var_name = \"b\")\n",
    "con_x.plot_graph()"
   ]
  },
  {
   "cell_type": "markdown",
   "id": "physical-affair",
   "metadata": {},
   "source": [
    "If the ConversionGraph was not initialised, it will raise an error. Due to the `%%script true` line, the error that would be raised by this cell does not stop a `Run all`. To execute this cell, remove or comment out the `%%script true` line. "
   ]
  },
  {
   "cell_type": "code",
   "execution_count": 10,
   "id": "registered-lighter",
   "metadata": {},
   "outputs": [],
   "source": [
    "%%script true\n",
    "con_x = md.ConversionGraph.get(var_name = \"z\")\n",
    "con_x.plot_graph()"
   ]
  },
  {
   "cell_type": "markdown",
   "id": "fatal-baker",
   "metadata": {},
   "source": [
    "# Aggregation\n",
    "Aggregation is only dependent on the variable itself, not on the data set it is in. It functions as a directed graph."
   ]
  },
  {
   "cell_type": "code",
   "execution_count": 11,
   "id": "dangerous-requirement",
   "metadata": {},
   "outputs": [],
   "source": [
    "# create aggregation graphs\n",
    "agg1 = md.AggregationGraph(variable_name = \"a\",\n",
    "                        granularities = [0,1,2,3, 5, 6],\n",
    "                        aggregation_edges = [(0,1), (1,2), (2,5), (0,6), (0, 4), (5, 6)])\n",
    "\n",
    "agg2 = md.AggregationGraph(variable_name = \"b\",\n",
    "                        granularities = [0,1,2,3],\n",
    "                        aggregation_edges = [(0,1), (1,2), (2,1), (0,3), (0, 4), (5, 6)])\n",
    "\n",
    "agg3 = md.AggregationGraph(variable_name = \"c\",\n",
    "                        granularities = [0,1,2,3],\n",
    "                        aggregation_edges = [(0,1), (1,2), (2,1), (0,3), (0, 4), (5, 6), (1,7)])\n",
    "\n",
    "agg4 = md.AggregationGraph(variable_name = \"d\",\n",
    "                        granularities = [0,1,2,3, 5, 6],\n",
    "                        aggregation_edges = [(0,1), (1,2), (2,5), (0,6), (0, 4), (5, 6)])\n",
    "\n",
    "agg5 = md.AggregationGraph(variable_name = \"e\",\n",
    "                        granularities = [0,1,2,3],\n",
    "                        aggregation_edges = [(0,1), (1,2), (2,1), (0,3), (0, 4), (5, 6)])\n",
    "\n",
    "agg6 = md.AggregationGraph(variable_name = \"f\",\n",
    "                        granularities = [0,1,2,3],\n",
    "                        aggregation_edges = [(0,1), (1,2), (2,1), (0,3), (0, 4), (5, 6), (1,7)])"
   ]
  },
  {
   "cell_type": "code",
   "execution_count": 12,
   "id": "equipped-leather",
   "metadata": {},
   "outputs": [
    {
     "data": {
      "image/png": "[encoded data removed]",
      "text/plain": [
       "<Figure size 640x480 with 1 Axes>"
      ]
     },
     "metadata": {},
     "output_type": "display_data"
    }
   ],
   "source": [
    "# plot aggregation graph\n",
    "agg2.plot_graph()"
   ]
  },
  {
   "cell_type": "code",
   "execution_count": 13,
   "id": "ranking-delaware",
   "metadata": {
    "tags": []
   },
   "outputs": [
    {
     "name": "stdout",
     "output_type": "stream",
     "text": [
      "False\n",
      "True\n",
      "True\n"
     ]
    }
   ],
   "source": [
    "print(agg1.check_aggregation(2, 4))\n",
    "print(agg1.check_aggregation(0, 2))\n",
    "print(agg1.check_aggregation(0, 5))"
   ]
  },
  {
   "cell_type": "markdown",
   "id": "baking-breeding",
   "metadata": {},
   "source": [
    "Which granularities can be converted from a specific granularity?"
   ]
  },
  {
   "cell_type": "code",
   "execution_count": 14,
   "id": "active-silly",
   "metadata": {},
   "outputs": [
    {
     "name": "stdout",
     "output_type": "stream",
     "text": [
      "{1, 2, 4, 5, 6}\n",
      "{2}\n"
     ]
    }
   ],
   "source": [
    "print(agg1.all_aggregations(0))\n",
    "print(agg2.all_aggregations(1))"
   ]
  },
  {
   "cell_type": "code",
   "execution_count": 15,
   "id": "saving-nightlife",
   "metadata": {},
   "outputs": [
    {
     "name": "stdout",
     "output_type": "stream",
     "text": [
      "[0, 1, 2, 3]\n"
     ]
    },
    {
     "data": {
      "image/png": "[encoded data removed]",
      "text/plain": [
       "<Figure size 640x480 with 1 Axes>"
      ]
     },
     "metadata": {},
     "output_type": "display_data"
    }
   ],
   "source": [
    "agg_x = md.AggregationGraph.get(\"b\")\n",
    "print(agg_x.granularities)\n",
    "agg_x.plot_graph()"
   ]
  },
  {
   "cell_type": "markdown",
   "id": "74a0058a",
   "metadata": {},
   "source": [
    "# Aggregation table\n",
    "An aggregation table describes the relation between values from one granularity to another granularity. It describes exactly one edge of the aggregation graph. Aggregation tables are used in the description of a set of included units. Note: an aggregation graph must be defined before a corresponding aggegration table can be defined (a NotInitialisedError will let you know). "
   ]
  },
  {
   "cell_type": "code",
   "execution_count": 16,
   "id": "435d62f9",
   "metadata": {},
   "outputs": [
    {
     "name": "stderr",
     "output_type": "stream",
     "text": [
      "/home/ygzn@cbsp.nl/phd/MetadataFrameworkInternal/202507_for_external/metadata_analysis/metadata/aggregation.py:26: UserWarning: Overwriting the AggregationGraph for variable a!\n",
      "  warnings.warn(\"Overwriting the AggregationGraph for variable \"+str(variable_name)+\"!\")\n"
     ]
    }
   ],
   "source": [
    "# test with adding atribute to graph\n",
    "agg1 = md.AggregationGraph(variable_name = \"a\",\n",
    "                           granularities = [0,1,2,3, 5, 6],\n",
    "                           aggregation_edges = [(0,1), (1,2), (2,5), (0,6), (0, 4), (5, 6)])"
   ]
  },
  {
   "cell_type": "code",
   "execution_count": 17,
   "id": "cbb06f65",
   "metadata": {},
   "outputs": [
    {
     "name": "stdout",
     "output_type": "stream",
     "text": [
      "AggregationTable of variable a: 0 -> 1. Map: \n",
      "      ab: {aa, bb},\n",
      "      cd: {cc, dd},\n",
      "      ef: {ee, ff},\n",
      "      gg: {gg}\n"
     ]
    }
   ],
   "source": [
    "at_1 = md.AggregationTable(variable_name=\"a\", granularity_from=0, granularity_to=1, \n",
    "                           value_map={\"ab\": {\"aa\", \"bb\"}, \n",
    "                                      \"cd\": {\"cc\", \"dd\"}, \n",
    "                                      \"ef\": {\"ee\", \"ff\"},\n",
    "                                      \"gg\": {\"gg\"}})\n",
    "#at_2 = AggregationTable(variable_name=\"a\", granularity_from=1, granularity_to=2, \n",
    "#                        value_map={0: {\"ab\", \"cd\"}, \n",
    "#                                   1: {\"ef\", \"gg\"}})\n",
    "print(at_1)"
   ]
  },
  {
   "cell_type": "code",
   "execution_count": 18,
   "id": "e327977f",
   "metadata": {},
   "outputs": [
    {
     "name": "stdout",
     "output_type": "stream",
     "text": [
      "AggregationTable of variable a: 1 -> 2. Map: \n",
      "      0: {ab, cd},\n",
      "      1: {ef, gg}\n"
     ]
    }
   ],
   "source": [
    "at_2 = md.AggregationTable(variable_name=\"a\", granularity_from=1, granularity_to=2, \n",
    "                        value_map={0: {\"ab\", \"cd\"}, \n",
    "                                   1: {\"ef\", \"gg\"}})\n",
    "print(at_2)"
   ]
  },
  {
   "cell_type": "code",
   "execution_count": 19,
   "id": "48a956d8",
   "metadata": {},
   "outputs": [
    {
     "name": "stdout",
     "output_type": "stream",
     "text": [
      "AggregationTable of variable a: 0 -> 1. Map: \n",
      "      ab: {aa, bb},\n",
      "      cd: {cc, dd},\n",
      "      ef: {ee, ff},\n",
      "      gg: {gg}\n"
     ]
    }
   ],
   "source": [
    "# lookup an aggregation table for a specific edge in the aggregation graph\n",
    "at_returned = agg1.get_aggregation_table(0, 1)\n",
    "\n",
    "# aggregation tables are printed with the following format\n",
    "print(at_returned)"
   ]
  },
  {
   "cell_type": "markdown",
   "id": "18aaaeda",
   "metadata": {},
   "source": [
    "Edges with an aggregation table specified, will be displayed in blue when the graph is plotted."
   ]
  },
  {
   "cell_type": "code",
   "execution_count": 20,
   "id": "a14a4f60",
   "metadata": {},
   "outputs": [
    {
     "data": {
      "image/png": "[encoded data removed]",
      "text/plain": [
       "<Figure size 640x480 with 1 Axes>"
      ]
     },
     "metadata": {},
     "output_type": "display_data"
    }
   ],
   "source": [
    "agg1.plot_graph()"
   ]
  },
  {
   "cell_type": "code",
   "execution_count": 21,
   "id": "18b3608e",
   "metadata": {},
   "outputs": [
    {
     "name": "stdout",
     "output_type": "stream",
     "text": [
      "AggregationTable of variable a: 0 -> 1. Map: \n",
      "      ab: {aa, bb},\n",
      "      cd: {cc, dd},\n",
      "      ef: {ee, ff},\n",
      "      gg: {gg}\n",
      "AggregationTable of variable a: 1 -> 2. Map: \n",
      "      0: {ab, cd},\n",
      "      1: {ef, gg}\n"
     ]
    }
   ],
   "source": [
    "print(at_1)\n",
    "print(at_2)"
   ]
  },
  {
   "cell_type": "markdown",
   "id": "afc2815a",
   "metadata": {},
   "source": [
    "Two aggregation tables can be chained such that the resulting table reflects the application of applying both aggregation tables one after the other. A requirement is that the aggregation tables must be defined on the same variable names, and there must be one granularity in common (if not, warnings will be raised)."
   ]
  },
  {
   "cell_type": "code",
   "execution_count": 22,
   "id": "92a35c77",
   "metadata": {},
   "outputs": [
    {
     "name": "stdout",
     "output_type": "stream",
     "text": [
      "AggregationTable of variable a: 0 -> 1 -> 2. Map: \n",
      "      0: {aa, bb, cc, dd},\n",
      "      1: {ee, ff, gg}\n"
     ]
    }
   ],
   "source": [
    "at_chained = at_2.chain(at_1)\n",
    "print(at_chained)"
   ]
  },
  {
   "cell_type": "markdown",
   "id": "6916c35a",
   "metadata": {},
   "source": [
    "Chaining aggregation tables into a new table automatically creates a \"shortcut\" edge in the aggregation graph. Shortcut edges can be recognised in the plot by a blue dotted line. "
   ]
  },
  {
   "cell_type": "code",
   "execution_count": 23,
   "id": "94c14633",
   "metadata": {},
   "outputs": [
    {
     "data": {
      "image/png": "[encoded data removed]",
      "text/plain": [
       "<Figure size 640x480 with 1 Axes>"
      ]
     },
     "metadata": {},
     "output_type": "display_data"
    }
   ],
   "source": [
    "agg1.plot_graph()"
   ]
  },
  {
   "cell_type": "markdown",
   "id": "146d7185",
   "metadata": {},
   "source": [
    "# Specifying variables\n",
    "Third type of variable, where we need to know all possible values."
   ]
  },
  {
   "cell_type": "code",
   "execution_count": 24,
   "id": "568a338c",
   "metadata": {},
   "outputs": [
    {
     "name": "stdout",
     "output_type": "stream",
     "text": [
      "a_0: {aa, bb, cc, dd, ee, ff, gg}\n",
      "a_1: {ab, cd, ef, gg}\n",
      "a_2: {0, 1}\n"
     ]
    }
   ],
   "source": [
    "varsou_a0 = md.VariableSpec(\"a\", 0, {\"aa\", \"bb\", \"cc\", \"dd\", \"ee\", \"ff\", \"gg\"})\n",
    "print(varsou_a0)\n",
    "\n",
    "varsou_a1 = md.VariableSpec(\"a\", 1, {\"ab\", \"cd\", \"ef\", \"gg\"})\n",
    "print(varsou_a1)\n",
    "\n",
    "varsou_a2 = md.VariableSpec(\"a\", 2, {0, 1})\n",
    "print(varsou_a2)"
   ]
  },
  {
   "cell_type": "markdown",
   "id": "e4ff6106",
   "metadata": {},
   "source": [
    "### Set operators for Specifying Variables\n",
    "`AggregationTables` define the relations between specifying variables and inform operators such as `is_subset()`, `union()` and `intersection()`. "
   ]
  },
  {
   "cell_type": "code",
   "execution_count": 25,
   "id": "37a6c6a6",
   "metadata": {},
   "outputs": [
    {
     "name": "stdout",
     "output_type": "stream",
     "text": [
      "a_0: {aa, bb, cc}\n",
      "a_1: {ab, cd}\n",
      "a_2: {0}\n"
     ]
    }
   ],
   "source": [
    "varspec_a0 = md.VariableSpec(\"a\", 0, {\"aa\", \"bb\", \"cc\"})\n",
    "print(varspec_a0)\n",
    "\n",
    "varspec_a1 = md.VariableSpec(\"a\", 1, {\"ab\", \"cd\"})\n",
    "print(varspec_a1)\n",
    "\n",
    "varspec_a2 = md.VariableSpec(\"a\", 2, {0})\n",
    "print(varspec_a2)"
   ]
  },
  {
   "cell_type": "code",
   "execution_count": 26,
   "id": "6748ee46",
   "metadata": {},
   "outputs": [
    {
     "name": "stdout",
     "output_type": "stream",
     "text": [
      "True\n",
      "True\n",
      "True\n",
      "False\n",
      "True\n"
     ]
    }
   ],
   "source": [
    "print(varspec_a0.is_subset(varspec_a1))  # True\n",
    "print(varspec_a1.is_subset(varspec_a2))  # True\n",
    "print(varspec_a0.is_subset(varspec_a2))  # True\n",
    "print(varspec_a1.is_subset(varspec_a0))  # False\n",
    "print(varspec_a0.is_subset(varspec_a0))  # True"
   ]
  },
  {
   "cell_type": "code",
   "execution_count": 27,
   "id": "059768b2",
   "metadata": {},
   "outputs": [
    {
     "name": "stdout",
     "output_type": "stream",
     "text": [
      "a_0: {aa, bb, cc, dd, ee}\n",
      "a_2: {0}\n",
      "False\n",
      "True\n"
     ]
    }
   ],
   "source": [
    "varspec_a0 = md.VariableSpec(\"a\", 0, {\"aa\", \"bb\", \"cc\", \"dd\", \"ee\"})\n",
    "print(varspec_a0)\n",
    "\n",
    "varspec_a2 = md.VariableSpec(\"a\", 2, {0})\n",
    "print(varspec_a2)\n",
    "\n",
    "print(varspec_a0.is_subset(varspec_a2))  # False\n",
    "print(varspec_a2.is_subset(varspec_a0))  # True"
   ]
  },
  {
   "cell_type": "markdown",
   "id": "bfb02c17",
   "metadata": {},
   "source": [
    "If the specifying variables are for different variable names, they can never be subsets. (Even if the granularity and values_available are an exact match.)"
   ]
  },
  {
   "cell_type": "code",
   "execution_count": 28,
   "id": "c6172352",
   "metadata": {},
   "outputs": [
    {
     "data": {
      "text/plain": [
       "False"
      ]
     },
     "execution_count": 28,
     "metadata": {},
     "output_type": "execute_result"
    }
   ],
   "source": [
    "md.VariableSpec(\"a\", 2, {1}).is_subset(md.VariableSpec(\"b\", 2, {1}))"
   ]
  },
  {
   "cell_type": "markdown",
   "id": "70c81708",
   "metadata": {},
   "source": [
    "Intersections for specifying variables."
   ]
  },
  {
   "cell_type": "code",
   "execution_count": 29,
   "id": "fa32ccbf",
   "metadata": {},
   "outputs": [
    {
     "name": "stdout",
     "output_type": "stream",
     "text": [
      "a_2: {0}\n",
      "a_2: {0, 1}\n",
      "False\n",
      "a_2: {}\n",
      "a_0: {aa, bb}\n"
     ]
    }
   ],
   "source": [
    "print(md.VariableSpec(\"a\", 2, {0, 1}).intersection(md.VariableSpec(\"a\", 2, {0})))\n",
    "print(md.VariableSpec(\"a\", 2, {0, 1}).intersection(md.VariableSpec(\"a\", 2, {1,2,0})))\n",
    "print(md.VariableSpec(\"a\", 2, {0, 1}).intersection(md.VariableSpec(\"b\", 2, {0})))\n",
    "print(md.VariableSpec(\"a\", 2, {0, 1}).intersection(md.VariableSpec(\"a\", 2, {2,3})))\n",
    "print(md.VariableSpec(\"a\", 2, {0}).intersection(md.VariableSpec(\"a\", 0, {\"aa\", \"bb\", \"ee\", \"gg\"})))"
   ]
  },
  {
   "cell_type": "markdown",
   "id": "2bd12c38",
   "metadata": {},
   "source": [
    "Union for specifying variables."
   ]
  },
  {
   "cell_type": "code",
   "execution_count": 30,
   "id": "faed0fcc",
   "metadata": {},
   "outputs": [
    {
     "name": "stdout",
     "output_type": "stream",
     "text": [
      "a_2: {0, 1}\n",
      "a_2: {0, 1, 2}\n",
      "False\n",
      "a_2: {0, 1, 2, 3}\n",
      "a_0: {aa, bb, cc, dd, ee, gg}\n"
     ]
    }
   ],
   "source": [
    "print(md.VariableSpec(\"a\", 2, {1}).union(md.VariableSpec(\"a\", 2, {0})))\n",
    "print(md.VariableSpec(\"a\", 2, {0, 1}).union(md.VariableSpec(\"a\", 2, {1,2})))\n",
    "print(md.VariableSpec(\"a\", 2, {0, 1}).union(md.VariableSpec(\"b\", 2, {0})))\n",
    "print(md.VariableSpec(\"a\", 2, {0, 1}).union(md.VariableSpec(\"a\", 2, {2,3})))\n",
    "print(md.VariableSpec(\"a\", 2, {0}).union(md.VariableSpec(\"a\", 0, {\"aa\", \"bb\", \"ee\", \"gg\"})))"
   ]
  },
  {
   "cell_type": "markdown",
   "id": "804acfa8",
   "metadata": {},
   "source": [
    "# Set of Included Units\n",
    "A set of included units is defined by one unit type (a variable), and by a set of specifying variables. "
   ]
  },
  {
   "cell_type": "code",
   "execution_count": 31,
   "id": "a06bd38e",
   "metadata": {},
   "outputs": [
    {
     "name": "stdout",
     "output_type": "stream",
     "text": [
      "I: {p_0 -- a_2: {1}, b_2: {0}}\n",
      "II: {p_0 -- a_2: {0, 1}, b_2: {0, 1}}\n",
      "III: {p_0 -- a_0: {aa, bb, dd, ff}, b_2: {0, 1}}\n",
      "IV: {x_0 -- a_0: {aa, bb, dd, ff}, b_2: {0, 1}}\n"
     ]
    }
   ],
   "source": [
    "sou1 = md.SetOfIncludedUnits(name = \"I\", unit_type_var = md.Variable(\"p\", 0), \n",
    "                             specifying_variables = {md.VariableSpec(\"a\", 2, {1}), \n",
    "                                                     md.VariableSpec(\"b\", 2, {0})})\n",
    "print(sou1)\n",
    "\n",
    "sou2 = md.SetOfIncludedUnits(name = \"II\", unit_type_var = md.Variable(\"p\", 0), \n",
    "                             specifying_variables = {md.VariableSpec(\"a\", 2, {0, 1}), \n",
    "                                                     md.VariableSpec(\"b\", 2, {0,1})})\n",
    "print(sou2)\n",
    "\n",
    "sou3 = md.SetOfIncludedUnits(name = \"III\", unit_type_var = md.Variable(\"p\", 0), \n",
    "                             specifying_variables = {md.VariableSpec(\"a\", 0, {\"aa\", \"bb\", \"dd\", \"ff\"}), \n",
    "                                                     md.VariableSpec(\"b\", 2, {0,1})})\n",
    "print(sou3)\n",
    "\n",
    "sou4 = md.SetOfIncludedUnits(name = \"IV\", unit_type_var = md.Variable(\"x\", 0), \n",
    "                             specifying_variables = {md.VariableSpec(\"a\", 0, {\"aa\", \"bb\", \"dd\", \"ff\"}), \n",
    "                                                     md.VariableSpec(\"b\", 2, {0,1})})\n",
    "print(sou4)\n"
   ]
  },
  {
   "cell_type": "markdown",
   "id": "61ae4739",
   "metadata": {},
   "source": [
    "A set of included units is a subset of another set of included units if they have the same unit type, and if every specifying variable is a subset of a specifying variable of the other set of inlcuded units. "
   ]
  },
  {
   "cell_type": "code",
   "execution_count": 32,
   "id": "d21a7ce5",
   "metadata": {},
   "outputs": [
    {
     "name": "stdout",
     "output_type": "stream",
     "text": [
      "I ⊆ II: True\n",
      "II ⊆ I: False\n",
      "III ⊆ I: False\n",
      "I ⊆ III: False\n",
      "II ⊆ III: False\n",
      "III ⊆ II: True\n"
     ]
    }
   ],
   "source": [
    "print(\"I \\u2286 II:\", sou1.is_subset(sou2))\n",
    "print(\"II \\u2286 I:\", sou2.is_subset(sou1))\n",
    "\n",
    "print(\"III \\u2286 I:\", sou3.is_subset(sou1))\n",
    "print(\"I \\u2286 III:\", sou1.is_subset(sou3))\n",
    "print(\"II \\u2286 III:\", sou2.is_subset(sou3))\n",
    "print(\"III \\u2286 II:\", sou3.is_subset(sou2))"
   ]
  },
  {
   "cell_type": "markdown",
   "id": "d6a4c62e",
   "metadata": {},
   "source": [
    "Intersections of sets of included units."
   ]
  },
  {
   "cell_type": "code",
   "execution_count": 33,
   "id": "810d1a4a",
   "metadata": {},
   "outputs": [
    {
     "name": "stdout",
     "output_type": "stream",
     "text": [
      "I: {p_0 -- a_2: {1}, b_2: {0}}\n",
      "II: {p_0 -- a_2: {0, 1}, b_2: {0, 1}}\n",
      "III: {p_0 -- a_0: {aa, bb, dd, ff}, b_2: {0, 1}}\n",
      "\n",
      "I: {p_0 -- a_2: {1}, b_2: {0}}\n",
      "I: {p_0 -- a_2: {1}, b_2: {0}}\n",
      "I ∩ III: {p_0 -- a_0: {ff}, b_2: {0}}\n",
      "I: {p_0 -- a_2: {1}, b_2: {0}}\n",
      "II: {p_0 -- a_2: {0, 1}, b_2: {0, 1}}\n",
      "III: {p_0 -- a_0: {aa, bb, dd, ff}, b_2: {0, 1}}\n",
      "I ∩ III: {p_0 -- a_0: {ff}, b_2: {0}}\n",
      "III: {p_0 -- a_0: {aa, bb, dd, ff}, b_2: {0, 1}}\n",
      "III: {p_0 -- a_0: {aa, bb, dd, ff}, b_2: {0, 1}}\n"
     ]
    }
   ],
   "source": [
    "print(sou1)\n",
    "print(sou2)\n",
    "print(sou3)\n",
    "print(\"\")\n",
    "for sou_a in [sou1, sou2, sou3]:\n",
    "    for sou_b in [sou1, sou2, sou3]:\n",
    "        print(sou_a.intersection(sou_b))"
   ]
  },
  {
   "cell_type": "markdown",
   "id": "70a639f2",
   "metadata": {},
   "source": [
    "# Set of Included Units Union\n",
    "Required because not all unions of a soiu can be simplified in the form of a single soiu. We name these soiuc."
   ]
  },
  {
   "cell_type": "code",
   "execution_count": 34,
   "id": "b95c78d8",
   "metadata": {},
   "outputs": [
    {
     "name": "stdout",
     "output_type": "stream",
     "text": [
      "I: {p_0 -- a_2: {1}, b_2: {0}}\n",
      "II: {p_0 -- a_2: {0, 1}, b_2: {0, 1}}\n",
      "III: {p_0 -- a_0: {aa, bb, dd, ff}, b_2: {0, 1}}\n",
      "IV: {x_0 -- a_0: {aa, bb, dd, ff}, b_2: {0, 1}}\n",
      "\n",
      "I: {p_0 -- a_2: {1}, b_2: {0}}\n",
      "II: {p_0 -- a_2: {0, 1}, b_2: {0, 1}}\n",
      "I ∪ III: {I: {p_0 -- a_2: {1}, b_2: {0}}, III: {p_0 -- a_0: {aa, bb, dd, ff}, b_2: {0, 1}}}\n",
      "False\n",
      "II: {p_0 -- a_2: {0, 1}, b_2: {0, 1}}\n",
      "II: {p_0 -- a_2: {0, 1}, b_2: {0, 1}}\n",
      "II: {p_0 -- a_2: {0, 1}, b_2: {0, 1}}\n",
      "False\n",
      "I ∪ III: {I: {p_0 -- a_2: {1}, b_2: {0}}, III: {p_0 -- a_0: {aa, bb, dd, ff}, b_2: {0, 1}}}\n",
      "II: {p_0 -- a_2: {0, 1}, b_2: {0, 1}}\n",
      "III: {p_0 -- a_0: {aa, bb, dd, ff}, b_2: {0, 1}}\n",
      "False\n",
      "False\n",
      "False\n",
      "False\n",
      "IV: {x_0 -- a_0: {aa, bb, dd, ff}, b_2: {0, 1}}\n"
     ]
    }
   ],
   "source": [
    "print(sou1)\n",
    "print(sou2)\n",
    "print(sou3)\n",
    "print(sou4)\n",
    "print(\"\")\n",
    "for sou_a in [sou1, sou2, sou3, sou4]:\n",
    "    for sou_b in [sou1, sou2, sou3, sou4]:\n",
    "        print(sou_a.union(sou_b))"
   ]
  },
  {
   "cell_type": "code",
   "execution_count": 35,
   "id": "6a414241",
   "metadata": {},
   "outputs": [
    {
     "name": "stdout",
     "output_type": "stream",
     "text": [
      "I ∪ II ∪ III: {I: {p_0 -- a_2: {1}, b_2: {0}}, II: {p_0 -- a_2: {0, 1}, b_2: {0, 1}}, III: {p_0 -- a_0: {aa, bb, dd, ff}, b_2: {0, 1}}}\n"
     ]
    }
   ],
   "source": [
    "# create a soiuc from three soiu's\n",
    "soiuc123 = md.SetOfIncludedUnitsUnion(set_of_soiu=[sou1, sou3, sou2])\n",
    "print(soiuc123)"
   ]
  },
  {
   "cell_type": "markdown",
   "id": "9dac4271",
   "metadata": {},
   "source": [
    "Get the minimum granularities of all specifying variable used in the description of the SOIUUnion."
   ]
  },
  {
   "cell_type": "code",
   "execution_count": 36,
   "id": "06ab0076",
   "metadata": {},
   "outputs": [
    {
     "data": {
      "text/plain": [
       "{'a': 0, 'b': 2}"
      ]
     },
     "execution_count": 36,
     "metadata": {},
     "output_type": "execute_result"
    }
   ],
   "source": [
    "soiuc123.get_minimum_granularities()"
   ]
  },
  {
   "cell_type": "markdown",
   "id": "a683fd94",
   "metadata": {},
   "source": [
    "Create a soiuc from more than two soiu's. The naming should contain II only once."
   ]
  },
  {
   "cell_type": "code",
   "execution_count": 37,
   "id": "73a94b3a",
   "metadata": {},
   "outputs": [
    {
     "name": "stdout",
     "output_type": "stream",
     "text": [
      "I ∪ II: {I: {p_0 -- a_2: {1}, b_2: {0}}, II: {p_0 -- a_2: {0, 1}, b_2: {0, 1}}}\n",
      "II ∪ III: {II: {p_0 -- a_2: {0, 1}, b_2: {0, 1}}, III: {p_0 -- a_0: {aa, bb, dd, ff}, b_2: {0, 1}}}\n",
      "I ∪ II: {I: {p_0 -- a_2: {1}, b_2: {0}}, II: {p_0 -- a_2: {0, 1}, b_2: {0, 1}}}\n"
     ]
    }
   ],
   "source": [
    "# create a soiuc from three soiu's\n",
    "soiuc12 = md.SetOfIncludedUnitsUnion(set_of_soiu=[sou1, sou2])\n",
    "print(soiuc12)\n",
    "soiuc23 = md.SetOfIncludedUnitsUnion(set_of_soiu=[sou2, sou3])\n",
    "print(soiuc23)\n",
    "soiuc12_23 = soiuc12.union(soiuc23)\n",
    "print(soiuc12_23)"
   ]
  },
  {
   "cell_type": "markdown",
   "id": "1646ca0d",
   "metadata": {},
   "source": [
    "Intersection between soiuc."
   ]
  },
  {
   "cell_type": "code",
   "execution_count": 38,
   "id": "997ca09c",
   "metadata": {},
   "outputs": [
    {
     "name": "stdout",
     "output_type": "stream",
     "text": [
      "I ∪ II: {I: {p_0 -- a_2: {1}, b_2: {0}}, II: {p_0 -- a_2: {0, 1}, b_2: {0, 1}}}\n"
     ]
    }
   ],
   "source": [
    "# intersection\n",
    "soiuc12_23 = soiuc12.intersection(soiuc23)\n",
    "print(soiuc12_23)"
   ]
  },
  {
   "cell_type": "markdown",
   "id": "de9ef48a",
   "metadata": {},
   "source": [
    "Get the minimally used granularities across all variables in the soiuc."
   ]
  },
  {
   "cell_type": "code",
   "execution_count": 39,
   "id": "fcddcfc7",
   "metadata": {},
   "outputs": [
    {
     "data": {
      "text/plain": [
       "{'a': 0, 'b': 2}"
      ]
     },
     "execution_count": 39,
     "metadata": {},
     "output_type": "execute_result"
    }
   ],
   "source": [
    "soiuc123.get_minimum_granularities()"
   ]
  },
  {
   "cell_type": "markdown",
   "id": "3514d19c",
   "metadata": {},
   "source": [
    "A soiu can be changed to desired granularity levels. "
   ]
  },
  {
   "cell_type": "code",
   "execution_count": 40,
   "id": "4335e52c",
   "metadata": {},
   "outputs": [
    {
     "name": "stdout",
     "output_type": "stream",
     "text": [
      "original soiu:  II: {p_0 -- a_2: {0, 1}, b_2: {0, 1}}\n",
      "desired_granularities:  {'a': 0, 'b': 2}\n",
      "adjusted soiu:  II: {p_0 -- a_0: {aa, bb, cc, dd, ee, ff, gg}, b_2: {0, 1}}\n"
     ]
    }
   ],
   "source": [
    "print(\"original soiu: \", sou2)\n",
    "desired_grans = soiuc123.get_minimum_granularities()\n",
    "print(\"desired_granularities: \", desired_grans)\n",
    "sou2_adjusted = sou2.adjust_granularities(desired_grans)\n",
    "print(\"adjusted soiu: \", sou2_adjusted)"
   ]
  },
  {
   "cell_type": "markdown",
   "id": "ebfffab1",
   "metadata": {},
   "source": [
    "A soiu can be turned into a soiuc using all value combinations in the soiu."
   ]
  },
  {
   "cell_type": "code",
   "execution_count": 41,
   "id": "9ec7ddac",
   "metadata": {},
   "outputs": [
    {
     "name": "stdout",
     "output_type": "stream",
     "text": [
      "['II_0: {p_0 -- a_2: {0}, b_2: {0}}', 'II_1: {p_0 -- a_2: {1}, b_2: {0}}', 'II_2: {p_0 -- a_2: {0}, b_2: {1}}', 'II_3: {p_0 -- a_2: {1}, b_2: {1}}']\n"
     ]
    }
   ],
   "source": [
    "print([str(x) for x in sou2.split()])"
   ]
  },
  {
   "cell_type": "markdown",
   "id": "42b030c4",
   "metadata": {},
   "source": [
    "We can determine if a soiu or soiuc is a subset of a soiuc:"
   ]
  },
  {
   "cell_type": "code",
   "execution_count": 42,
   "id": "97f2deca",
   "metadata": {},
   "outputs": [
    {
     "name": "stdout",
     "output_type": "stream",
     "text": [
      "I: {p_0 -- a_2: {1}, b_2: {0}}\n",
      "II: {p_0 -- a_2: {0, 1}, b_2: {0, 1}}\n",
      "III: {p_0 -- a_0: {aa, bb, dd, ff}, b_2: {0, 1}}\n",
      "IV: {x_0 -- a_0: {aa, bb, dd, ff}, b_2: {0, 1}}\n",
      "\n",
      "I  ⊆  I :  True\n",
      "I  ⊆  II :  True\n",
      "I  ⊆  III :  False\n",
      "I  ⊆  IV :  False\n",
      "I  ⊆  II :  True\n",
      "I  ⊆  II :  True\n",
      "II  ⊆  I :  False\n",
      "II  ⊆  II :  True\n",
      "II  ⊆  III :  False\n",
      "II  ⊆  IV :  False\n",
      "II  ⊆  II :  True\n",
      "II  ⊆  II :  True\n",
      "III  ⊆  I :  False\n",
      "III  ⊆  II :  True\n",
      "III  ⊆  III :  True\n",
      "III  ⊆  IV :  False\n",
      "III  ⊆  II :  True\n",
      "III  ⊆  II :  True\n",
      "IV  ⊆  I :  False\n",
      "IV  ⊆  II :  False\n",
      "IV  ⊆  III :  False\n",
      "IV  ⊆  IV :  True\n",
      "IV  ⊆  II :  False\n",
      "IV  ⊆  II :  False\n",
      "II  ⊆  I :  False\n",
      "II  ⊆  II :  True\n",
      "II  ⊆  III :  False\n",
      "II  ⊆  IV :  False\n",
      "II  ⊆  II :  True\n",
      "II  ⊆  II :  True\n",
      "II  ⊆  I :  False\n",
      "II  ⊆  II :  True\n",
      "II  ⊆  III :  False\n",
      "II  ⊆  IV :  False\n",
      "II  ⊆  II :  True\n",
      "II  ⊆  II :  True\n"
     ]
    }
   ],
   "source": [
    "print(sou1)\n",
    "print(sou2)\n",
    "print(sou3)\n",
    "print(sou4)\n",
    "print(\"\")\n",
    "for sou_a in [sou1, sou2, sou3, sou4, sou1.union(sou2), sou2.union(sou3)]:\n",
    "    for sou_b in [sou1, sou2, sou3, sou4, sou1.union(sou2), sou2.union(sou3)]:\n",
    "        print(sou_a.name, \" \\u2286 \", sou_b.name, \": \", sou_a.is_subset(sou_b))"
   ]
  },
  {
   "cell_type": "markdown",
   "id": "palestinian-studio",
   "metadata": {},
   "source": [
    "# Data set\n",
    "Contains a list of left-hand variables and a list of right-hand variables."
   ]
  },
  {
   "cell_type": "code",
   "execution_count": 43,
   "id": "editorial-humor",
   "metadata": {},
   "outputs": [
    {
     "name": "stdout",
     "output_type": "stream",
     "text": [
      "data 1 (a_1, b_3 | a_2, b_1)_I\n",
      "data 2 (b_3, e_1 | a_3, c_1)_I\n",
      "data 3 (a_1, b_3 | a_3, c_1)_II\n",
      "data 4 (a_1, b_3 | a_3, c_1)_IV\n"
     ]
    }
   ],
   "source": [
    "data1 = md.Data(left_variables =[md.Variable(\"a\", 1), md.Variable(\"b\", 3)],\n",
    "                right_variables =[md.Variable(\"b\", 1), md.Variable(\"a\", 2)],\n",
    "                set_of_units=sou1,\n",
    "                name=\"data 1\")\n",
    "data2 = md.Data(left_variables =[md.Variable(\"e\", 1), md.Variable(\"b\", 3)],\n",
    "          right_variables =[md.Variable(\"c\", 1), md.Variable(\"a\", 3)],\n",
    "         set_of_units=sou1,\n",
    "                name=\"data 2\")\n",
    "data3 = md.Data(left_variables =[md.Variable(\"a\", 1), md.Variable(\"b\", 3)],\n",
    "          right_variables =[md.Variable(\"c\", 1), md.Variable(\"a\", 3)],\n",
    "         set_of_units=sou2,\n",
    "                name=\"data 3\")\n",
    "data4 = md.Data(left_variables =[md.Variable(\"a\", 1), md.Variable(\"b\", 3)],\n",
    "          right_variables =[md.Variable(\"c\", 1), md.Variable(\"a\", 3)],\n",
    "         set_of_units=sou4,\n",
    "                name=\"data 4\")\n",
    "\n",
    "for d in [data1, data2, data3, data4]:\n",
    "    print(d)\n"
   ]
  },
  {
   "cell_type": "markdown",
   "id": "treated-craft",
   "metadata": {},
   "source": [
    "Euquality depends on the equality of left_variables, right_variables and set of included units. A different name for the same data sources does not affect eqality:"
   ]
  },
  {
   "cell_type": "code",
   "execution_count": 44,
   "id": "altered-intervention",
   "metadata": {},
   "outputs": [
    {
     "name": "stdout",
     "output_type": "stream",
     "text": [
      "False\n",
      "False\n",
      "False\n"
     ]
    }
   ],
   "source": [
    "print(data1 == data2)\n",
    "print(data1 == data3)  \n",
    "print(data1 == data4)"
   ]
  },
  {
   "cell_type": "markdown",
   "id": "dutch-organic",
   "metadata": {},
   "source": [
    "Similarity between two data sources is based on the variables and units they have in common. If two data sets are equal, then the similarity score will be huge."
   ]
  },
  {
   "cell_type": "code",
   "execution_count": 45,
   "id": "dedicated-scientist",
   "metadata": {},
   "outputs": [
    {
     "name": "stdout",
     "output_type": "stream",
     "text": [
      "11\n",
      "11\n",
      "15\n",
      "11\n"
     ]
    }
   ],
   "source": [
    "print(data1.similarity(data2))\n",
    "print(data1.similarity(data3))\n",
    "print(data2.similarity(data3))\n",
    "print(data1.similarity(data1))"
   ]
  },
  {
   "cell_type": "markdown",
   "id": "varying-arbitration",
   "metadata": {},
   "source": [
    "Neighbours of a data source are defined as all other data sources that can be created by a single conversion or aggregation. Note that combination is not included here, because it requires two input data sources."
   ]
  },
  {
   "cell_type": "code",
   "execution_count": 46,
   "id": "noble-combat",
   "metadata": {},
   "outputs": [
    {
     "name": "stdout",
     "output_type": "stream",
     "text": [
      "data 1 (a_1, b_3 | a_2, b_1)_I has neighbours: \n",
      "data 1(->conv) (a_1, b_4 | a_2, b_1)_I\n",
      "data 1(->conv) (a_1, b_2 | a_2, b_1)_I\n",
      "data 1(->conv) (a_1, b_1 | a_2, b_1)_I\n",
      "data 1(->conv) (a_0, b_3 | a_2, b_1)_I\n",
      "data 1(a_2 -agg-> a_6) (a_1, b_3 | a_6, b_1)_I\n",
      "data 1(->conv) (a_4, b_3 | a_2, b_1)_I\n",
      "data 1(->conv) (a_2, b_3 | a_2, b_1)_I\n",
      "data 1(->conv) (a_1, b_5 | a_2, b_1)_I\n",
      "data 1(a_2 -agg-> a_5) (a_1, b_3 | a_5, b_1)_I\n",
      "data 1(->conv) (a_1, b_0 | a_2, b_1)_I\n",
      "data 1(b_1 -agg-> b_2) (a_1, b_3 | a_2, b_2)_I\n",
      "data 1(->conv) (a_3, b_3 | a_2, b_1)_I\n"
     ]
    }
   ],
   "source": [
    "print(str(data1) + \" has neighbours: \")\n",
    "\n",
    "neighbours = data1.get_neighbours()\n",
    "for n in neighbours:\n",
    "    print(n)"
   ]
  },
  {
   "cell_type": "markdown",
   "id": "living-mainland",
   "metadata": {},
   "source": [
    "# Combining\n",
    "Combining depends on two data sources. It is allowed when their right variables are equal. Column wise combining: when the set of included units of both input sources have some overlap (non-empty intersection), the union of all left variables is available in the new data source, for the intersection of the set of included units. Row wise combining: when the set of included units of both sources have no overlap (empty intersection), the intersection of the left variables is available in the new data source, but the new set of included units is the union of the set of included units of the two input sources. Sometimes, both row-wise and column-wise combination are possible, resulting into two different outcomes. The combines() function checks both options and will return a tuple with te row- and column-wise combination results respectively. If a combination is not possible, the result will be False."
   ]
  },
  {
   "cell_type": "code",
   "execution_count": 47,
   "id": "forbidden-generation",
   "metadata": {},
   "outputs": [
    {
     "name": "stdout",
     "output_type": "stream",
     "text": [
      "testdata1 (a_1, b_3 | a_3, c_1)_II\n",
      "testdata2 (b_3, e_1 | a_3, c_1)_I ∪ III\n",
      "testdata3 (b_3, e_1 | a_3, c_1)_II\n"
     ]
    }
   ],
   "source": [
    "# define data sources:\n",
    "data1 = md.Data(left_variables =[md.Variable(\"a\", 1), md.Variable(\"b\", 3)],\n",
    "          right_variables =[md.Variable(\"c\", 1), md.Variable(\"a\", 3)],\n",
    "         set_of_units=sou1.union(sou2),\n",
    "         name=\"testdata1\")\n",
    "data2 = md.Data(left_variables =[md.Variable(\"e\", 1), md.Variable(\"b\", 3)],\n",
    "          right_variables =[md.Variable(\"c\", 1), md.Variable(\"a\", 3)],\n",
    "         set_of_units=sou1.union(sou3),\n",
    "         name=\"testdata2\")\n",
    "data3 = md.Data(left_variables =[md.Variable(\"e\", 1), md.Variable(\"b\", 3)],\n",
    "          right_variables =[md.Variable(\"c\", 1), md.Variable(\"a\", 3)],\n",
    "         set_of_units=sou2,\n",
    "         name=\"testdata3\")\n",
    "\n",
    "for d in [data1, data2, data3]:\n",
    "    print(d)"
   ]
  },
  {
   "cell_type": "code",
   "execution_count": 48,
   "id": "cb30c363",
   "metadata": {},
   "outputs": [
    {
     "name": "stdout",
     "output_type": "stream",
     "text": [
      "I ∪ III: {I: {p_0 -- a_2: {1}, b_2: {0}}, III: {p_0 -- a_0: {aa, bb, dd, ff}, b_2: {0, 1}}}\n"
     ]
    }
   ],
   "source": [
    "print(data1.set_of_units.intersection(data2.set_of_units))"
   ]
  },
  {
   "cell_type": "code",
   "execution_count": 49,
   "id": "antique-attraction",
   "metadata": {},
   "outputs": [
    {
     "name": "stdout",
     "output_type": "stream",
     "text": [
      "testdata1 (a_1, b_3 | a_3, c_1)_II  +  testdata2 (b_3, e_1 | a_3, c_1)_I ∪ III  -- row-wise -->  combine (testdata1+testdata2) (b_3 | a_3, c_1)_I ∪ II ∪ III\n",
      "testdata1 (a_1, b_3 | a_3, c_1)_II  +  testdata2 (b_3, e_1 | a_3, c_1)_I ∪ III  -- column-wise -->  combine (testdata1+testdata2) (a_1, b_3, e_1 | a_3, c_1)_I ∪ III\n"
     ]
    }
   ],
   "source": [
    "data1_2_row, data1_2_col = md.combines(data1, data2)\n",
    "\n",
    "print(data1, \" + \", data2, \" -- row-wise --> \", data1_2_row)\n",
    "print(data1, \" + \", data2, \" -- column-wise --> \", data1_2_col)"
   ]
  },
  {
   "cell_type": "code",
   "execution_count": 50,
   "id": "level-eleven",
   "metadata": {},
   "outputs": [
    {
     "name": "stdout",
     "output_type": "stream",
     "text": [
      "testdata1 (a_1, b_3 | a_3, c_1)_II  +  testdata3 (b_3, e_1 | a_3, c_1)_II  -- row-wise -->  combine (testdata1+testdata3) (b_3 | a_3, c_1)_II\n",
      "testdata1 (a_1, b_3 | a_3, c_1)_II  +  testdata3 (b_3, e_1 | a_3, c_1)_II  -- column-wise -->  combine (testdata1+testdata3) (a_1, b_3, e_1 | a_3, c_1)_II\n"
     ]
    }
   ],
   "source": [
    "data1_3_row, data1_3_col = md.combines(data1, data3)\n",
    "\n",
    "print(data1, \" + \", data3, \" -- row-wise --> \", data1_3_row)\n",
    "print(data1, \" + \", data3, \" -- column-wise --> \", data1_3_col)"
   ]
  },
  {
   "cell_type": "code",
   "execution_count": 51,
   "id": "concerned-sleeping",
   "metadata": {},
   "outputs": [
    {
     "name": "stdout",
     "output_type": "stream",
     "text": [
      "testdata2 (b_3, e_1 | a_3, c_1)_I ∪ III  +  testdata3 (b_3, e_1 | a_3, c_1)_II  -- row-wise -->  combine (testdata2+testdata3) (b_3, e_1 | a_3, c_1)_I ∪ II ∪ III\n",
      "testdata2 (b_3, e_1 | a_3, c_1)_I ∪ III  +  testdata3 (b_3, e_1 | a_3, c_1)_II  -- column-wise -->  combine (testdata2+testdata3) (b_3, e_1 | a_3, c_1)_I ∪ III\n"
     ]
    }
   ],
   "source": [
    "data2_3_row, data2_3_col = md.combines(data2, data3)\n",
    "\n",
    "print(data2, \" + \", data3, \" -- row-wise --> \", data2_3_row)\n",
    "print(data2, \" + \", data3, \" -- column-wise --> \", data2_3_col)"
   ]
  },
  {
   "cell_type": "markdown",
   "id": "directed-upgrade",
   "metadata": {},
   "source": [
    "# Set of currently available sources\n",
    "We start with a set of available sources. In the search towards the goal, the set of available sources will be updated based on manipulation steps applied to each source. "
   ]
  },
  {
   "cell_type": "markdown",
   "id": "timely-edwards",
   "metadata": {},
   "source": [
    "Define start set with two data sources. Checking if the third source is in the set, should return False."
   ]
  },
  {
   "cell_type": "code",
   "execution_count": 52,
   "id": "military-instrumentation",
   "metadata": {},
   "outputs": [
    {
     "name": "stdout",
     "output_type": "stream",
     "text": [
      "{testdata1 (a_1, b_3 | a_3, c_1)_II,\n",
      " testdata2 (b_3, e_1 | a_3, c_1)_I ∪ III\n",
      "}\n",
      "False\n"
     ]
    }
   ],
   "source": [
    "# define start set\n",
    "start_set = {data1, data2}\n",
    "available_set = md.SetOfSources(start_set)\n",
    "print(available_set)\n",
    "print(available_set.contains(data3))"
   ]
  },
  {
   "cell_type": "markdown",
   "id": "described-tribune",
   "metadata": {},
   "source": [
    "Add a third source. Checking that it is in the set, should now return True."
   ]
  },
  {
   "cell_type": "code",
   "execution_count": 54,
   "id": "deadly-botswana",
   "metadata": {},
   "outputs": [
    {
     "name": "stdout",
     "output_type": "stream",
     "text": [
      "{testdata1 (a_1, b_3 | a_3, c_1)_II,\n",
      " testdata2 (b_3, e_1 | a_3, c_1)_I ∪ III,\n",
      " testdata3 (b_3, e_1 | a_3, c_1)_II\n",
      "}\n",
      "{testdata1 (a_1, b_3 | a_3, c_1)_II,\n",
      " testdata2 (b_3, e_1 | a_3, c_1)_I ∪ III,\n",
      " testdata3 (b_3, e_1 | a_3, c_1)_II\n",
      "}\n",
      "True\n"
     ]
    }
   ],
   "source": [
    "available_set.add_data_source(data3, path_step=\"test\")\n",
    "print(available_set)\n",
    "\n",
    "# adding the same source again, does not get added to the list\n",
    "available_set.add_data_source(data3)\n",
    "print(available_set)\n",
    "print(available_set.contains(data3))"
   ]
  },
  {
   "cell_type": "markdown",
   "id": "artificial-column",
   "metadata": {},
   "source": [
    "Even more so, checking if a different object (data4) is in the set, when it has the exact same properties as one of the objects in the set (data1) should also return True."
   ]
  },
  {
   "cell_type": "code",
   "execution_count": 55,
   "id": "regular-potato",
   "metadata": {},
   "outputs": [
    {
     "name": "stdout",
     "output_type": "stream",
     "text": [
      "True\n"
     ]
    }
   ],
   "source": [
    "data4 = md.Data(left_variables =[md.Variable(\"a\", 1), md.Variable(\"b\", 3)],\n",
    "             right_variables =[md.Variable(\"c\", 1), md.Variable(\"a\", 3)],\n",
    "             set_of_units=sou1,\n",
    "             name=\"data4\")\n",
    "print(available_set.contains(data4))"
   ]
  },
  {
   "cell_type": "markdown",
   "id": "innocent-space",
   "metadata": {},
   "source": [
    "The similarity of a data source can be compared to the available set. Note: several variants of the similarity score are implemented. "
   ]
  },
  {
   "cell_type": "code",
   "execution_count": 56,
   "id": "abstract-granny",
   "metadata": {},
   "outputs": [
    {
     "data": {
      "text/plain": [
       "16"
      ]
     },
     "execution_count": 56,
     "metadata": {},
     "output_type": "execute_result"
    }
   ],
   "source": [
    "data5 = md.Data(left_variables =[md.Variable(\"a\", 1), md.Variable(\"b\", 3)],\n",
    "             right_variables =[md.Variable(\"c\", 1), md.Variable(\"a\", 4)],\n",
    "             set_of_units=sou4,\n",
    "             name=\"data5\")\n",
    "available_set.similarity_max(data5)"
   ]
  },
  {
   "cell_type": "markdown",
   "id": "certain-watershed",
   "metadata": {},
   "source": [
    "All data sources that can be created from the available sources can be found using get_neighbours(). This includes all neighbours from a single conversion, aggregation or combination."
   ]
  },
  {
   "cell_type": "code",
   "execution_count": 57,
   "id": "monthly-occurrence",
   "metadata": {},
   "outputs": [
    {
     "name": "stdout",
     "output_type": "stream",
     "text": [
      "testdata2(->conv) (b_3, e_3 | a_3, c_1)_I ∪ III\n",
      "testdata3(->conv) (b_0, e_1 | a_3, c_1)_II\n",
      "testdata2(c_1 -agg-> c_7) (b_3, e_1 | a_3, c_7)_I ∪ III\n",
      "testdata2(c_1 -agg-> c_2) (b_3, e_1 | a_3, c_2)_I ∪ III\n",
      "testdata2(->conv) (b_1, e_1 | a_3, c_1)_I ∪ III\n",
      "testdata2(->conv) (b_2, e_1 | a_3, c_1)_I ∪ III\n",
      "testdata1(->conv) (a_1, b_2 | a_3, c_1)_II\n",
      "testdata3(->conv) (b_1, e_1 | a_3, c_1)_II\n",
      "testdata3(->conv) (b_2, e_1 | a_3, c_1)_II\n",
      "testdata1(->conv) (a_2, b_3 | a_3, c_1)_II\n",
      "testdata2(->conv) (b_3, e_5 | a_3, c_1)_I ∪ III\n",
      "testdata2(->conv) (b_4, e_1 | a_3, c_1)_I ∪ III\n",
      "testdata3(c_1 -agg-> c_7) (b_3, e_1 | a_3, c_7)_II\n",
      "combine (testdata3+testdata2) (b_3, e_1 | a_3, c_1)_I ∪ III\n",
      "testdata2(->conv) (b_0, e_1 | a_3, c_1)_I ∪ III\n",
      "testdata3(->conv) (b_3, e_4 | a_3, c_1)_II\n",
      "testdata3(c_1 -agg-> c_2) (b_3, e_1 | a_3, c_2)_II\n",
      "testdata1(->conv) (a_1, b_5 | a_3, c_1)_II\n",
      "testdata2(->conv) (b_3, e_2 | a_3, c_1)_I ∪ III\n",
      "testdata1(->conv) (a_3, b_3 | a_3, c_1)_II\n",
      "testdata2(->conv) (b_5, e_1 | a_3, c_1)_I ∪ III\n",
      "testdata3(->conv) (b_5, e_1 | a_3, c_1)_II\n",
      "combine (testdata1+testdata2) (b_3 | a_3, c_1)_I ∪ II ∪ III\n",
      "testdata1(c_1 -agg-> c_7) (a_1, b_3 | a_3, c_7)_II\n",
      "testdata3(->conv) (b_3, e_5 | a_3, c_1)_II\n",
      "testdata1(->conv) (a_1, b_4 | a_3, c_1)_II\n",
      "combine (testdata3+testdata2) (b_3, e_1 | a_3, c_1)_I ∪ II ∪ III\n",
      "testdata2(->conv) (b_3, e_4 | a_3, c_1)_I ∪ III\n",
      "testdata3(->conv) (b_3, e_0 | a_3, c_1)_II\n",
      "testdata1(c_1 -agg-> c_2) (a_1, b_3 | a_3, c_2)_II\n",
      "testdata3(->conv) (b_4, e_1 | a_3, c_1)_II\n",
      "testdata1(->conv) (a_0, b_3 | a_3, c_1)_II\n",
      "testdata3(->conv) (b_3, e_2 | a_3, c_1)_II\n",
      "combine (testdata1+testdata2) (a_1, b_3, e_1 | a_3, c_1)_I ∪ III\n",
      "testdata1(->conv) (a_1, b_0 | a_3, c_1)_II\n",
      "testdata1(->conv) (a_1, b_1 | a_3, c_1)_II\n",
      "testdata1(->conv) (a_4, b_3 | a_3, c_1)_II\n",
      "combine (testdata1+testdata3) (a_1, b_3, e_1 | a_3, c_1)_II\n",
      "testdata3(->conv) (b_3, e_3 | a_3, c_1)_II\n",
      "combine (testdata1+testdata3) (b_3 | a_3, c_1)_II\n",
      "testdata2(->conv) (b_3, e_0 | a_3, c_1)_I ∪ III\n"
     ]
    }
   ],
   "source": [
    "for x in available_set.get_neighbours(agg=True):\n",
    "    print(x)"
   ]
  },
  {
   "cell_type": "markdown",
   "id": "partial-manufacturer",
   "metadata": {},
   "source": [
    "During the search, it is important to identify of two sets of sources are equal. This is possible because of the __eq__() method."
   ]
  },
  {
   "cell_type": "code",
   "execution_count": 58,
   "id": "variable-journal",
   "metadata": {},
   "outputs": [
    {
     "name": "stdout",
     "output_type": "stream",
     "text": [
      "True\n",
      "False\n"
     ]
    }
   ],
   "source": [
    "set1 = md.SetOfSources(start_set=[data1, data2])\n",
    "set2 = md.SetOfSources(start_set=[data2, data1])\n",
    "set3 = md.SetOfSources(start_set=[data2, data3])\n",
    "print(set1 == set2)\n",
    "print(set1 == set3)"
   ]
  },
  {
   "cell_type": "markdown",
   "id": "educational-batman",
   "metadata": {},
   "source": [
    "# Modelling\n",
    "Modelling is currently implemented as exceptions to the rules of the other manipulations. Each available model, however trivial, must be specified."
   ]
  },
  {
   "cell_type": "code",
   "execution_count": 59,
   "id": "piano-procurement",
   "metadata": {},
   "outputs": [],
   "source": [
    "# define data sources:\n",
    "data1 = md.Data(left_variables =[md.Variable(\"a\", 1), md.Variable(\"b\", 3)],\n",
    "          right_variables =[md.Variable(\"c\", 1), md.Variable(\"a\", 3)],\n",
    "         set_of_units=sou1.union(sou2),\n",
    "             name=\"data1\")\n",
    "data2 = md.Data(left_variables =[md.Variable(\"e\", 1), md.Variable(\"b\", 3)],\n",
    "          right_variables =[md.Variable(\"c\", 1), md.Variable(\"a\", 3)],\n",
    "         set_of_units=sou3,\n",
    "             name=\"data3\")\n",
    "data3 = md.Data(left_variables =[md.Variable(\"e\", 1), md.Variable(\"b\", 3)],\n",
    "          right_variables =[md.Variable(\"c\", 1), md.Variable(\"a\", 3)],\n",
    "         set_of_units=sou2,\n",
    "             name=\"data3\")\n",
    "\n",
    "model1 = md.Model(input_data=[data1, data2], output_data=data3, units_rule=\"exact\")\n",
    "model2 = md.Model(input_data=[data1, data2], output_data=data3, units_rule=\"union\")"
   ]
  },
  {
   "cell_type": "markdown",
   "id": "interpreted-train",
   "metadata": {},
   "source": [
    "Apply the model for different combinations of available data sets:"
   ]
  },
  {
   "cell_type": "code",
   "execution_count": 60,
   "id": "early-favor",
   "metadata": {},
   "outputs": [
    {
     "name": "stdout",
     "output_type": "stream",
     "text": [
      "{data1 (a_1, b_3 | a_3, c_1)_II,\n",
      " data3 (b_3, e_1 | a_3, c_1)_III\n",
      "}  -- model 1 -->  data3 (b_3, e_1 | a_3, c_1)_II\n",
      "{data1 (a_1, b_3 | a_3, c_1)_II,\n",
      " data3 (b_3, e_1 | a_3, c_1)_III\n",
      "}  -- model 2 -->  data3 (b_3, e_1 | a_3, c_1)_II\n"
     ]
    }
   ],
   "source": [
    "available_data = md.SetOfSources(start_set=[data1, data2])\n",
    "\n",
    "print(available_data, \" -- model 1 --> \", model1.apply(available_data.set_of_sources)[0])\n",
    "\n",
    "print(available_data, \" -- model 2 --> \", model2.apply(available_data.set_of_sources)[0])"
   ]
  }
 ],
 "metadata": {
  "kernelspec": {
   "display_name": "phdenv",
   "language": "python",
   "name": "python3"
  },
  "language_info": {
   "codemirror_mode": {
    "name": "ipython",
    "version": 3
   },
   "file_extension": ".py",
   "mimetype": "text/x-python",
   "name": "python",
   "nbconvert_exporter": "python",
   "pygments_lexer": "ipython3",
   "version": "3.12.2"
  }
 },
 "nbformat": 4,
 "nbformat_minor": 5
}
