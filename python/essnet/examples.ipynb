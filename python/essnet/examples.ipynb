{
 "cells": [
  {
   "cell_type": "markdown",
   "id": "reliable-parish",
   "metadata": {},
   "source": [
    "# Examples of class usage\n",
    "The purpose of this notebook is to provide examples of the different concepts of the framework and its implementation. The code in this notebook is not part of the implementation of the problem. The mobility test case will be used as an example."
   ]
  },
  {
   "cell_type": "code",
   "execution_count": null,
   "id": "graduate-citizenship",
   "metadata": {},
   "outputs": [],
   "source": [
    "import metadata_analysis as md\n",
    "#from ipynb.fs.full.case_mobility import *  # import test case mobility"
   ]
  },
  {
   "cell_type": "markdown",
   "id": "welsh-chemical",
   "metadata": {
    "tags": []
   },
   "source": [
    "# Variables"
   ]
  },
  {
   "cell_type": "markdown",
   "id": "massive-liabilities",
   "metadata": {},
   "source": [
    "Example usage:"
   ]
  },
  {
   "cell_type": "code",
   "execution_count": null,
   "id": "ancient-minutes",
   "metadata": {},
   "outputs": [],
   "source": [
    "v1 = md.Variable(\"a\", 0)\n",
    "print(v1)\n",
    "\n",
    "v2 = md.Variable(\"b\", 2)\n",
    "print(v2)\n",
    "\n",
    "v3 = md.Variable(\"a\", 0)\n",
    "print(v3)"
   ]
  },
  {
   "cell_type": "markdown",
   "id": "identified-romantic",
   "metadata": {},
   "source": [
    "For equality, only the self.name and granularity must be equal. A different object name (in this example \"v1\" and \"v3\") does not affect equality."
   ]
  },
  {
   "cell_type": "code",
   "execution_count": null,
   "id": "supported-abortion",
   "metadata": {},
   "outputs": [],
   "source": [
    "print(v1 == v2)\n",
    "print(v1 == v3)"
   ]
  },
  {
   "cell_type": "markdown",
   "id": "rough-hungary",
   "metadata": {},
   "source": [
    "The hashes of v1 and v3 are equal, and distinct to v2."
   ]
  },
  {
   "cell_type": "code",
   "execution_count": null,
   "id": "bright-scott",
   "metadata": {},
   "outputs": [],
   "source": [
    "print(hash(v1))\n",
    "print(hash(v2))\n",
    "print(hash(v3))"
   ]
  },
  {
   "cell_type": "markdown",
   "id": "7b501ae5",
   "metadata": {},
   "source": [
    "# Conversion"
   ]
  },
  {
   "cell_type": "code",
   "execution_count": null,
   "id": "biblical-blanket",
   "metadata": {},
   "outputs": [],
   "source": [
    "# create conversion graphs\n",
    "con1 = md.ConversionGraph(variable_name=\"a\",\n",
    "                          granularities=[0, 1, 2, 3],\n",
    "                          conversion_edges=[(0, 1), (1, 2), (0, 3), (0, 4), (5, 6)])\n",
    "con2 = md.ConversionGraph(variable_name=\"b\",\n",
    "                          granularities=[0, 1, 2, 3, 5, 6],\n",
    "                          conversion_edges=[(0, 1), (1, 2), (0, 3), (0, 4), (4, 5)])\n",
    "con3 = md.ConversionGraph(variable_name=\"c\",\n",
    "                          granularities=[0, 1, 2, 3, 5, 6],\n",
    "                          conversion_edges=[(0, 1), (0, 2), (0, 3), (0, 4), (3, 5), (1, 6), (6, 7), (3, 6)])\n",
    "con4 = md.ConversionGraph(variable_name=\"d\",\n",
    "                          granularities=[0, 1, 2, 3],\n",
    "                          conversion_edges=[(0, 1), (1, 2), (0, 3), (0, 4), (5, 6)])\n",
    "con5 = md.ConversionGraph(variable_name=\"e\",\n",
    "                          granularities=[0, 1, 2, 3, 5, 6],\n",
    "                          conversion_edges=[(0, 1), (1, 2), (0, 3), (0, 4), (4, 5)])\n",
    "con6 = md.ConversionGraph(variable_name=\"f\",\n",
    "                          granularities=[0, 1, 2, 3, 5, 6],\n",
    "                         conversion_edges = [(0, 1), (0,2), (0,3), (0, 4), (3, 5), (1, 6), (6,7), (3,6)])"
   ]
  },
  {
   "cell_type": "code",
   "execution_count": null,
   "id": "initial-yield",
   "metadata": {},
   "outputs": [],
   "source": [
    "# plot conversion graph\n",
    "con2.plot_graph()"
   ]
  },
  {
   "cell_type": "markdown",
   "id": "allied-arthur",
   "metadata": {},
   "source": [
    "Is there a convsersion (path) between granularities (nodes) possible?"
   ]
  },
  {
   "cell_type": "code",
   "execution_count": null,
   "id": "surrounded-northwest",
   "metadata": {
    "tags": []
   },
   "outputs": [],
   "source": [
    "print(con1.check_conversion(2, 4))\n",
    "print(con1.check_conversion(0, 5))"
   ]
  },
  {
   "cell_type": "markdown",
   "id": "sealed-polyester",
   "metadata": {},
   "source": [
    "Which granularities can be converted from a specific granularity?"
   ]
  },
  {
   "cell_type": "code",
   "execution_count": null,
   "id": "amateur-vision",
   "metadata": {},
   "outputs": [],
   "source": [
    "print(con1.all_conversions(0))\n",
    "print(con1.all_conversions(5))"
   ]
  },
  {
   "cell_type": "markdown",
   "id": "liable-registration",
   "metadata": {},
   "source": [
    "The classmethod get() allows us to find an instance of the class for a desired variable name. In the following code, switch between var_name \"a\" and \"b\" and execute the plot to see that the correct instance is found in this way. This will be usefull later, when a dataset with variables is known and we want to find a conversiongraph for one of the variables, without having to hard code the variable name."
   ]
  },
  {
   "cell_type": "code",
   "execution_count": null,
   "id": "disturbed-output",
   "metadata": {},
   "outputs": [],
   "source": [
    "con_x = md.ConversionGraph.get(var_name = \"b\")\n",
    "con_x.plot_graph()"
   ]
  },
  {
   "cell_type": "markdown",
   "id": "physical-affair",
   "metadata": {},
   "source": [
    "If the ConversionGraph was not initialised, it will raise an error. Due to the `%%script true` line, the error that would be raised by this cell does not stop a `Run all`. To execute this cell, remove or comment out the `%%script true` line. "
   ]
  },
  {
   "cell_type": "code",
   "execution_count": null,
   "id": "registered-lighter",
   "metadata": {},
   "outputs": [],
   "source": [
    "%%script true\n",
    "con_x = md.ConversionGraph.get(var_name = \"z\")\n",
    "con_x.plot_graph()"
   ]
  },
  {
   "cell_type": "markdown",
   "id": "fatal-baker",
   "metadata": {},
   "source": [
    "# Aggregation\n",
    "Aggregation is only dependent on the variable itself, not on the data set it is in. It functions as a directed graph."
   ]
  },
  {
   "cell_type": "code",
   "execution_count": null,
   "id": "dangerous-requirement",
   "metadata": {},
   "outputs": [],
   "source": [
    "# create aggregation graphs\n",
    "agg1 = md.AggregationGraph(variable_name = \"a\",\n",
    "                        granularities = [0,1,2,3, 5, 6],\n",
    "                        aggregation_edges = [(0,1), (1,2), (2,5), (0,6), (0, 4), (5, 6)])\n",
    "\n",
    "agg2 = md.AggregationGraph(variable_name = \"b\",\n",
    "                        granularities = [0,1,2,3],\n",
    "                        aggregation_edges = [(0,1), (1,2), (2,1), (0,3), (0, 4), (5, 6)])\n",
    "\n",
    "agg3 = md.AggregationGraph(variable_name = \"c\",\n",
    "                        granularities = [0,1,2,3],\n",
    "                        aggregation_edges = [(0,1), (1,2), (2,1), (0,3), (0, 4), (5, 6), (1,7)])\n",
    "\n",
    "agg4 = md.AggregationGraph(variable_name = \"d\",\n",
    "                        granularities = [0,1,2,3, 5, 6],\n",
    "                        aggregation_edges = [(0,1), (1,2), (2,5), (0,6), (0, 4), (5, 6)])\n",
    "\n",
    "agg5 = md.AggregationGraph(variable_name = \"e\",\n",
    "                        granularities = [0,1,2,3],\n",
    "                        aggregation_edges = [(0,1), (1,2), (2,1), (0,3), (0, 4), (5, 6)])\n",
    "\n",
    "agg6 = md.AggregationGraph(variable_name = \"f\",\n",
    "                        granularities = [0,1,2,3],\n",
    "                        aggregation_edges = [(0,1), (1,2), (2,1), (0,3), (0, 4), (5, 6), (1,7)])"
   ]
  },
  {
   "cell_type": "code",
   "execution_count": null,
   "id": "equipped-leather",
   "metadata": {},
   "outputs": [],
   "source": [
    "# plot aggregation graph\n",
    "agg2.plot_graph()"
   ]
  },
  {
   "cell_type": "code",
   "execution_count": null,
   "id": "ranking-delaware",
   "metadata": {
    "tags": []
   },
   "outputs": [],
   "source": [
    "print(agg1.check_aggregation(2, 4))\n",
    "print(agg1.check_aggregation(0, 2))\n",
    "print(agg1.check_aggregation(0, 5))"
   ]
  },
  {
   "cell_type": "markdown",
   "id": "baking-breeding",
   "metadata": {},
   "source": [
    "Which granularities can be converted from a specific granularity?"
   ]
  },
  {
   "cell_type": "code",
   "execution_count": null,
   "id": "active-silly",
   "metadata": {},
   "outputs": [],
   "source": [
    "print(agg1.all_aggregations(0))\n",
    "print(agg2.all_aggregations(1))"
   ]
  },
  {
   "cell_type": "code",
   "execution_count": null,
   "id": "saving-nightlife",
   "metadata": {},
   "outputs": [],
   "source": [
    "agg_x = md.AggregationGraph.get(\"b\")\n",
    "print(agg_x.granularities)\n",
    "agg_x.plot_graph()"
   ]
  },
  {
   "cell_type": "markdown",
   "id": "74a0058a",
   "metadata": {},
   "source": [
    "# Aggregation table\n",
    "An aggregation table describes the relation between values from one granularity to another granularity. It describes exactly one edge of the aggregation graph. Aggregation tables are used in the description of a set of included units. Note: an aggregation graph must be defined before a corresponding aggegration table can be defined (a NotInitialisedError will let you know). "
   ]
  },
  {
   "cell_type": "code",
   "execution_count": null,
   "id": "435d62f9",
   "metadata": {},
   "outputs": [],
   "source": [
    "# test with adding atribute to graph\n",
    "agg1 = md.AggregationGraph(variable_name = \"a\",\n",
    "                           granularities = [0,1,2,3, 5, 6],\n",
    "                           aggregation_edges = [(0,1), (1,2), (2,5), (0,6), (0, 4), (5, 6)])"
   ]
  },
  {
   "cell_type": "code",
   "execution_count": null,
   "id": "cbb06f65",
   "metadata": {},
   "outputs": [],
   "source": [
    "at_1 = md.AggregationTable(variable_name=\"a\", granularity_from=0, granularity_to=1, \n",
    "                           value_map={\"ab\": {\"aa\", \"bb\"}, \n",
    "                                      \"cd\": {\"cc\", \"dd\"}, \n",
    "                                      \"ef\": {\"ee\", \"ff\"},\n",
    "                                      \"gg\": {\"gg\"}})\n",
    "#at_2 = AggregationTable(variable_name=\"a\", granularity_from=1, granularity_to=2, \n",
    "#                        value_map={0: {\"ab\", \"cd\"}, \n",
    "#                                   1: {\"ef\", \"gg\"}})\n",
    "print(at_1)"
   ]
  },
  {
   "cell_type": "code",
   "execution_count": null,
   "id": "e327977f",
   "metadata": {},
   "outputs": [],
   "source": [
    "at_2 = md.AggregationTable(variable_name=\"a\", granularity_from=1, granularity_to=2, \n",
    "                        value_map={0: {\"ab\", \"cd\"}, \n",
    "                                   1: {\"ef\", \"gg\"}})\n",
    "print(at_2)"
   ]
  },
  {
   "cell_type": "code",
   "execution_count": null,
   "id": "48a956d8",
   "metadata": {},
   "outputs": [],
   "source": [
    "# lookup an aggregation table for a specific edge in the aggregation graph\n",
    "at_returned = agg1.get_aggregation_table(0, 1)\n",
    "\n",
    "# aggregation tables are printed with the following format\n",
    "print(at_returned)"
   ]
  },
  {
   "cell_type": "markdown",
   "id": "18aaaeda",
   "metadata": {},
   "source": [
    "Edges with an aggregation table specified, will be displayed in blue when the graph is plotted."
   ]
  },
  {
   "cell_type": "code",
   "execution_count": null,
   "id": "a14a4f60",
   "metadata": {},
   "outputs": [],
   "source": [
    "agg1.plot_graph()"
   ]
  },
  {
   "cell_type": "code",
   "execution_count": null,
   "id": "18b3608e",
   "metadata": {},
   "outputs": [],
   "source": [
    "print(at_1)\n",
    "print(at_2)"
   ]
  },
  {
   "cell_type": "markdown",
   "id": "afc2815a",
   "metadata": {},
   "source": [
    "Two aggregation tables can be chained such that the resulting table reflects the application of applying both aggregation tables one after the other. A requirement is that the aggregation tables must be defined on the same variable names, and there must be one granularity in common (if not, warnings will be raised)."
   ]
  },
  {
   "cell_type": "code",
   "execution_count": null,
   "id": "92a35c77",
   "metadata": {},
   "outputs": [],
   "source": [
    "at_chained = at_2.chain(at_1)\n",
    "print(at_chained)"
   ]
  },
  {
   "cell_type": "markdown",
   "id": "6916c35a",
   "metadata": {},
   "source": [
    "Chaining aggregation tables into a new table automatically creates a \"shortcut\" edge in the aggregation graph. Shortcut edges can be recognised in the plot by a blue dotted line. "
   ]
  },
  {
   "cell_type": "code",
   "execution_count": null,
   "id": "94c14633",
   "metadata": {},
   "outputs": [],
   "source": [
    "agg1.plot_graph()"
   ]
  },
  {
   "cell_type": "markdown",
   "id": "146d7185",
   "metadata": {},
   "source": [
    "# Specifying variables\n",
    "Third type of variable, where we need to know all possible values."
   ]
  },
  {
   "cell_type": "code",
   "execution_count": null,
   "id": "568a338c",
   "metadata": {},
   "outputs": [],
   "source": [
    "varsou_a0 = md.VariableSpec(\"a\", 0, {\"aa\", \"bb\", \"cc\", \"dd\", \"ee\", \"ff\", \"gg\"})\n",
    "print(varsou_a0)\n",
    "\n",
    "varsou_a1 = md.VariableSpec(\"a\", 1, {\"ab\", \"cd\", \"ef\", \"gg\"})\n",
    "print(varsou_a1)\n",
    "\n",
    "varsou_a2 = md.VariableSpec(\"a\", 2, {0, 1})\n",
    "print(varsou_a2)"
   ]
  },
  {
   "cell_type": "markdown",
   "id": "e4ff6106",
   "metadata": {},
   "source": [
    "### Set operators for Specifying Variables\n",
    "`AggregationTables` define the relations between specifying variables and inform operators such as `is_subset()`, `union()` and `intersection()`. "
   ]
  },
  {
   "cell_type": "code",
   "execution_count": null,
   "id": "37a6c6a6",
   "metadata": {},
   "outputs": [],
   "source": [
    "varspec_a0 = md.VariableSpec(\"a\", 0, {\"aa\", \"bb\", \"cc\"})\n",
    "print(varspec_a0)\n",
    "\n",
    "varspec_a1 = md.VariableSpec(\"a\", 1, {\"ab\", \"cd\"})\n",
    "print(varspec_a1)\n",
    "\n",
    "varspec_a2 = md.VariableSpec(\"a\", 2, {0})\n",
    "print(varspec_a2)"
   ]
  },
  {
   "cell_type": "code",
   "execution_count": null,
   "id": "6748ee46",
   "metadata": {},
   "outputs": [],
   "source": [
    "print(varspec_a0.is_subset(varspec_a1))  # True\n",
    "print(varspec_a1.is_subset(varspec_a2))  # True\n",
    "print(varspec_a0.is_subset(varspec_a2))  # True\n",
    "print(varspec_a1.is_subset(varspec_a0))  # False\n",
    "print(varspec_a0.is_subset(varspec_a0))  # True"
   ]
  },
  {
   "cell_type": "code",
   "execution_count": null,
   "id": "059768b2",
   "metadata": {},
   "outputs": [],
   "source": [
    "varspec_a0 = md.VariableSpec(\"a\", 0, {\"aa\", \"bb\", \"cc\", \"dd\", \"ee\"})\n",
    "print(varspec_a0)\n",
    "\n",
    "varspec_a2 = md.VariableSpec(\"a\", 2, {0})\n",
    "print(varspec_a2)\n",
    "\n",
    "print(varspec_a0.is_subset(varspec_a2))  # False\n",
    "print(varspec_a2.is_subset(varspec_a0))  # True"
   ]
  },
  {
   "cell_type": "markdown",
   "id": "bfb02c17",
   "metadata": {},
   "source": [
    "If the specifying variables are for different variable names, they can never be subsets. (Even if the granularity and values_available are an exact match.)"
   ]
  },
  {
   "cell_type": "code",
   "execution_count": null,
   "id": "c6172352",
   "metadata": {},
   "outputs": [],
   "source": [
    "md.VariableSpec(\"a\", 2, {1}).is_subset(md.VariableSpec(\"b\", 2, {1}))"
   ]
  },
  {
   "cell_type": "markdown",
   "id": "70c81708",
   "metadata": {},
   "source": [
    "Intersections for specifying variables."
   ]
  },
  {
   "cell_type": "code",
   "execution_count": null,
   "id": "fa32ccbf",
   "metadata": {},
   "outputs": [],
   "source": [
    "print(md.VariableSpec(\"a\", 2, {0, 1}).intersection(md.VariableSpec(\"a\", 2, {0})))\n",
    "print(md.VariableSpec(\"a\", 2, {0, 1}).intersection(md.VariableSpec(\"a\", 2, {1,2,0})))\n",
    "print(md.VariableSpec(\"a\", 2, {0, 1}).intersection(md.VariableSpec(\"b\", 2, {0})))\n",
    "print(md.VariableSpec(\"a\", 2, {0, 1}).intersection(md.VariableSpec(\"a\", 2, {2,3})))\n",
    "print(md.VariableSpec(\"a\", 2, {0}).intersection(md.VariableSpec(\"a\", 0, {\"aa\", \"bb\", \"ee\", \"gg\"})))"
   ]
  },
  {
   "cell_type": "markdown",
   "id": "2bd12c38",
   "metadata": {},
   "source": [
    "Union for specifying variables."
   ]
  },
  {
   "cell_type": "code",
   "execution_count": null,
   "id": "faed0fcc",
   "metadata": {},
   "outputs": [],
   "source": [
    "print(md.VariableSpec(\"a\", 2, {1}).union(md.VariableSpec(\"a\", 2, {0})))\n",
    "print(md.VariableSpec(\"a\", 2, {0, 1}).union(md.VariableSpec(\"a\", 2, {1,2})))\n",
    "print(md.VariableSpec(\"a\", 2, {0, 1}).union(md.VariableSpec(\"b\", 2, {0})))\n",
    "print(md.VariableSpec(\"a\", 2, {0, 1}).union(md.VariableSpec(\"a\", 2, {2,3})))\n",
    "print(md.VariableSpec(\"a\", 2, {0}).union(md.VariableSpec(\"a\", 0, {\"aa\", \"bb\", \"ee\", \"gg\"})))"
   ]
  },
  {
   "cell_type": "markdown",
   "id": "804acfa8",
   "metadata": {},
   "source": [
    "# Set of Included Units\n",
    "A set of included units is defined by one unit type (a variable), and by a set of specifying variables. "
   ]
  },
  {
   "cell_type": "code",
   "execution_count": null,
   "id": "a06bd38e",
   "metadata": {},
   "outputs": [],
   "source": [
    "sou1 = md.SetOfIncludedUnits(name = \"I\", unit_type_var = md.Variable(\"p\", 0), \n",
    "                             specifying_variables = {md.VariableSpec(\"a\", 2, {1}), \n",
    "                                                     md.VariableSpec(\"b\", 2, {0})})\n",
    "print(sou1)\n",
    "\n",
    "sou2 = md.SetOfIncludedUnits(name = \"II\", unit_type_var = md.Variable(\"p\", 0), \n",
    "                             specifying_variables = {md.VariableSpec(\"a\", 2, {0, 1}), \n",
    "                                                     md.VariableSpec(\"b\", 2, {0,1})})\n",
    "print(sou2)\n",
    "\n",
    "sou3 = md.SetOfIncludedUnits(name = \"III\", unit_type_var = md.Variable(\"p\", 0), \n",
    "                             specifying_variables = {md.VariableSpec(\"a\", 0, {\"aa\", \"bb\", \"dd\", \"ff\"}), \n",
    "                                                     md.VariableSpec(\"b\", 2, {0,1})})\n",
    "print(sou3)\n",
    "\n",
    "sou4 = md.SetOfIncludedUnits(name = \"IV\", unit_type_var = md.Variable(\"x\", 0), \n",
    "                             specifying_variables = {md.VariableSpec(\"a\", 0, {\"aa\", \"bb\", \"dd\", \"ff\"}), \n",
    "                                                     md.VariableSpec(\"b\", 2, {0,1})})\n",
    "print(sou4)\n"
   ]
  },
  {
   "cell_type": "markdown",
   "id": "61ae4739",
   "metadata": {},
   "source": [
    "A set of included units is a subset of another set of included units if they have the same unit type, and if every specifying variable is a subset of a specifying variable of the other set of inlcuded units. "
   ]
  },
  {
   "cell_type": "code",
   "execution_count": null,
   "id": "d21a7ce5",
   "metadata": {},
   "outputs": [],
   "source": [
    "print(\"I \\u2286 II:\", sou1.is_subset(sou2))\n",
    "print(\"II \\u2286 I:\", sou2.is_subset(sou1))\n",
    "\n",
    "print(\"III \\u2286 I:\", sou3.is_subset(sou1))\n",
    "print(\"I \\u2286 III:\", sou1.is_subset(sou3))\n",
    "print(\"II \\u2286 III:\", sou2.is_subset(sou3))\n",
    "print(\"III \\u2286 II:\", sou3.is_subset(sou2))"
   ]
  },
  {
   "cell_type": "markdown",
   "id": "d6a4c62e",
   "metadata": {},
   "source": [
    "Intersections of sets of included units."
   ]
  },
  {
   "cell_type": "code",
   "execution_count": null,
   "id": "810d1a4a",
   "metadata": {},
   "outputs": [],
   "source": [
    "print(sou1)\n",
    "print(sou2)\n",
    "print(sou3)\n",
    "print(\"\")\n",
    "for sou_a in [sou1, sou2, sou3]:\n",
    "    for sou_b in [sou1, sou2, sou3]:\n",
    "        print(sou_a.intersection(sou_b))"
   ]
  },
  {
   "cell_type": "markdown",
   "id": "70a639f2",
   "metadata": {},
   "source": [
    "# Set of Included Units Union\n",
    "Required because not all unions of a soiu can be simplified in the form of a single soiu. We name these soiuc."
   ]
  },
  {
   "cell_type": "code",
   "execution_count": null,
   "id": "b95c78d8",
   "metadata": {},
   "outputs": [],
   "source": [
    "print(sou1)\n",
    "print(sou2)\n",
    "print(sou3)\n",
    "print(sou4)\n",
    "print(\"\")\n",
    "for sou_a in [sou1, sou2, sou3, sou4]:\n",
    "    for sou_b in [sou1, sou2, sou3, sou4]:\n",
    "        print(sou_a.union(sou_b))"
   ]
  },
  {
   "cell_type": "code",
   "execution_count": null,
   "id": "6a414241",
   "metadata": {},
   "outputs": [],
   "source": [
    "# create a soiuc from three soiu's\n",
    "soiuc123 = md.SetOfIncludedUnitsUnion(set_of_soiu=[sou1, sou3, sou2])\n",
    "print(soiuc123)"
   ]
  },
  {
   "cell_type": "markdown",
   "id": "9dac4271",
   "metadata": {},
   "source": [
    "Get the minimum granularities of all specifying variable used in the description of the SOIUUnion."
   ]
  },
  {
   "cell_type": "code",
   "execution_count": null,
   "id": "06ab0076",
   "metadata": {},
   "outputs": [],
   "source": [
    "soiuc123.get_minimum_granularities()"
   ]
  },
  {
   "cell_type": "markdown",
   "id": "a683fd94",
   "metadata": {},
   "source": [
    "Create a soiuc from more than two soiu's. The naming should contain II only once."
   ]
  },
  {
   "cell_type": "code",
   "execution_count": null,
   "id": "73a94b3a",
   "metadata": {},
   "outputs": [],
   "source": [
    "# create a soiuc from three soiu's\n",
    "soiuc12 = md.SetOfIncludedUnitsUnion(set_of_soiu=[sou1, sou2])\n",
    "print(soiuc12)\n",
    "soiuc23 = md.SetOfIncludedUnitsUnion(set_of_soiu=[sou2, sou3])\n",
    "print(soiuc23)\n",
    "soiuc12_23 = soiuc12.union(soiuc23)\n",
    "print(soiuc12_23)"
   ]
  },
  {
   "cell_type": "markdown",
   "id": "1646ca0d",
   "metadata": {},
   "source": [
    "Intersection between soiuc."
   ]
  },
  {
   "cell_type": "code",
   "execution_count": null,
   "id": "997ca09c",
   "metadata": {},
   "outputs": [],
   "source": [
    "# intersection\n",
    "soiuc12_23 = soiuc12.intersection(soiuc23)\n",
    "print(soiuc12_23)"
   ]
  },
  {
   "cell_type": "markdown",
   "id": "de9ef48a",
   "metadata": {},
   "source": [
    "Get the minimally used granularities across all variables in the soiuc."
   ]
  },
  {
   "cell_type": "code",
   "execution_count": null,
   "id": "fcddcfc7",
   "metadata": {},
   "outputs": [],
   "source": [
    "soiuc123.get_minimum_granularities()"
   ]
  },
  {
   "cell_type": "markdown",
   "id": "3514d19c",
   "metadata": {},
   "source": [
    "A soiu can be changed to desired granularity levels. "
   ]
  },
  {
   "cell_type": "code",
   "execution_count": null,
   "id": "4335e52c",
   "metadata": {},
   "outputs": [],
   "source": [
    "print(\"original soiu: \", sou2)\n",
    "desired_grans = soiuc123.get_minimum_granularities()\n",
    "print(\"desired_granularities: \", desired_grans)\n",
    "sou2_adjusted = sou2.adjust_granularities(desired_grans)\n",
    "print(\"adjusted soiu: \", sou2_adjusted)"
   ]
  },
  {
   "cell_type": "markdown",
   "id": "ebfffab1",
   "metadata": {},
   "source": [
    "A soiu can be turned into a soiuc using all value combinations in the soiu."
   ]
  },
  {
   "cell_type": "code",
   "execution_count": null,
   "id": "9ec7ddac",
   "metadata": {},
   "outputs": [],
   "source": [
    "print([str(x) for x in sou2.split()])"
   ]
  },
  {
   "cell_type": "markdown",
   "id": "42b030c4",
   "metadata": {},
   "source": [
    "We can determine if a soiu or soiuc is a subset of a soiuc:"
   ]
  },
  {
   "cell_type": "code",
   "execution_count": null,
   "id": "97f2deca",
   "metadata": {},
   "outputs": [],
   "source": [
    "print(sou1)\n",
    "print(sou2)\n",
    "print(sou3)\n",
    "print(sou4)\n",
    "print(\"\")\n",
    "for sou_a in [sou1, sou2, sou3, sou4, sou1.union(sou2), sou2.union(sou3)]:\n",
    "    for sou_b in [sou1, sou2, sou3, sou4, sou1.union(sou2), sou2.union(sou3)]:\n",
    "        print(sou_a.name, \" \\u2286 \", sou_b.name, \": \", sou_a.is_subset(sou_b))"
   ]
  },
  {
   "cell_type": "markdown",
   "id": "palestinian-studio",
   "metadata": {},
   "source": [
    "# Data set\n",
    "Contains a list of left-hand variables and a list of right-hand variables."
   ]
  },
  {
   "cell_type": "code",
   "execution_count": null,
   "id": "editorial-humor",
   "metadata": {},
   "outputs": [],
   "source": [
    "data1 = md.Data(left_variables =[md.Variable(\"a\", 1), md.Variable(\"b\", 3)],\n",
    "                right_variables =[md.Variable(\"b\", 1), md.Variable(\"a\", 2)],\n",
    "                set_of_units=sou1,\n",
    "                name=\"data 1\")\n",
    "data2 = md.Data(left_variables =[md.Variable(\"e\", 1), md.Variable(\"b\", 3)],\n",
    "          right_variables =[md.Variable(\"c\", 1), md.Variable(\"a\", 3)],\n",
    "         set_of_units=sou1,\n",
    "                name=\"data 2\")\n",
    "data3 = md.Data(left_variables =[md.Variable(\"a\", 1), md.Variable(\"b\", 3)],\n",
    "          right_variables =[md.Variable(\"c\", 1), md.Variable(\"a\", 3)],\n",
    "         set_of_units=sou2,\n",
    "                name=\"data 3\")\n",
    "data4 = md.Data(left_variables =[md.Variable(\"a\", 1), md.Variable(\"b\", 3)],\n",
    "          right_variables =[md.Variable(\"c\", 1), md.Variable(\"a\", 3)],\n",
    "         set_of_units=sou4,\n",
    "                name=\"data 4\")\n",
    "\n",
    "for d in [data1, data2, data3, data4]:\n",
    "    print(d)\n"
   ]
  },
  {
   "cell_type": "markdown",
   "id": "treated-craft",
   "metadata": {},
   "source": [
    "Euquality depends on the equality of left_variables, right_variables and set of included units. A different name for the same data sources does not affect eqality:"
   ]
  },
  {
   "cell_type": "code",
   "execution_count": null,
   "id": "altered-intervention",
   "metadata": {},
   "outputs": [],
   "source": [
    "print(data1 == data2)\n",
    "print(data1 == data3)  \n",
    "print(data1 == data4)"
   ]
  },
  {
   "cell_type": "markdown",
   "id": "dutch-organic",
   "metadata": {},
   "source": [
    "Similarity between two data sources is based on the variables and units they have in common. If two data sets are equal, then the similarity score will be huge."
   ]
  },
  {
   "cell_type": "code",
   "execution_count": null,
   "id": "dedicated-scientist",
   "metadata": {},
   "outputs": [],
   "source": [
    "print(data1.similarity(data2))\n",
    "print(data1.similarity(data3))\n",
    "print(data2.similarity(data3))\n",
    "print(data1.similarity(data1))"
   ]
  },
  {
   "cell_type": "markdown",
   "id": "varying-arbitration",
   "metadata": {},
   "source": [
    "Neighbours of a data source are defined as all other data sources that can be created by a single conversion or aggregation. Note that combination is not included here, because it requires two input data sources."
   ]
  },
  {
   "cell_type": "code",
   "execution_count": null,
   "id": "noble-combat",
   "metadata": {},
   "outputs": [],
   "source": [
    "print(str(data1) + \" has neighbours: \")\n",
    "\n",
    "neighbours = data1.get_neighbours()\n",
    "for n in neighbours:\n",
    "    print(n)"
   ]
  },
  {
   "cell_type": "markdown",
   "id": "living-mainland",
   "metadata": {},
   "source": [
    "# Combining\n",
    "Combining depends on two data sources. It is allowed when their right variables are equal. Column wise combining: when the set of included units of both input sources have some overlap (non-empty intersection), the union of all left variables is available in the new data source, for the intersection of the set of included units. Row wise combining: when the set of included units of both sources have no overlap (empty intersection), the intersection of the left variables is available in the new data source, but the new set of included units is the union of the set of included units of the two input sources. Sometimes, both row-wise and column-wise combination are possible, resulting into two different outcomes. The combines() function checks both options and will return a tuple with te row- and column-wise combination results respectively. If a combination is not possible, the result will be False."
   ]
  },
  {
   "cell_type": "code",
   "execution_count": null,
   "id": "forbidden-generation",
   "metadata": {},
   "outputs": [],
   "source": [
    "# define data sources:\n",
    "data1 = md.Data(left_variables =[md.Variable(\"a\", 1), md.Variable(\"b\", 3)],\n",
    "          right_variables =[md.Variable(\"c\", 1), md.Variable(\"a\", 3)],\n",
    "         set_of_units=sou1.union(sou2),\n",
    "         name=\"testdata1\")\n",
    "data2 = md.Data(left_variables =[md.Variable(\"e\", 1), md.Variable(\"b\", 3)],\n",
    "          right_variables =[md.Variable(\"c\", 1), md.Variable(\"a\", 3)],\n",
    "         set_of_units=sou1.union(sou3),\n",
    "         name=\"testdata2\")\n",
    "data3 = md.Data(left_variables =[md.Variable(\"e\", 1), md.Variable(\"b\", 3)],\n",
    "          right_variables =[md.Variable(\"c\", 1), md.Variable(\"a\", 3)],\n",
    "         set_of_units=sou2,\n",
    "         name=\"testdata3\")\n",
    "\n",
    "for d in [data1, data2, data3]:\n",
    "    print(d)"
   ]
  },
  {
   "cell_type": "code",
   "execution_count": null,
   "id": "cb30c363",
   "metadata": {},
   "outputs": [],
   "source": [
    "print(data1.set_of_units.intersection(data2.set_of_units))"
   ]
  },
  {
   "cell_type": "code",
   "execution_count": null,
   "id": "antique-attraction",
   "metadata": {},
   "outputs": [],
   "source": [
    "data1_2_row, data1_2_col = md.combines(data1, data2)\n",
    "\n",
    "print(data1, \" + \", data2, \" -- row-wise --> \", data1_2_row)\n",
    "print(data1, \" + \", data2, \" -- column-wise --> \", data1_2_col)"
   ]
  },
  {
   "cell_type": "code",
   "execution_count": null,
   "id": "level-eleven",
   "metadata": {},
   "outputs": [],
   "source": [
    "data1_3_row, data1_3_col = md.combines(data1, data3)\n",
    "\n",
    "print(data1, \" + \", data3, \" -- row-wise --> \", data1_3_row)\n",
    "print(data1, \" + \", data3, \" -- column-wise --> \", data1_3_col)"
   ]
  },
  {
   "cell_type": "code",
   "execution_count": null,
   "id": "concerned-sleeping",
   "metadata": {},
   "outputs": [],
   "source": [
    "data2_3_row, data2_3_col = md.combines(data2, data3)\n",
    "\n",
    "print(data2, \" + \", data3, \" -- row-wise --> \", data2_3_row)\n",
    "print(data2, \" + \", data3, \" -- column-wise --> \", data2_3_col)"
   ]
  },
  {
   "cell_type": "markdown",
   "id": "directed-upgrade",
   "metadata": {},
   "source": [
    "# Set of currently available sources\n",
    "We start with a set of available sources. In the search towards the goal, the set of available sources will be updated based on manipulation steps applied to each source. "
   ]
  },
  {
   "cell_type": "markdown",
   "id": "timely-edwards",
   "metadata": {},
   "source": [
    "Define start set with two data sources. Checking if the third source is in the set, should return False."
   ]
  },
  {
   "cell_type": "code",
   "execution_count": null,
   "id": "military-instrumentation",
   "metadata": {},
   "outputs": [],
   "source": [
    "# define start set\n",
    "start_set = {data1, data2}\n",
    "available_set = md.SetOfSources(start_set)\n",
    "print(available_set)\n",
    "print(available_set.contains(data3))"
   ]
  },
  {
   "cell_type": "markdown",
   "id": "described-tribune",
   "metadata": {},
   "source": [
    "Add a third source. Checking that it is in the set, should now return True."
   ]
  },
  {
   "cell_type": "code",
   "execution_count": null,
   "id": "deadly-botswana",
   "metadata": {},
   "outputs": [],
   "source": [
    "available_set.add_data_source(data3, path_step=\"test\")\n",
    "print(available_set)\n",
    "\n",
    "# adding the same source again, does not get added to the list\n",
    "available_set.add_data_source(data3)\n",
    "print(available_set)\n",
    "print(available_set.contains(data3))"
   ]
  },
  {
   "cell_type": "markdown",
   "id": "artificial-column",
   "metadata": {},
   "source": [
    "Even more so, checking if a different object (data4) is in the set, when it has the exact same properties as one of the objects in the set (data1) should also return True."
   ]
  },
  {
   "cell_type": "code",
   "execution_count": null,
   "id": "regular-potato",
   "metadata": {},
   "outputs": [],
   "source": [
    "data4 = md.Data(left_variables =[md.Variable(\"a\", 1), md.Variable(\"b\", 3)],\n",
    "             right_variables =[md.Variable(\"c\", 1), md.Variable(\"a\", 3)],\n",
    "             set_of_units=sou1,\n",
    "             name=\"data4\")\n",
    "print(available_set.contains(data4))"
   ]
  },
  {
   "cell_type": "markdown",
   "id": "innocent-space",
   "metadata": {},
   "source": [
    "The similarity of a data source can be compared to the available set. Note: several variants of the similarity score are implemented. "
   ]
  },
  {
   "cell_type": "code",
   "execution_count": null,
   "id": "abstract-granny",
   "metadata": {},
   "outputs": [],
   "source": [
    "data5 = md.Data(left_variables =[md.Variable(\"a\", 1), md.Variable(\"b\", 3)],\n",
    "             right_variables =[md.Variable(\"c\", 1), md.Variable(\"a\", 4)],\n",
    "             set_of_units=sou4,\n",
    "             name=\"data5\")\n",
    "available_set.similarity_max(data5)"
   ]
  },
  {
   "cell_type": "markdown",
   "id": "certain-watershed",
   "metadata": {},
   "source": [
    "All data sources that can be created from the available sources can be found using get_neighbours(). This includes all neighbours from a single conversion, aggregation or combination."
   ]
  },
  {
   "cell_type": "code",
   "execution_count": null,
   "id": "monthly-occurrence",
   "metadata": {},
   "outputs": [],
   "source": [
    "for x in available_set.get_neighbours(agg=True):\n",
    "    print(x)"
   ]
  },
  {
   "cell_type": "markdown",
   "id": "partial-manufacturer",
   "metadata": {},
   "source": [
    "During the search, it is important to identify of two sets of sources are equal. This is possible because of the __eq__() method."
   ]
  },
  {
   "cell_type": "code",
   "execution_count": null,
   "id": "variable-journal",
   "metadata": {},
   "outputs": [],
   "source": [
    "set1 = md.SetOfSources(start_set=[data1, data2])\n",
    "set2 = md.SetOfSources(start_set=[data2, data1])\n",
    "set3 = md.SetOfSources(start_set=[data2, data3])\n",
    "print(set1 == set2)\n",
    "print(set1 == set3)"
   ]
  },
  {
   "cell_type": "markdown",
   "id": "educational-batman",
   "metadata": {},
   "source": [
    "# Modelling\n",
    "Modelling is currently implemented as exceptions to the rules of the other manipulations. Each available model, however trivial, must be specified."
   ]
  },
  {
   "cell_type": "code",
   "execution_count": null,
   "id": "piano-procurement",
   "metadata": {},
   "outputs": [],
   "source": [
    "# define data sources:\n",
    "data1 = md.Data(left_variables =[md.Variable(\"a\", 1), md.Variable(\"b\", 3)],\n",
    "          right_variables =[md.Variable(\"c\", 1), md.Variable(\"a\", 3)],\n",
    "         set_of_units=sou1.union(sou2),\n",
    "             name=\"data1\")\n",
    "data2 = md.Data(left_variables =[md.Variable(\"e\", 1), md.Variable(\"b\", 3)],\n",
    "          right_variables =[md.Variable(\"c\", 1), md.Variable(\"a\", 3)],\n",
    "         set_of_units=sou3,\n",
    "             name=\"data3\")\n",
    "data3 = md.Data(left_variables =[md.Variable(\"e\", 1), md.Variable(\"b\", 3)],\n",
    "          right_variables =[md.Variable(\"c\", 1), md.Variable(\"a\", 3)],\n",
    "         set_of_units=sou2,\n",
    "             name=\"data3\")\n",
    "\n",
    "model1 = md.Model(input_data=[data1, data2], output_data=data3, units_rule=\"exact\")\n",
    "model2 = md.Model(input_data=[data1, data2], output_data=data3, units_rule=\"union\")"
   ]
  },
  {
   "cell_type": "markdown",
   "id": "interpreted-train",
   "metadata": {},
   "source": [
    "Apply the model for different combinations of available data sets:"
   ]
  },
  {
   "cell_type": "code",
   "execution_count": null,
   "id": "early-favor",
   "metadata": {},
   "outputs": [],
   "source": [
    "available_data = md.SetOfSources(start_set=[data1, data2])\n",
    "\n",
    "print(available_data, \" -- model 1 --> \", model1.apply(available_data.set_of_sources)[0])\n",
    "\n",
    "print(available_data, \" -- model 2 --> \", model2.apply(available_data.set_of_sources)[0])"
   ]
  },
  {
   "cell_type": "markdown",
   "id": "c964bac9",
   "metadata": {},
   "source": [
    "# Test mobility example models"
   ]
  },
  {
   "cell_type": "code",
   "execution_count": null,
   "id": "8de766e2",
   "metadata": {},
   "outputs": [],
   "source": [
    "# define data sources:\n",
    "data1 = md.Data(left_variables =[md.Variable(\"b\", 0), # source 0\n",
    "                              md.Variable(\"od\", 0)],\n",
    "             right_variables =[md.Variable(\"p\", 0),\n",
    "                               md.Variable(\"t\", 2)],\n",
    "             context=[\"A\", \"B\"])\n",
    "                               \n",
    "data2 = md.Data(left_variables =[md.Variable(\"m\", 0)],  # source 1\n",
    "             right_variables =[md.Variable(\"p\", 0),\n",
    "                               md.Variable(\"t\", 2)],\n",
    "             context=[\"A\"])\n",
    "\n",
    "data3 = md.Data(left_variables =[md.Variable(\"b\", 0), # source 0\n",
    "                              md.Variable(\"od\", 0)],\n",
    "             right_variables =[md.Variable(\"p\", 0),\n",
    "                               md.Variable(\"t\", 2)],\n",
    "             context=[\"B\"])\n",
    "\n",
    "\n",
    "model_mm = ModelModalityChoice()"
   ]
  },
  {
   "cell_type": "code",
   "execution_count": null,
   "id": "e38e57d3",
   "metadata": {},
   "outputs": [],
   "source": [
    "available_data = md.SetOfSources(start_set=[data1, data2, data3])\n",
    "print(available_data, \" -- model 1 --> \", model_mm.apply(available_data.set_of_sources)[0])\n",
    "\n",
    "for m in model_mm.apply(available_data.set_of_sources):\n",
    "    print(\"***\")\n",
    "    print(m)\n"
   ]
  },
  {
   "cell_type": "markdown",
   "id": "f396a0be",
   "metadata": {},
   "source": [
    "Test if adding models to the get_neighbours function helps to find more neighbours than without the models."
   ]
  },
  {
   "cell_type": "code",
   "execution_count": null,
   "id": "cbe40b58",
   "metadata": {},
   "outputs": [],
   "source": [
    "# without modelling\n",
    "available_data = md.SetOfSources(start_set=[data1, data2])\n",
    "print([str(x) for x in available_data.get_neighbours()])"
   ]
  },
  {
   "cell_type": "code",
   "execution_count": null,
   "id": "aa6d7cd3",
   "metadata": {},
   "outputs": [],
   "source": [
    "# with modelling (only)\n",
    "available_data = md.SetOfSources(start_set=[data1, data2])\n",
    "print([str(x) for x in available_data.get_neighbours_models(models=[model_mm])])"
   ]
  },
  {
   "cell_type": "markdown",
   "id": "d0f32592",
   "metadata": {},
   "source": [
    "### For the entire test "
   ]
  },
  {
   "cell_type": "code",
   "execution_count": null,
   "id": "2365ce61",
   "metadata": {},
   "outputs": [],
   "source": [
    "test = test_mobility"
   ]
  },
  {
   "cell_type": "code",
   "execution_count": null,
   "id": "c9d9337d",
   "metadata": {},
   "outputs": [],
   "source": [
    "print(type(test.start_set))\n",
    "print(type(test.models))\n",
    "print(type(test.models[0]))"
   ]
  },
  {
   "cell_type": "code",
   "execution_count": null,
   "id": "e32cf307",
   "metadata": {},
   "outputs": [],
   "source": [
    "all_neighbours = test.start_set.get_neighbours(agg=False)"
   ]
  },
  {
   "cell_type": "code",
   "execution_count": null,
   "id": "bb02f3e5",
   "metadata": {},
   "outputs": [],
   "source": []
  },
  {
   "cell_type": "code",
   "execution_count": null,
   "id": "990f9f16",
   "metadata": {},
   "outputs": [],
   "source": []
  }
 ],
 "metadata": {
  "kernelspec": {
   "display_name": "phdenv",
   "language": "python",
   "name": "python3"
  },
  "language_info": {
   "codemirror_mode": {
    "name": "ipython",
    "version": 3
   },
   "file_extension": ".py",
   "mimetype": "text/x-python",
   "name": "python",
   "nbconvert_exporter": "python",
   "pygments_lexer": "ipython3",
   "version": "3.12.2"
  }
 },
 "nbformat": 4,
 "nbformat_minor": 5
}
