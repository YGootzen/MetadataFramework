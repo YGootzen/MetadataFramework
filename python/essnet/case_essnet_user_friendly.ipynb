{
 "cells": [
  {
   "cell_type": "markdown",
   "id": "distributed-limitation",
   "metadata": {},
   "source": [
    "# Metadata analysis for combining data sets\n",
    "### Introduction\n",
    "This notebook presents a specifically tailored application to MNO data. It both illustrates the capabilities of metadata analysis, as well as enables those interested in combining MNO data with other data sets to analyse various scenario’s. Metadata from sources such as census data, MNO data, national travel survey,  and population register are preloaded. Metadata of models such as calibration from sim card to person, modality choice and shortest path are preloaded. The user can make a selection from these preloaded data sets and models, creating a specific scenario to be explored. Users may extend the framework by adding new data sets and models, thereby broadening the range of scenarios that can be analysed.\n",
    "\n",
    "For given user input, the framework is able to answer questions such as “Can an intended output be created from a given set of input data?” and “If so, what sequence of processing steps is then needed?”. The required input consists of several parts. \n",
    "* A list of available data sets, including administrative records, survey data, and other data sets such as sensor data, along with the variables included in each data set. \n",
    "* The relations between granularities of the variables across different data sets. \n",
    "* Available models defined by input and output data sets only, without the need to specify algorithmic details. \n",
    "* The target output is required in the form of a single data set, specified by a set of variables that the user wishes to generate. \n",
    "\n",
    "A python program automatically searches if the available models and data sets can lead to the desired target output. If possible, a path will be provided consisting of all analysis steps in chronological order required to create the target output. The resulting software is currently being prepared for open-source release as a python package. \n",
    "\n",
    "\n",
    "\n",
    "### How to use\n",
    "Use the run button (on the left of the grey box beneath \"Run analysis\") or `Ctrl+Enter` to activate the analysis. \n",
    "1. A legend will apear explaining the available variables and granularities used to define all other relevant objects for the analysis: data sets, sets of included units and models. \n",
    "2. Prompts are shown where you can specify the scenario you wish to analyse. \n",
    "3. Inspect and analyse the scenario, which means a path will be searched for between the available input data sets to the target output."
   ]
  },
  {
   "cell_type": "markdown",
   "id": "08bc7d6f",
   "metadata": {},
   "source": [
    "## Run analysis"
   ]
  },
  {
   "cell_type": "code",
   "execution_count": 1,
   "id": "6b708a30",
   "metadata": {},
   "outputs": [
    {
     "name": "stdout",
     "output_type": "stream",
     "text": [
      "\u001b[1m----------Variables and granularities (legend)----------\u001b[0m\n",
      "a: MNOOperator\n",
      "b: BackgroundCharacteristics\n",
      "c: VehicleCount\n",
      "d: Destination\n",
      "   d0: Neighbourhood\n",
      "   d1: Municipality\n",
      "   d2: Cell tower\n",
      "e: SampleInclusion\n",
      "   e0: NTS sampling design\n",
      "f: HasSensor\n",
      "   f0: Has traffic loop sensor\n",
      "l: Location\n",
      "   l0: Neighbourhood\n",
      "   l1: Municipality\n",
      "   l2: Cell tower\n",
      "m: Modality\n",
      "n: SimCount\n",
      "o: Origin\n",
      "   o0: Neighbourhood\n",
      "   o1: Municipality\n",
      "   o2: Cell tower\n",
      "p: Persons\n",
      "q: TripPurpose\n",
      "r: Route\n",
      "s: RoadSegment\n",
      "t: Time\n",
      "   t0: Minute\n",
      "   t1: 5 minute interval\n",
      "   t2: Day part\n",
      "   t3: Hour\n",
      "   t4: Day\n",
      "   t5: Year\n",
      "\u001b[1m----------Sets of included units (legend)----------\u001b[0m\n",
      "I: {p_0 -- }\n",
      "II: {p_0 -- e_0: {1}}\n",
      "III: {p_0 -- a_0: {0}}\n",
      "XI: {s_0 -- }\n",
      "XII: {s_0 -- f_0: {1}, m_0: {car, motorbike}}\n",
      "\u001b[1m----------Data sets (legend)----------\u001b[0m\n",
      "NTS survey (b_0, m_0, q_0 | p_0, r_0, t_1)_II: \n",
      "   BackgroundCharacteristics[], Modality[], TripPurpose[] \n",
      "   per \n",
      "   Persons[], Route[], Time[5 minute interval] \n",
      "   for set of included units II.\n",
      "Population Register (b_0, d_0, o_0 | p_0, t_2)_I: \n",
      "   BackgroundCharacteristics[], Destination[Neighbourhood], Origin[Neighbourhood] \n",
      "   per \n",
      "   Persons[], Time[Day part] \n",
      "   for set of included units I.\n",
      "Census (b_0, p_0 | d_0, o_0)_I: \n",
      "   BackgroundCharacteristics[], Persons[] \n",
      "   per \n",
      "   Destination[Neighbourhood], Origin[Neighbourhood] \n",
      "   for set of included units I.\n",
      "Traffic Loops (c_0 | m_0, s_0, t_0)_XII: \n",
      "   VehicleCount[] \n",
      "   per \n",
      "   Modality[], RoadSegment[], Time[Minute] \n",
      "   for set of included units XII.\n",
      "route data (s_0 | d_0, o_0, r_0)_I: \n",
      "   RoadSegment[] \n",
      "   per \n",
      "   Destination[Neighbourhood], Origin[Neighbourhood], Route[] \n",
      "   for set of included units I.\n"
     ]
    },
    {
     "data": {
      "application/vnd.jupyter.widget-view+json": {
       "model_id": "3e9297a29afe4532b1f7e34032904bf1",
       "version_major": 2,
       "version_minor": 0
      },
      "text/plain": [
       "Dropdown(description='Select available provider:', layout=Layout(width='max-content'), options=('Single provid…"
      ]
     },
     "metadata": {},
     "output_type": "display_data"
    },
    {
     "data": {
      "application/vnd.jupyter.widget-view+json": {
       "model_id": "22f89f8a7fa34283a6b2d4d91b1be332",
       "version_major": 2,
       "version_minor": 0
      },
      "text/plain": [
       "Dropdown(description='Is home location available?', layout=Layout(width='max-content'), options=('Home locatio…"
      ]
     },
     "metadata": {},
     "output_type": "display_data"
    },
    {
     "data": {
      "application/vnd.jupyter.widget-view+json": {
       "model_id": "54688796e6c14a84a8b95644f552d11c",
       "version_major": 2,
       "version_minor": 0
      },
      "text/plain": [
       "VBox(children=(Label(value='Select input data sets:'), VBox(children=(Checkbox(value=True, description='NTS su…"
      ]
     },
     "metadata": {},
     "output_type": "display_data"
    },
    {
     "data": {
      "application/vnd.jupyter.widget-view+json": {
       "model_id": "56d36ac5ff754efcb10097380636ca1c",
       "version_major": 2,
       "version_minor": 0
      },
      "text/plain": [
       "VBox(children=(Label(value='Select input models:'), VBox(children=(Checkbox(value=True, description='Modality …"
      ]
     },
     "metadata": {},
     "output_type": "display_data"
    },
    {
     "data": {
      "application/vnd.jupyter.widget-view+json": {
       "model_id": "88ba9b9dd1dd4a1bb5feb738ea76024e",
       "version_major": 2,
       "version_minor": 0
      },
      "text/plain": [
       "VBox(children=(Label(value='Select target output:'), VBox(children=(Checkbox(value=True, description='Commuter…"
      ]
     },
     "metadata": {},
     "output_type": "display_data"
    },
    {
     "data": {
      "application/vnd.jupyter.widget-view+json": {
       "model_id": "ca884f35acac4c49afbd2f57ae3a0a04",
       "version_major": 2,
       "version_minor": 0
      },
      "text/plain": [
       "Button(description='Proceed to next step', layout=Layout(width='max-content'), style=ButtonStyle())"
      ]
     },
     "metadata": {},
     "output_type": "display_data"
    },
    {
     "data": {
      "application/vnd.jupyter.widget-view+json": {
       "model_id": "287b33a132834898ad042715abbb9f19",
       "version_major": 2,
       "version_minor": 0
      },
      "text/plain": [
       "Output()"
      ]
     },
     "metadata": {},
     "output_type": "display_data"
    },
    {
     "data": {
      "application/vnd.jupyter.widget-view+json": {
       "model_id": "af7632d0ce234362a867e0c3b113ac69",
       "version_major": 2,
       "version_minor": 0
      },
      "text/plain": [
       "Button(description='Yes, analyse scenario', layout=Layout(width='max-content'), style=ButtonStyle())"
      ]
     },
     "metadata": {},
     "output_type": "display_data"
    },
    {
     "data": {
      "application/vnd.jupyter.widget-view+json": {
       "model_id": "e0f28958975c4dcaa000cd9839d10cb3",
       "version_major": 2,
       "version_minor": 0
      },
      "text/plain": [
       "Output()"
      ]
     },
     "metadata": {},
     "output_type": "display_data"
    }
   ],
   "source": [
    "import metadata_analysis as md\n",
    "from ipynb.fs.full.case_essnet import *"
   ]
  }
 ],
 "metadata": {
  "kernelspec": {
   "display_name": "phdenv",
   "language": "python",
   "name": "python3"
  },
  "language_info": {
   "codemirror_mode": {
    "name": "ipython",
    "version": 3
   },
   "file_extension": ".py",
   "mimetype": "text/x-python",
   "name": "python",
   "nbconvert_exporter": "python",
   "pygments_lexer": "ipython3",
   "version": "3.12.2"
  }
 },
 "nbformat": 4,
 "nbformat_minor": 5
}
