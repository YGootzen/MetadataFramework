{
 "cells": [
  {
   "cell_type": "markdown",
   "id": "distributed-limitation",
   "metadata": {},
   "source": [
    "# Metadata analysis for combining data sets\n",
    "### Introduction\n",
    "This notebook presents a specifically tailored application to MNO data. It both illustrates the capabilities of metadata analysis, as well as enables those interested in combining MNO data with other data sets to analyse various scenario’s. Metadata from sources such as census data, MNO data, national travel survey,  and population register are preloaded. Metadata of models such as calibration from sim card to person, modality choice and shortest path are preloaded. The user can make a selection from these preloaded data sets and models, creating a specific scenario to be explored. Users may extend the framework by adding new data sets and models, thereby broadening the range of scenarios that can be analysed.\n",
    "\n",
    "For given user input, the framework is able to answer questions such as “Can an intended output be created from a given set of input data?” and “If so, what sequence of processing steps is then needed?”. The required input consists of several parts. \n",
    "* A list of available data sets, including administrative records, survey data, and other data sets such as sensor data, along with the variables included in each data set. \n",
    "* The relations between granularities of the variables across different data sets. \n",
    "* Available models defined by input and output data sets only, without the need to specify algorithmic details. \n",
    "* The target output is required in the form of a single data set, specified by a set of variables that the user wishes to generate. \n",
    "\n",
    "A python program automatically searches if the available models and data sets can lead to the desired target output. If possible, a path will be provided consisting of all analysis steps in chronological order required to create the target output. The resulting software is currently being prepared for open-source release as a python package. \n",
    "\n",
    "\n",
    "\n",
    "### How to use\n",
    "Use the run button (on the left of the grey box beneath \"Run analysis\") or `Ctrl+Enter` to activate the analysis. \n",
    "1. A legend will apear explaining the available variables and granularities used to define all other relevant objects for the analysis: data sets, sets of included units and models. \n",
    "2. Prompts are shown where you can specify the scenario you wish to analyse. \n",
    "3. Inspect and analyse the scenario, which means a path will be searched for between the available input data sets to the target output."
   ]
  },
  {
   "cell_type": "markdown",
   "id": "08bc7d6f",
   "metadata": {},
   "source": [
    "## Run analysis"
   ]
  },
  {
   "cell_type": "code",
   "execution_count": null,
   "id": "6b708a30",
   "metadata": {},
   "outputs": [],
   "source": [
    "import metadata_analysis as md\n",
    "from ipynb.fs.full.case_essnet import *"
   ]
  }
 ],
 "metadata": {
  "kernelspec": {
   "display_name": "phdenv",
   "language": "python",
   "name": "python3"
  },
  "language_info": {
   "codemirror_mode": {
    "name": "ipython",
    "version": 3
   },
   "file_extension": ".py",
   "mimetype": "text/x-python",
   "name": "python",
   "nbconvert_exporter": "python",
   "pygments_lexer": "ipython3",
   "version": "3.12.2"
  }
 },
 "nbformat": 4,
 "nbformat_minor": 5
}
